{
 "cells": [
  {
   "cell_type": "markdown",
   "source": [
    "# Semantic Search\n",
    "\n",
    "__Outline__\n",
    "1. Product Search\n",
    "2. User Search & Analytics\n",
    "3. Personalized Product Search\n",
    "4. Recommendations\n"
   ],
   "metadata": {
    "collapsed": false
   }
  },
  {
   "cell_type": "markdown",
   "source": [
    "## Setup"
   ],
   "metadata": {
    "collapsed": false
   }
  },
  {
   "cell_type": "code",
   "execution_count": 1,
   "outputs": [
    {
     "data": {
      "text/plain": "'1.8'"
     },
     "execution_count": 1,
     "metadata": {},
     "output_type": "execute_result"
    }
   ],
   "source": [
    "import graphdatascience\n",
    "graphdatascience.__version__"
   ],
   "metadata": {
    "collapsed": false
   }
  },
  {
   "cell_type": "code",
   "execution_count": 2,
   "outputs": [],
   "source": [
    "from graphdatascience import GraphDataScience\n",
    "from dotenv import load_dotenv\n",
    "import os\n",
    "import pandas as pd\n",
    "from langchain.embeddings import OpenAIEmbeddings, BedrockEmbeddings, SentenceTransformerEmbeddings"
   ],
   "metadata": {
    "collapsed": false
   }
  },
  {
   "cell_type": "code",
   "execution_count": 3,
   "outputs": [
    {
     "data": {
      "text/plain": "True"
     },
     "execution_count": 3,
     "metadata": {},
     "output_type": "execute_result"
    }
   ],
   "source": [
    "load_dotenv('.env', override=True)"
   ],
   "metadata": {
    "collapsed": false
   }
  },
  {
   "cell_type": "code",
   "execution_count": 4,
   "outputs": [],
   "source": [
    "def load_embedding_model(embedding_model_name: str):\n",
    "    if embedding_model_name == \"openai\":\n",
    "        embeddings = OpenAIEmbeddings()\n",
    "        dimension = 1536\n",
    "    elif embedding_model_name == \"aws\":\n",
    "        embeddings = BedrockEmbeddings()\n",
    "        dimension = 1536\n",
    "    else:\n",
    "        embeddings = SentenceTransformerEmbeddings(\n",
    "            model_name=\"all-MiniLM-L6-v2\", cache_folder=\"/embedding_model\"\n",
    "        )\n",
    "        dimension = 384\n",
    "    return embeddings, dimension"
   ],
   "metadata": {
    "collapsed": false
   }
  },
  {
   "cell_type": "code",
   "execution_count": 5,
   "outputs": [],
   "source": [
    "embedding_model, dimension = load_embedding_model(os.getenv('EMBEDDING_MODEL'))"
   ],
   "metadata": {
    "collapsed": false
   }
  },
  {
   "cell_type": "code",
   "execution_count": 6,
   "outputs": [],
   "source": [
    "# Use Neo4j URI and credentials according to our setup\n",
    "gds = GraphDataScience(\n",
    "    os.getenv('NEO4J_URI'),\n",
    "    auth=(os.getenv('NEO4J_USERNAME'),\n",
    "          os.getenv('NEO4J_PASSWORD')),\n",
    "    aura_ds=eval(os.getenv('AURA_DS').title()))\n",
    "\n",
    "# Necessary if you enabled Arrow on the db - this is true for AuraDS\n",
    "gds.set_database(\"neo4j\")"
   ],
   "metadata": {
    "collapsed": false
   }
  },
  {
   "cell_type": "code",
   "execution_count": 7,
   "outputs": [
    {
     "data": {
      "text/plain": "'2.4.7+36'"
     },
     "execution_count": 7,
     "metadata": {},
     "output_type": "execute_result"
    }
   ],
   "source": [
    "gds.version()"
   ],
   "metadata": {
    "collapsed": false
   }
  },
  {
   "cell_type": "markdown",
   "source": [
    "## Product Search\n",
    "Basic product search using vector index"
   ],
   "metadata": {
    "collapsed": false
   }
  },
  {
   "cell_type": "markdown",
   "source": [
    "### Simple Vector Search"
   ],
   "metadata": {
    "collapsed": false
   }
  },
  {
   "cell_type": "code",
   "execution_count": 19,
   "outputs": [],
   "source": [
    "#search_prompt = 'denim jeans, loose fit, high-waist'\n",
    "search_prompt = 'winter sweater with zipper'"
   ],
   "metadata": {
    "collapsed": false
   }
  },
  {
   "cell_type": "code",
   "execution_count": 20,
   "outputs": [
    {
     "name": "stdout",
     "output_type": "stream",
     "text": [
      "query vector length: 1536\n",
      "query vector sample: [-0.015789851900646152, -0.016043451043405262, -0.0007345184150149719, -0.02067496301439282, -0.02582701912369235, 0.013814452414296814, -0.009449886370184712, -0.010043841080765668, 0.0030231627848459975, -0.019406969163242457]\n"
     ]
    }
   ],
   "source": [
    "query_vector = embedding_model.embed_query(search_prompt)\n",
    "print(f'query vector length: {len(query_vector)}')\n",
    "print(f'query vector sample: {query_vector[:10]}')"
   ],
   "metadata": {
    "collapsed": false
   }
  },
  {
   "cell_type": "code",
   "execution_count": 21,
   "outputs": [
    {
     "data": {
      "text/plain": "                    prodName productTypeName   garmentGroupName  \\\n0                Catfish Zip         Sweater           Knitwear   \n1     Reena Half Zip sweater         Sweater       Jersey Fancy   \n2              Allen Sweater         Sweater       Jersey Fancy   \n3                 Winnie top         Sweater           Knitwear   \n4  Zebra sweater TOP PRODUCT         Sweater       Jersey Fancy   \n5                    stuvsta         Sweater  Under-, Nightwear   \n6          Sheffield Sweater         Sweater           Knitwear   \n7            Plum turtleneck         Sweater           Knitwear   \n8            Maurice sweater         Sweater           Knitwear   \n9              Janet sweater         Sweater           Knitwear   \n\n                                          detailDesc     score  \n0  Soft, textured-knit jumper with a ribbed stand...  0.933365  \n1  Sports top in fast-drying functional fabric wi...  0.925679  \n2  Top in sweatshirt fabric made from a cotton bl...  0.925364  \n3  Jumper in a soft rib knit with a turtle neck a...  0.924936  \n4  Top in lightweight, printed sweatshirt fabric ...  0.923741  \n5  Fitted jumper in an airy rib knit with a turtl...  0.922499  \n6  Turtleneck jumper in a soft, textured knit wit...  0.922328  \n7  Fitted jumper in a soft rib knit with a turtle...  0.921849  \n8     Jumper in a soft rib knit with dolman sleeves.  0.921630  \n9  Long-sleeved jumper in a soft, fine knit with ...  0.921141  ",
      "text/html": "<div>\n<style scoped>\n    .dataframe tbody tr th:only-of-type {\n        vertical-align: middle;\n    }\n\n    .dataframe tbody tr th {\n        vertical-align: top;\n    }\n\n    .dataframe thead th {\n        text-align: right;\n    }\n</style>\n<table border=\"1\" class=\"dataframe\">\n  <thead>\n    <tr style=\"text-align: right;\">\n      <th></th>\n      <th>prodName</th>\n      <th>productTypeName</th>\n      <th>garmentGroupName</th>\n      <th>detailDesc</th>\n      <th>score</th>\n    </tr>\n  </thead>\n  <tbody>\n    <tr>\n      <th>0</th>\n      <td>Catfish Zip</td>\n      <td>Sweater</td>\n      <td>Knitwear</td>\n      <td>Soft, textured-knit jumper with a ribbed stand...</td>\n      <td>0.933365</td>\n    </tr>\n    <tr>\n      <th>1</th>\n      <td>Reena Half Zip sweater</td>\n      <td>Sweater</td>\n      <td>Jersey Fancy</td>\n      <td>Sports top in fast-drying functional fabric wi...</td>\n      <td>0.925679</td>\n    </tr>\n    <tr>\n      <th>2</th>\n      <td>Allen Sweater</td>\n      <td>Sweater</td>\n      <td>Jersey Fancy</td>\n      <td>Top in sweatshirt fabric made from a cotton bl...</td>\n      <td>0.925364</td>\n    </tr>\n    <tr>\n      <th>3</th>\n      <td>Winnie top</td>\n      <td>Sweater</td>\n      <td>Knitwear</td>\n      <td>Jumper in a soft rib knit with a turtle neck a...</td>\n      <td>0.924936</td>\n    </tr>\n    <tr>\n      <th>4</th>\n      <td>Zebra sweater TOP PRODUCT</td>\n      <td>Sweater</td>\n      <td>Jersey Fancy</td>\n      <td>Top in lightweight, printed sweatshirt fabric ...</td>\n      <td>0.923741</td>\n    </tr>\n    <tr>\n      <th>5</th>\n      <td>stuvsta</td>\n      <td>Sweater</td>\n      <td>Under-, Nightwear</td>\n      <td>Fitted jumper in an airy rib knit with a turtl...</td>\n      <td>0.922499</td>\n    </tr>\n    <tr>\n      <th>6</th>\n      <td>Sheffield Sweater</td>\n      <td>Sweater</td>\n      <td>Knitwear</td>\n      <td>Turtleneck jumper in a soft, textured knit wit...</td>\n      <td>0.922328</td>\n    </tr>\n    <tr>\n      <th>7</th>\n      <td>Plum turtleneck</td>\n      <td>Sweater</td>\n      <td>Knitwear</td>\n      <td>Fitted jumper in a soft rib knit with a turtle...</td>\n      <td>0.921849</td>\n    </tr>\n    <tr>\n      <th>8</th>\n      <td>Maurice sweater</td>\n      <td>Sweater</td>\n      <td>Knitwear</td>\n      <td>Jumper in a soft rib knit with dolman sleeves.</td>\n      <td>0.921630</td>\n    </tr>\n    <tr>\n      <th>9</th>\n      <td>Janet sweater</td>\n      <td>Sweater</td>\n      <td>Knitwear</td>\n      <td>Long-sleeved jumper in a soft, fine knit with ...</td>\n      <td>0.921141</td>\n    </tr>\n  </tbody>\n</table>\n</div>"
     },
     "execution_count": 21,
     "metadata": {},
     "output_type": "execute_result"
    }
   ],
   "source": [
    "gds.run_cypher('''\n",
    "CALL db.index.vector.queryNodes(\"product-text-embeddings\", 10, $queryVector)\n",
    "YIELD node AS product, score\n",
    "RETURN product.prodName AS prodName,\n",
    "    product.productTypeName AS productTypeName,\n",
    "    product.garmentGroupName AS garmentGroupName,\n",
    "    product.detailDesc AS detailDesc,\n",
    "    score\n",
    "''', params={'queryVector': query_vector})"
   ],
   "metadata": {
    "collapsed": false
   }
  },
  {
   "cell_type": "code",
   "execution_count": null,
   "outputs": [],
   "source": [],
   "metadata": {
    "collapsed": false
   }
  }
 ],
 "metadata": {
  "kernelspec": {
   "display_name": "Python 3",
   "language": "python",
   "name": "python3"
  },
  "language_info": {
   "codemirror_mode": {
    "name": "ipython",
    "version": 2
   },
   "file_extension": ".py",
   "mimetype": "text/x-python",
   "name": "python",
   "nbconvert_exporter": "python",
   "pygments_lexer": "ipython2",
   "version": "2.7.6"
  }
 },
 "nbformat": 4,
 "nbformat_minor": 0
}
