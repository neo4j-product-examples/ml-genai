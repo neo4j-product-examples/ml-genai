{
 "cells": [
  {
   "cell_type": "markdown",
   "id": "4fd19f8c-2f3b-40d9-93d6-2bed6b76cc47",
   "metadata": {
    "tags": []
   },
   "source": [
    "# K-Nearest Neighbor (KNN) Similarity\n",
    "This notebook demonstrates running FastRP Embeddings and KNN across the H&M dataset of customer purchases.  Thes commands could be wrapped in a service or batch job to run & update on a recurring basis as the dataset is updated over time."
   ]
  },
  {
   "cell_type": "markdown",
   "source": [
    "## Setup"
   ],
   "metadata": {
    "collapsed": false
   }
  },
  {
   "cell_type": "code",
   "execution_count": 1,
   "id": "1b7fba45-0a87-40d4-930a-15fa9a95991a",
   "metadata": {},
   "outputs": [],
   "source": [
    "from graphdatascience import GraphDataScience\n",
    "from dotenv import load_dotenv\n",
    "import os\n",
    "import pandas as pd"
   ]
  },
  {
   "cell_type": "code",
   "execution_count": 2,
   "outputs": [],
   "source": [
    "load_dotenv('.env', override=True)\n",
    "\n",
    "# Use Neo4j URI and credentials according to our setup\n",
    "gds = GraphDataScience(\n",
    "    os.getenv('NEO4J_URI'),\n",
    "    auth=(os.getenv('NEO4J_USERNAME'),\n",
    "          os.getenv('NEO4J_PASSWORD')),\n",
    "    aura_ds=eval(os.getenv('AURA_DS').title()))\n",
    "\n",
    "# Necessary if you enabled Arrow on the db - this is true for AuraDS\n",
    "gds.set_database(\"neo4j\")"
   ],
   "metadata": {
    "collapsed": false
   }
  },
  {
   "cell_type": "code",
   "execution_count": 3,
   "id": "65ecccc1-c965-488d-98e6-4e0878720c23",
   "metadata": {},
   "outputs": [],
   "source": [
    "def clear_all_graphs():\n",
    "    g_names = gds.graph.list().graphName.tolist()\n",
    "    for g_name in g_names:\n",
    "        g = gds.graph.get(g_name)\n",
    "        g.drop()"
   ]
  },
  {
   "cell_type": "markdown",
   "id": "e1564628-aec8-4125-b819-4e46eeac5c3a",
   "metadata": {},
   "source": [
    "## Clear Past Analysis"
   ]
  },
  {
   "cell_type": "code",
   "execution_count": 4,
   "id": "3a0056cd-d787-4e34-a4b4-242d0e6e06c6",
   "metadata": {},
   "outputs": [],
   "source": [
    "clear_all_graphs()"
   ]
  },
  {
   "cell_type": "code",
   "execution_count": 5,
   "outputs": [
    {
     "data": {
      "text/plain": "Empty DataFrame\nColumns: []\nIndex: []",
      "text/html": "<div>\n<style scoped>\n    .dataframe tbody tr th:only-of-type {\n        vertical-align: middle;\n    }\n\n    .dataframe tbody tr th {\n        vertical-align: top;\n    }\n\n    .dataframe thead th {\n        text-align: right;\n    }\n</style>\n<table border=\"1\" class=\"dataframe\">\n  <thead>\n    <tr style=\"text-align: right;\">\n      <th></th>\n    </tr>\n  </thead>\n  <tbody>\n  </tbody>\n</table>\n</div>"
     },
     "execution_count": 5,
     "metadata": {},
     "output_type": "execute_result"
    }
   ],
   "source": [
    "gds.run_cypher('MATCH(:Article)-[r:CUSTOMERS_ALSO_PURCHASED]->() DELETE r')"
   ],
   "metadata": {
    "collapsed": false
   }
  },
  {
   "cell_type": "markdown",
   "id": "7bfcda41-0e69-4520-8565-7b087bab8b63",
   "metadata": {},
   "source": [
    "## Apply GDS FastRP Node Embeddings and K-Nearest Neighbor (KNN) Similarity\n"
   ]
  },
  {
   "cell_type": "markdown",
   "source": [
    "First apply a graph projection to structure the portion of the graph we need in an optimized in-memory format for graph ML."
   ],
   "metadata": {
    "collapsed": false
   }
  },
  {
   "cell_type": "code",
   "execution_count": null,
   "outputs": [],
   "source": [
    "%%time\n",
    "# graph projection\n",
    "g, _ = gds.graph.project('proj',['Customer', 'Article', 'Product'],\n",
    "                         {'PURCHASED':{'orientation':'UNDIRECTED'}, 'VARIANT_OF':{'orientation':'UNDIRECTED'}},\n",
    "                         readConcurrency=20)"
   ],
   "metadata": {
    "collapsed": false
   }
  },
  {
   "cell_type": "markdown",
   "source": [
    "Next, we will generate node embeddings for similarity calculation.  In this case we will use FastRP (Fast Random Projection) which is a fast, scalable, and robust embedding algorithm. FastRP calculates embeddings using probabilistic sampling and linear algebra."
   ],
   "metadata": {
    "collapsed": false
   }
  },
  {
   "cell_type": "code",
   "execution_count": null,
   "outputs": [],
   "source": [
    "# embeddings (writing back Article embeddings in case we want to introspect later)\n",
    "gds.fastRP.mutate(g, mutateProperty='embedding', embeddingDimension=256, randomSeed=7474, concurrency=20)\n",
    "gds.graph.writeNodeProperties(g, ['embedding'], ['Article'])"
   ],
   "metadata": {
    "collapsed": false
   }
  },
  {
   "cell_type": "markdown",
   "source": [
    "This is what the node embeddings look like:"
   ],
   "metadata": {
    "collapsed": false
   }
  },
  {
   "cell_type": "code",
   "execution_count": 8,
   "outputs": [
    {
     "data": {
      "text/plain": "   n.articleId                                        n.embedding\n0    108775015  [0.05234747380018234, 0.13151785731315613, -0....\n1    108775044  [0.055843550711870193, 0.06728993356227875, -0...\n2    110065001  [-0.029060423374176025, 0.05402792617678642, -...",
      "text/html": "<div>\n<style scoped>\n    .dataframe tbody tr th:only-of-type {\n        vertical-align: middle;\n    }\n\n    .dataframe tbody tr th {\n        vertical-align: top;\n    }\n\n    .dataframe thead th {\n        text-align: right;\n    }\n</style>\n<table border=\"1\" class=\"dataframe\">\n  <thead>\n    <tr style=\"text-align: right;\">\n      <th></th>\n      <th>n.articleId</th>\n      <th>n.embedding</th>\n    </tr>\n  </thead>\n  <tbody>\n    <tr>\n      <th>0</th>\n      <td>108775015</td>\n      <td>[0.05234747380018234, 0.13151785731315613, -0....</td>\n    </tr>\n    <tr>\n      <th>1</th>\n      <td>108775044</td>\n      <td>[0.055843550711870193, 0.06728993356227875, -0...</td>\n    </tr>\n    <tr>\n      <th>2</th>\n      <td>110065001</td>\n      <td>[-0.029060423374176025, 0.05402792617678642, -...</td>\n    </tr>\n  </tbody>\n</table>\n</div>"
     },
     "execution_count": 8,
     "metadata": {},
     "output_type": "execute_result"
    }
   ],
   "source": [
    "gds.run_cypher('MATCH(n:Article) RETURN n.articleId, n.embedding LIMIT 3')"
   ],
   "metadata": {
    "collapsed": false
   }
  },
  {
   "cell_type": "markdown",
   "source": [
    "Finally, we can do our Similarity inference with KNN and write back to the graph.\n",
    "We will use a slightly low cutoff of 0.75 similarity score to extend the result size for exploration.  We can provide a higher cutoff at query time if needed."
   ],
   "metadata": {
    "collapsed": false
   }
  },
  {
   "cell_type": "code",
   "execution_count": 9,
   "id": "ffc56962-a224-4e1b-a22e-75b734262875",
   "metadata": {},
   "outputs": [
    {
     "data": {
      "text/plain": "Knn:   0%|          | 0/100 [00:00<?, ?%/s]",
      "application/vnd.jupyter.widget-view+json": {
       "version_major": 2,
       "version_minor": 0,
       "model_id": "4266e3d91c7b49f5a25fc34177649418"
      }
     },
     "metadata": {},
     "output_type": "display_data"
    },
    {
     "name": "stdout",
     "output_type": "stream",
     "text": [
      "CPU times: user 108 ms, sys: 15.2 ms, total: 123 ms\n",
      "Wall time: 4.6 s\n"
     ]
    }
   ],
   "source": [
    "%%time\n",
    "# graph projection\n",
    "g, _ = gds.graph.project('proj',['Customer', 'Article', 'Product'],\n",
    "                         {'PURCHASED':{'orientation':'UNDIRECTED'}, 'VARIANT_OF':{'orientation':'UNDIRECTED'}},\n",
    "                         readConcurrency=20)\n",
    "\n",
    "# embeddings (writing back Article embeddings in case we want to introspect later)\n",
    "gds.fastRP.mutate(g, mutateProperty='embedding', embeddingDimension=256, randomSeed=7474, concurrency=20)\n",
    "gds.graph.writeNodeProperties(g, ['embedding'], ['Article'])\n",
    "\n",
    "# KNN\n",
    "gds.knn.write(g, nodeProperties=['embedding'], nodeLabels=['Article'],\n",
    "                  writeRelationshipType='CUSTOMERS_ALSO_PURCHASED', writeProperty='score', \n",
    "                  sampleRate=1.0,maxIterations=1000, similarityCutoff=0.75, concurrency=20);"
   ]
  },
  {
   "cell_type": "markdown",
   "source": [
    "## Clean Up"
   ],
   "metadata": {
    "collapsed": false
   }
  },
  {
   "cell_type": "code",
   "execution_count": 7,
   "id": "75733fc9-e6b4-4e1d-b63d-0b31ed593666",
   "metadata": {},
   "outputs": [
    {
     "data": {
      "text/plain": "graphName                                                             proj\ndatabase                                                             neo4j\nmemoryUsage                                                               \nsizeInBytes                                                             -1\nnodeCount                                                            35654\nrelationshipCount                                                   125412\nconfiguration            {'relationshipProjection': {'PURCHASED': {'agg...\ndensity                                                           0.000099\ncreationTime                           2023-10-26T17:36:31.990377882+00:00\nmodificationTime                       2023-10-26T17:36:33.358528963+00:00\nschema                   {'graphProperties': {}, 'nodes': {'Customer': ...\nschemaWithOrientation    {'graphProperties': {}, 'nodes': {'Customer': ...\nName: 0, dtype: object"
     },
     "execution_count": 7,
     "metadata": {},
     "output_type": "execute_result"
    }
   ],
   "source": [
    "g.drop()"
   ]
  },
  {
   "cell_type": "code",
   "execution_count": null,
   "outputs": [],
   "source": [],
   "metadata": {
    "collapsed": false
   }
  }
 ],
 "metadata": {
  "environment": {
   "kernel": "python3",
   "name": "tf2-gpu.2-8.m93",
   "type": "gcloud",
   "uri": "gcr.io/deeplearning-platform-release/tf2-gpu.2-8:m93"
  },
  "kernelspec": {
   "display_name": "Python 3",
   "language": "python",
   "name": "python3"
  },
  "language_info": {
   "codemirror_mode": {
    "name": "ipython",
    "version": 3
   },
   "file_extension": ".py",
   "mimetype": "text/x-python",
   "name": "python",
   "nbconvert_exporter": "python",
   "pygments_lexer": "ipython3",
   "version": "3.7.12"
  }
 },
 "nbformat": 4,
 "nbformat_minor": 5
}
