{
 "cells": [
  {
   "cell_type": "markdown",
   "id": "4fd19f8c-2f3b-40d9-93d6-2bed6b76cc47",
   "metadata": {
    "tags": []
   },
   "source": [
    "# K-Nearest Neighbor (KNN) Similarity\n",
    "This notebook demonstrates running FastRP Embeddings and KNN across the H&M dataset of customer purchases.  These commands could be wrapped in a service or batch job to run & update on a recurring basis as the dataset is updated over time."
   ]
  },
  {
   "cell_type": "markdown",
   "id": "04d11d76",
   "metadata": {},
   "source": [
    "## Setup"
   ]
  },
  {
   "cell_type": "code",
   "execution_count": 14,
   "id": "1b7fba45-0a87-40d4-930a-15fa9a95991a",
   "metadata": {},
   "outputs": [],
   "source": [
    "from graphdatascience import GraphDataScience\n",
    "from dotenv import load_dotenv\n",
    "import os\n",
    "import pandas as pd"
   ]
  },
  {
   "cell_type": "code",
   "execution_count": 15,
   "id": "bba7f96a",
   "metadata": {},
   "outputs": [],
   "source": [
    "pd.set_option('display.max_rows', 12)\n",
    "pd.set_option('display.max_colwidth', 500)\n",
    "pd.set_option('display.width', 0)"
   ]
  },
  {
   "cell_type": "code",
   "execution_count": 16,
   "id": "78fed690",
   "metadata": {},
   "outputs": [],
   "source": [
    "load_dotenv('.env', override=True)\n",
    "\n",
    "# Use Neo4j URI and credentials according to our setup\n",
    "gds = GraphDataScience(\n",
    "    os.getenv('NEO4J_URI'),\n",
    "    auth=(os.getenv('NEO4J_USERNAME'),\n",
    "          os.getenv('NEO4J_PASSWORD')),\n",
    "    aura_ds=eval(os.getenv('AURA_DS').title()))\n",
    "\n",
    "# Necessary if you enabled Arrow on the db - this is true for AuraDS\n",
    "gds.set_database(\"neo4j\")"
   ]
  },
  {
   "cell_type": "code",
   "execution_count": 17,
   "id": "65ecccc1-c965-488d-98e6-4e0878720c23",
   "metadata": {},
   "outputs": [],
   "source": [
    "def clear_all_graphs():\n",
    "    g_names = gds.graph.list().graphName.tolist()\n",
    "    for g_name in g_names:\n",
    "        g = gds.graph.get(g_name)\n",
    "        g.drop()"
   ]
  },
  {
   "cell_type": "markdown",
   "id": "e1564628-aec8-4125-b819-4e46eeac5c3a",
   "metadata": {},
   "source": [
    "## Clear Past Analysis"
   ]
  },
  {
   "cell_type": "code",
   "execution_count": 18,
   "id": "3a0056cd-d787-4e34-a4b4-242d0e6e06c6",
   "metadata": {},
   "outputs": [],
   "source": [
    "clear_all_graphs()"
   ]
  },
  {
   "cell_type": "code",
   "execution_count": 19,
   "id": "06a01be2",
   "metadata": {},
   "outputs": [
    {
     "data": {
      "text/html": [
       "<div>\n",
       "<style scoped>\n",
       "    .dataframe tbody tr th:only-of-type {\n",
       "        vertical-align: middle;\n",
       "    }\n",
       "\n",
       "    .dataframe tbody tr th {\n",
       "        vertical-align: top;\n",
       "    }\n",
       "\n",
       "    .dataframe thead th {\n",
       "        text-align: right;\n",
       "    }\n",
       "</style>\n",
       "<table border=\"1\" class=\"dataframe\">\n",
       "  <thead>\n",
       "    <tr style=\"text-align: right;\">\n",
       "      <th></th>\n",
       "    </tr>\n",
       "  </thead>\n",
       "  <tbody>\n",
       "  </tbody>\n",
       "</table>\n",
       "</div>"
      ],
      "text/plain": [
       "Empty DataFrame\n",
       "Columns: []\n",
       "Index: []"
      ]
     },
     "execution_count": 19,
     "metadata": {},
     "output_type": "execute_result"
    }
   ],
   "source": [
    "gds.run_cypher('MATCH(:Article)-[r:CUSTOMERS_ALSO_PURCHASED]->() DELETE r')"
   ]
  },
  {
   "cell_type": "markdown",
   "id": "7bfcda41-0e69-4520-8565-7b087bab8b63",
   "metadata": {},
   "source": [
    "## Apply GDS FastRP Node Embeddings and K-Nearest Neighbor (KNN) Similarity\n"
   ]
  },
  {
   "cell_type": "markdown",
   "id": "bc5d05a5",
   "metadata": {},
   "source": [
    "First, apply a graph projection to structure the portion of the graph we need in an optimized in-memory format for graph ML."
   ]
  },
  {
   "cell_type": "code",
   "execution_count": 20,
   "id": "cbbfbeab",
   "metadata": {},
   "outputs": [
    {
     "name": "stdout",
     "output_type": "stream",
     "text": [
      "CPU times: user 7.58 ms, sys: 5.03 ms, total: 12.6 ms\n",
      "Wall time: 248 ms\n"
     ]
    }
   ],
   "source": [
    "%%time\n",
    "# graph projection\n",
    "g, _ = gds.graph.project('proj',['Customer', 'Article', 'Product'],\n",
    "                         {'PURCHASED':{'orientation':'UNDIRECTED'}, 'VARIANT_OF':{'orientation':'UNDIRECTED'}},\n",
    "                         readConcurrency=20)"
   ]
  },
  {
   "cell_type": "markdown",
   "id": "e6533c3c",
   "metadata": {},
   "source": [
    "Next, we will generate node embeddings for similarity calculation.  In this case, we will use FastRP (Fast Random Projection) which is a fast, scalable, and robust embedding algorithm. FastRP calculates embeddings using probabilistic sampling and linear algebra."
   ]
  },
  {
   "cell_type": "code",
   "execution_count": 21,
   "id": "0faa22df",
   "metadata": {},
   "outputs": [
    {
     "name": "stdout",
     "output_type": "stream",
     "text": [
      "CPU times: user 11 ms, sys: 4.95 ms, total: 16 ms\n",
      "Wall time: 559 ms\n"
     ]
    },
    {
     "data": {
      "text/plain": [
       "writeMillis                  105\n",
       "graphName                   proj\n",
       "nodeProperties       [embedding]\n",
       "propertiesWritten          21596\n",
       "Name: 0, dtype: object"
      ]
     },
     "execution_count": 21,
     "metadata": {},
     "output_type": "execute_result"
    }
   ],
   "source": [
    "%%time\n",
    "# embeddings (writing back Article embeddings in case we want to introspect later)\n",
    "gds.fastRP.mutate(g, mutateProperty='embedding', embeddingDimension=256, randomSeed=7474, concurrency=20)\n",
    "gds.graph.writeNodeProperties(g, ['embedding'], ['Article'])"
   ]
  },
  {
   "cell_type": "markdown",
   "id": "61d8c2db",
   "metadata": {},
   "source": [
    "This is what the node embeddings look like:"
   ]
  },
  {
   "cell_type": "code",
   "execution_count": 22,
   "id": "6c12118d",
   "metadata": {},
   "outputs": [
    {
     "data": {
      "text/html": [
       "<div>\n",
       "<style scoped>\n",
       "    .dataframe tbody tr th:only-of-type {\n",
       "        vertical-align: middle;\n",
       "    }\n",
       "\n",
       "    .dataframe tbody tr th {\n",
       "        vertical-align: top;\n",
       "    }\n",
       "\n",
       "    .dataframe thead th {\n",
       "        text-align: right;\n",
       "    }\n",
       "</style>\n",
       "<table border=\"1\" class=\"dataframe\">\n",
       "  <thead>\n",
       "    <tr style=\"text-align: right;\">\n",
       "      <th></th>\n",
       "      <th>n.articleId</th>\n",
       "      <th>n.embedding</th>\n",
       "    </tr>\n",
       "  </thead>\n",
       "  <tbody>\n",
       "    <tr>\n",
       "      <th>0</th>\n",
       "      <td>108775015</td>\n",
       "      <td>[0.05234747380018234, 0.13151785731315613, -0.05253056809306145, -0.041636157780885696, 0.11699235439300537, -0.10946889221668243, -0.07382769137620926, -0.020323529839515686, 0.013979077339172363, 0.1326017528772354, -0.06144546717405319, 0.16738006472587585, -0.09897221624851227, 0.0878610908985138, -0.020181160420179367, 0.03383782505989075, 0.03157186508178711, 0.06264729052782059, -0.061635278165340424, -0.04274582862854004, -0.05333463102579117, 0.008594872429966927, -0.006356884725391...</td>\n",
       "    </tr>\n",
       "    <tr>\n",
       "      <th>1</th>\n",
       "      <td>108775044</td>\n",
       "      <td>[0.055843550711870193, 0.06728993356227875, -0.032038092613220215, -0.06382659077644348, 0.15777777135372162, -0.004036028869450092, 0.1188691258430481, -0.0810934454202652, 0.07403451949357986, 0.02506580390036106, -0.06376611441373825, 0.09702759981155396, -0.14350834488868713, 0.10597515106201172, -0.08877047896385193, -0.017673328518867493, -0.06682626903057098, 0.10495038330554962, 0.023164458572864532, -0.07564680278301239, 0.05063466727733612, 0.14934001863002777, 0.003125160932540893...</td>\n",
       "    </tr>\n",
       "    <tr>\n",
       "      <th>2</th>\n",
       "      <td>110065001</td>\n",
       "      <td>[-0.029060423374176025, 0.05402792617678642, -0.015207819640636444, 0.060010239481925964, -0.09379316866397858, -0.05362923443317413, -0.056747082620859146, 0.03353670984506607, 0.0766131803393364, -0.06844352185726166, -0.06377026438713074, 0.0030390238389372826, 0.007028941065073013, -0.16843706369400024, -0.02670716866850853, 0.12507864832878113, -0.11475594341754913, -0.007393300533294678, 0.06577442586421967, -0.03280405327677727, 0.009825348854064941, 0.017182160168886185, 0.0515425056...</td>\n",
       "    </tr>\n",
       "  </tbody>\n",
       "</table>\n",
       "</div>"
      ],
      "text/plain": [
       "   n.articleId  \\\n",
       "0    108775015   \n",
       "1    108775044   \n",
       "2    110065001   \n",
       "\n",
       "                                                                                                                                                                                                                                                                                                                                                                                                                                                                                                           n.embedding  \n",
       "0  [0.05234747380018234, 0.13151785731315613, -0.05253056809306145, -0.041636157780885696, 0.11699235439300537, -0.10946889221668243, -0.07382769137620926, -0.020323529839515686, 0.013979077339172363, 0.1326017528772354, -0.06144546717405319, 0.16738006472587585, -0.09897221624851227, 0.0878610908985138, -0.020181160420179367, 0.03383782505989075, 0.03157186508178711, 0.06264729052782059, -0.061635278165340424, -0.04274582862854004, -0.05333463102579117, 0.008594872429966927, -0.006356884725391...  \n",
       "1  [0.055843550711870193, 0.06728993356227875, -0.032038092613220215, -0.06382659077644348, 0.15777777135372162, -0.004036028869450092, 0.1188691258430481, -0.0810934454202652, 0.07403451949357986, 0.02506580390036106, -0.06376611441373825, 0.09702759981155396, -0.14350834488868713, 0.10597515106201172, -0.08877047896385193, -0.017673328518867493, -0.06682626903057098, 0.10495038330554962, 0.023164458572864532, -0.07564680278301239, 0.05063466727733612, 0.14934001863002777, 0.003125160932540893...  \n",
       "2  [-0.029060423374176025, 0.05402792617678642, -0.015207819640636444, 0.060010239481925964, -0.09379316866397858, -0.05362923443317413, -0.056747082620859146, 0.03353670984506607, 0.0766131803393364, -0.06844352185726166, -0.06377026438713074, 0.0030390238389372826, 0.007028941065073013, -0.16843706369400024, -0.02670716866850853, 0.12507864832878113, -0.11475594341754913, -0.007393300533294678, 0.06577442586421967, -0.03280405327677727, 0.009825348854064941, 0.017182160168886185, 0.0515425056...  "
      ]
     },
     "execution_count": 22,
     "metadata": {},
     "output_type": "execute_result"
    }
   ],
   "source": [
    "gds.run_cypher('MATCH(n:Article) RETURN n.articleId, n.embedding LIMIT 3')"
   ]
  },
  {
   "cell_type": "markdown",
   "id": "7ae96c31",
   "metadata": {},
   "source": [
    "Finally, we can do our similarity inference with K-Nearest Neighbor (KNN) and write back to the graph.\n",
    "We will use a slightly low cutoff of 0.75 similarity score to extend the result size for exploration.  We can provide a higher cutoff at query time if needed."
   ]
  },
  {
   "cell_type": "code",
   "execution_count": 23,
   "id": "ffc56962-a224-4e1b-a22e-75b734262875",
   "metadata": {},
   "outputs": [
    {
     "data": {
      "application/vnd.jupyter.widget-view+json": {
       "model_id": "9b0805504a044f8c94b85d2158cc7983",
       "version_major": 2,
       "version_minor": 0
      },
      "text/plain": [
       "Knn:   0%|          | 0/100 [00:00<?, ?%/s]"
      ]
     },
     "metadata": {},
     "output_type": "display_data"
    },
    {
     "name": "stdout",
     "output_type": "stream",
     "text": [
      "CPU times: user 178 ms, sys: 23.9 ms, total: 202 ms\n",
      "Wall time: 3.4 s\n"
     ]
    }
   ],
   "source": [
    "%%time\n",
    "# KNN\n",
    "gds.knn.write(g, nodeProperties=['embedding'], nodeLabels=['Article'],\n",
    "                  writeRelationshipType='CUSTOMERS_ALSO_PURCHASED', writeProperty='score', \n",
    "                  sampleRate=1.0,maxIterations=1000, similarityCutoff=0.75, concurrency=20);"
   ]
  },
  {
   "cell_type": "markdown",
   "id": "cf1b5d57",
   "metadata": {},
   "source": [
    "## Clean Up"
   ]
  },
  {
   "cell_type": "code",
   "execution_count": 11,
   "id": "75733fc9-e6b4-4e1d-b63d-0b31ed593666",
   "metadata": {},
   "outputs": [
    {
     "data": {
      "text/plain": [
       "graphName                                                                                                                                                                                                                                                                                                                                                                                                                                                                                                                               proj\n",
       "database                                                                                                                                                                                                                                                                                                                                                                                                                                                                                                                               neo4j\n",
       "memoryUsage                                                                                                                                                                                                                                                                                                                                                                                                                                                                                                                                 \n",
       "sizeInBytes                                                                                                                                                                                                                                                                                                                                                                                                                                                                                                                               -1\n",
       "nodeCount                                                                                                                                                                                                                                                                                                                                                                                                                                                                                                                              35654\n",
       "relationshipCount                                                                                                                                                                                                                                                                                                                                                                                                                                                                                                                     125412\n",
       "configuration            {'relationshipProjection': {'PURCHASED': {'aggregation': 'DEFAULT', 'orientation': 'UNDIRECTED', 'indexInverse': False, 'properties': {}, 'type': 'PURCHASED'}, 'VARIANT_OF': {'aggregation': 'DEFAULT', 'orientation': 'UNDIRECTED', 'indexInverse': False, 'properties': {}, 'type': 'VARIANT_OF'}}, 'readConcurrency': 20, 'relationshipProperties': {}, 'nodeProperties': {}, 'jobId': 'b78ece9c-4c00-4f8f-9f17-e34eae5ef645', 'nodeProjection': {'Customer': {'label': 'Customer', 'properties': {}}, 'Prod...\n",
       "density                                                                                                                                                                                                                                                                                                                                                                                                                                                                                                                             0.000099\n",
       "creationTime                                                                                                                                                                                                                                                                                                                                                                                                                                                                                             2023-10-26T20:42:38.012907969+00:00\n",
       "modificationTime                                                                                                                                                                                                                                                                                                                                                                                                                                                                                         2023-10-26T20:42:41.728871394+00:00\n",
       "schema                                                                                                                                                                                                            {'graphProperties': {}, 'nodes': {'Customer': {'embedding': 'List of Float (DefaultValue(null), TRANSIENT)'}, 'Product': {'embedding': 'List of Float (DefaultValue(null), TRANSIENT)'}, 'Article': {'embedding': 'List of Float (DefaultValue(null), TRANSIENT)'}}, 'relationships': {'PURCHASED': {}, 'VARIANT_OF': {}}}\n",
       "schemaWithOrientation                                                                                                       {'graphProperties': {}, 'nodes': {'Customer': {'embedding': 'List of Float (DefaultValue(null), TRANSIENT)'}, 'Product': {'embedding': 'List of Float (DefaultValue(null), TRANSIENT)'}, 'Article': {'embedding': 'List of Float (DefaultValue(null), TRANSIENT)'}}, 'relationships': {'PURCHASED': {'direction': 'UNDIRECTED', 'properties': {}}, 'VARIANT_OF': {'direction': 'UNDIRECTED', 'properties': {}}}}\n",
       "Name: 0, dtype: object"
      ]
     },
     "execution_count": 11,
     "metadata": {},
     "output_type": "execute_result"
    }
   ],
   "source": [
    "g.drop()"
   ]
  },
  {
   "cell_type": "code",
   "execution_count": null,
   "id": "f8b8ee4a",
   "metadata": {},
   "outputs": [],
   "source": []
  }
 ],
 "metadata": {
  "environment": {
   "kernel": "python3",
   "name": "tf2-gpu.2-8.m93",
   "type": "gcloud",
   "uri": "gcr.io/deeplearning-platform-release/tf2-gpu.2-8:m93"
  },
  "kernelspec": {
   "display_name": "Python 3 (ipykernel)",
   "language": "python",
   "name": "python3"
  },
  "language_info": {
   "codemirror_mode": {
    "name": "ipython",
    "version": 3
   },
   "file_extension": ".py",
   "mimetype": "text/x-python",
   "name": "python",
   "nbconvert_exporter": "python",
   "pygments_lexer": "ipython3",
   "version": "3.10.13"
  }
 },
 "nbformat": 4,
 "nbformat_minor": 5
}
