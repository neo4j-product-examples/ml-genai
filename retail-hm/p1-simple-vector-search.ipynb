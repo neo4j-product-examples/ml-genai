{
 "cells": [
  {
   "cell_type": "markdown",
   "source": [
    "# Vector Search\n",
    "\n",
    "Quick Example of Vector Search on Product Nodes\n"
   ],
   "metadata": {
    "collapsed": false
   }
  },
  {
   "cell_type": "markdown",
   "source": [
    "## Setup"
   ],
   "metadata": {
    "collapsed": false
   }
  },
  {
   "cell_type": "code",
   "execution_count": 1,
   "outputs": [
    {
     "data": {
      "text/plain": "'1.8'"
     },
     "execution_count": 1,
     "metadata": {},
     "output_type": "execute_result"
    }
   ],
   "source": [
    "import graphdatascience\n",
    "graphdatascience.__version__"
   ],
   "metadata": {
    "collapsed": false
   }
  },
  {
   "cell_type": "code",
   "execution_count": 2,
   "outputs": [],
   "source": [
    "from graphdatascience import GraphDataScience\n",
    "from dotenv import load_dotenv\n",
    "import os\n",
    "import pandas as pd\n",
    "from langchain.embeddings import OpenAIEmbeddings, BedrockEmbeddings, SentenceTransformerEmbeddings"
   ],
   "metadata": {
    "collapsed": false
   }
  },
  {
   "cell_type": "code",
   "execution_count": 3,
   "outputs": [
    {
     "data": {
      "text/plain": "True"
     },
     "execution_count": 3,
     "metadata": {},
     "output_type": "execute_result"
    }
   ],
   "source": [
    "load_dotenv('.env', override=True)"
   ],
   "metadata": {
    "collapsed": false
   }
  },
  {
   "cell_type": "code",
   "execution_count": 4,
   "outputs": [],
   "source": [
    "def load_embedding_model(embedding_model_name: str):\n",
    "    if embedding_model_name == \"openai\":\n",
    "        embeddings = OpenAIEmbeddings()\n",
    "        dimension = 1536\n",
    "    elif embedding_model_name == \"aws\":\n",
    "        embeddings = BedrockEmbeddings()\n",
    "        dimension = 1536\n",
    "    else:\n",
    "        embeddings = SentenceTransformerEmbeddings(\n",
    "            model_name=\"all-MiniLM-L6-v2\", cache_folder=\"/embedding_model\"\n",
    "        )\n",
    "        dimension = 384\n",
    "    return embeddings, dimension"
   ],
   "metadata": {
    "collapsed": false
   }
  },
  {
   "cell_type": "code",
   "execution_count": 5,
   "outputs": [],
   "source": [
    "embedding_model, dimension = load_embedding_model(os.getenv('EMBEDDING_MODEL'))"
   ],
   "metadata": {
    "collapsed": false
   }
  },
  {
   "cell_type": "code",
   "execution_count": 6,
   "outputs": [],
   "source": [
    "# Use Neo4j URI and credentials according to our setup\n",
    "gds = GraphDataScience(\n",
    "    os.getenv('NEO4J_URI'),\n",
    "    auth=(os.getenv('NEO4J_USERNAME'),\n",
    "          os.getenv('NEO4J_PASSWORD')),\n",
    "    aura_ds=eval(os.getenv('AURA_DS').title()))\n",
    "\n",
    "# Necessary if you enabled Arrow on the db - this is true for AuraDS\n",
    "gds.set_database(\"neo4j\")"
   ],
   "metadata": {
    "collapsed": false
   }
  },
  {
   "cell_type": "code",
   "execution_count": 7,
   "outputs": [
    {
     "data": {
      "text/plain": "'2.5.1+39'"
     },
     "execution_count": 7,
     "metadata": {},
     "output_type": "execute_result"
    }
   ],
   "source": [
    "gds.version()"
   ],
   "metadata": {
    "collapsed": false
   }
  },
  {
   "cell_type": "markdown",
   "source": [
    "## Product Search\n",
    "Basic product search using vector index"
   ],
   "metadata": {
    "collapsed": false
   }
  },
  {
   "cell_type": "markdown",
   "source": [
    "### Simple Vector Search"
   ],
   "metadata": {
    "collapsed": false
   }
  },
  {
   "cell_type": "code",
   "execution_count": 8,
   "outputs": [],
   "source": [
    "#search_prompt = 'denim jeans, loose fit, high-waist'\n",
    "search_prompt = 'winter sweater with zipper'"
   ],
   "metadata": {
    "collapsed": false
   }
  },
  {
   "cell_type": "code",
   "execution_count": 9,
   "outputs": [
    {
     "name": "stdout",
     "output_type": "stream",
     "text": [
      "query vector length: 1536\n",
      "query vector sample: [-0.015749799025370704, -0.015950007301089343, -0.0007332665816759234, -0.020714988850108796, -0.02581365210042274, 0.013814441805101402, -0.009436531886400323, -0.010190653574407153, 0.0030214921451847962, -0.019353566614757605]\n"
     ]
    }
   ],
   "source": [
    "query_vector = embedding_model.embed_query(search_prompt)\n",
    "print(f'query vector length: {len(query_vector)}')\n",
    "print(f'query vector sample: {query_vector[:10]}')"
   ],
   "metadata": {
    "collapsed": false
   }
  },
  {
   "cell_type": "code",
   "execution_count": 10,
   "outputs": [
    {
     "data": {
      "text/plain": "                  prodName productTypeName garmentGroupName  \\\n0              Catfish Zip         Sweater         Knitwear   \n1             Yolo Zip L/S         Sweater         Knitwear   \n2           Ben zip hoodie         Sweater         Knitwear   \n3  BANANA HALF ZIP SWEATER         Sweater         Knitwear   \n4   Raven Half Zip Sweater         Sweater     Jersey Fancy   \n5         Southern Sweater         Sweater         Knitwear   \n6   Zorro half-zip sweater         Sweater     Jersey Basic   \n7  BAY BLOCK STRIPE ZIP-UP         Sweater         Knitwear   \n8              Yolo Zip LS         Sweater         Knitwear   \n9      Håkan half zip knit         Sweater         Knitwear   \n\n                                          detailDesc     score  \n0  Soft, textured-knit jumper with a ribbed stand...  0.933451  \n1  Jumper in a soft, rib knit with a stand-up col...  0.931802  \n2  Fine-knit jacket in a soft viscose blend with ...  0.931022  \n3  Jumper in a soft rib knit with a high stand-up...  0.930954  \n4  Sports top in stretch, fast-drying functional ...  0.930447  \n5  Jumper in a soft rib knit with pointelle detai...  0.929159  \n6  Short top in sweatshirt fabric with a high, ri...  0.928725  \n7  Jumper in a soft, fine-knit modal and cotton b...  0.928706  \n8  Fitted jumper in a soft, rib knit with a turtl...  0.927682  \n9  Jumper in a soft cotton knit with a high, ribb...  0.927454  ",
      "text/html": "<div>\n<style scoped>\n    .dataframe tbody tr th:only-of-type {\n        vertical-align: middle;\n    }\n\n    .dataframe tbody tr th {\n        vertical-align: top;\n    }\n\n    .dataframe thead th {\n        text-align: right;\n    }\n</style>\n<table border=\"1\" class=\"dataframe\">\n  <thead>\n    <tr style=\"text-align: right;\">\n      <th></th>\n      <th>prodName</th>\n      <th>productTypeName</th>\n      <th>garmentGroupName</th>\n      <th>detailDesc</th>\n      <th>score</th>\n    </tr>\n  </thead>\n  <tbody>\n    <tr>\n      <th>0</th>\n      <td>Catfish Zip</td>\n      <td>Sweater</td>\n      <td>Knitwear</td>\n      <td>Soft, textured-knit jumper with a ribbed stand...</td>\n      <td>0.933451</td>\n    </tr>\n    <tr>\n      <th>1</th>\n      <td>Yolo Zip L/S</td>\n      <td>Sweater</td>\n      <td>Knitwear</td>\n      <td>Jumper in a soft, rib knit with a stand-up col...</td>\n      <td>0.931802</td>\n    </tr>\n    <tr>\n      <th>2</th>\n      <td>Ben zip hoodie</td>\n      <td>Sweater</td>\n      <td>Knitwear</td>\n      <td>Fine-knit jacket in a soft viscose blend with ...</td>\n      <td>0.931022</td>\n    </tr>\n    <tr>\n      <th>3</th>\n      <td>BANANA HALF ZIP SWEATER</td>\n      <td>Sweater</td>\n      <td>Knitwear</td>\n      <td>Jumper in a soft rib knit with a high stand-up...</td>\n      <td>0.930954</td>\n    </tr>\n    <tr>\n      <th>4</th>\n      <td>Raven Half Zip Sweater</td>\n      <td>Sweater</td>\n      <td>Jersey Fancy</td>\n      <td>Sports top in stretch, fast-drying functional ...</td>\n      <td>0.930447</td>\n    </tr>\n    <tr>\n      <th>5</th>\n      <td>Southern Sweater</td>\n      <td>Sweater</td>\n      <td>Knitwear</td>\n      <td>Jumper in a soft rib knit with pointelle detai...</td>\n      <td>0.929159</td>\n    </tr>\n    <tr>\n      <th>6</th>\n      <td>Zorro half-zip sweater</td>\n      <td>Sweater</td>\n      <td>Jersey Basic</td>\n      <td>Short top in sweatshirt fabric with a high, ri...</td>\n      <td>0.928725</td>\n    </tr>\n    <tr>\n      <th>7</th>\n      <td>BAY BLOCK STRIPE ZIP-UP</td>\n      <td>Sweater</td>\n      <td>Knitwear</td>\n      <td>Jumper in a soft, fine-knit modal and cotton b...</td>\n      <td>0.928706</td>\n    </tr>\n    <tr>\n      <th>8</th>\n      <td>Yolo Zip LS</td>\n      <td>Sweater</td>\n      <td>Knitwear</td>\n      <td>Fitted jumper in a soft, rib knit with a turtl...</td>\n      <td>0.927682</td>\n    </tr>\n    <tr>\n      <th>9</th>\n      <td>Håkan half zip knit</td>\n      <td>Sweater</td>\n      <td>Knitwear</td>\n      <td>Jumper in a soft cotton knit with a high, ribb...</td>\n      <td>0.927454</td>\n    </tr>\n  </tbody>\n</table>\n</div>"
     },
     "execution_count": 10,
     "metadata": {},
     "output_type": "execute_result"
    }
   ],
   "source": [
    "gds.run_cypher('''\n",
    "CALL db.index.vector.queryNodes(\"product-text-embeddings\", 10, $queryVector)\n",
    "YIELD node AS product, score\n",
    "RETURN product.prodName AS prodName,\n",
    "    product.productTypeName AS productTypeName,\n",
    "    product.garmentGroupName AS garmentGroupName,\n",
    "    product.detailDesc AS detailDesc,\n",
    "    score\n",
    "''', params={'queryVector': query_vector})"
   ],
   "metadata": {
    "collapsed": false
   }
  }
 ],
 "metadata": {
  "kernelspec": {
   "display_name": "Python 3",
   "language": "python",
   "name": "python3"
  },
  "language_info": {
   "codemirror_mode": {
    "name": "ipython",
    "version": 2
   },
   "file_extension": ".py",
   "mimetype": "text/x-python",
   "name": "python",
   "nbconvert_exporter": "python",
   "pygments_lexer": "ipython2",
   "version": "2.7.6"
  }
 },
 "nbformat": 4,
 "nbformat_minor": 0
}
