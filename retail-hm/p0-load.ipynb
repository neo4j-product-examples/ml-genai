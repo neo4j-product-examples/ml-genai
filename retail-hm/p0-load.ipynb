{
 "cells": [
  {
   "cell_type": "markdown",
   "source": [
    "# Graph DB Load"
   ],
   "metadata": {
    "collapsed": false
   }
  },
  {
   "cell_type": "markdown",
   "source": [
    "## Setup"
   ],
   "metadata": {
    "collapsed": false
   }
  },
  {
   "cell_type": "code",
   "execution_count": 42,
   "outputs": [],
   "source": [
    "%%capture\n",
    "%pip install kaggle sentence_transformers langchain openai tiktoken python-dotenv\n",
    "%pip install --upgrade graphdatascience"
   ],
   "metadata": {
    "collapsed": false
   }
  },
  {
   "cell_type": "code",
   "execution_count": 7,
   "outputs": [
    {
     "data": {
      "text/plain": "'1.8'"
     },
     "execution_count": 7,
     "metadata": {},
     "output_type": "execute_result"
    }
   ],
   "source": [
    "import graphdatascience\n",
    "graphdatascience.__version__"
   ],
   "metadata": {
    "collapsed": false
   }
  },
  {
   "cell_type": "code",
   "execution_count": 8,
   "outputs": [],
   "source": [
    "from graphdatascience import GraphDataScience\n",
    "from dotenv import load_dotenv\n",
    "import os\n",
    "import pandas as pd\n",
    "import numpy as np"
   ],
   "metadata": {
    "collapsed": false
   }
  },
  {
   "cell_type": "code",
   "execution_count": 9,
   "outputs": [
    {
     "name": "stdout",
     "output_type": "stream",
     "text": [
      "articles.csv.zip: Skipping, found more recently modified local copy (use --force to force download)\r\n",
      "customers.csv.zip: Skipping, found more recently modified local copy (use --force to force download)\r\n",
      "transactions_train.csv.zip: Skipping, found more recently modified local copy (use --force to force download)\r\n",
      "Archive:  customers.csv.zip\r\n",
      "\r\n",
      "Archive:  articles.csv.zip\r\n",
      "\r\n",
      "Archive:  transactions_train.csv.zip\r\n",
      "\r\n",
      "3 archives were successfully processed.\r\n"
     ]
    }
   ],
   "source": [
    "# configure authentication per instruction @ https://github.com/Kaggle/kaggle-api/README.md\n",
    "!kaggle competitions download -c h-and-m-personalized-fashion-recommendations -f articles.csv -p data\n",
    "!kaggle competitions download -c h-and-m-personalized-fashion-recommendations -f customers.csv -p data\n",
    "!kaggle competitions download -c h-and-m-personalized-fashion-recommendations -f transactions_train.csv -p data\n",
    "!cd data && unzip -n '*.zip'"
   ],
   "metadata": {
    "collapsed": false
   }
  },
  {
   "cell_type": "markdown",
   "source": [],
   "metadata": {
    "collapsed": false
   }
  },
  {
   "cell_type": "code",
   "execution_count": 10,
   "outputs": [],
   "source": [
    "def camel_case(s):\n",
    "    ss = s.lower().split('_')\n",
    "    if len(ss) == 1:\n",
    "        return ss[0]\n",
    "    return ss[0] + ''.join(st.title() for st in ss[1:])\n",
    "\n",
    "def camel_case_dict(name_keys):\n",
    "    name_values = [camel_case(s) for s in name_keys]\n",
    "    return dict(zip(name_keys, name_values))\n",
    "\n",
    "def camel_case_rename_cols(df):\n",
    "    col_map = camel_case_dict(df.columns)\n",
    "    return df.rename(columns=col_map)"
   ],
   "metadata": {
    "collapsed": false
   }
  },
  {
   "cell_type": "markdown",
   "source": [
    "## Filtering & Sampling\n",
    "There is two stage optional sampling to pair down on articles and customers respectively.  Below are the two stages (in the order they are applied)\n",
    "1. __Article Filtering__: Filter out transactions for intimate products along with customers that purchased those products. Since removing partial customer history could result in modeling difficulties due to unobserved/partial ground truth, customers who purchased these products are also completely removed from the dataset. __This will produce a list - `filtered_customer_ids`.\n",
    "2. __Customer Sampling__: Sample a subset of customers. The full dataset includes 1.3 Million customers and tens of millions of transactions as a result.  This could be unwieldy in a demo setting so we provide a way to sample a smaller number of customers here. Once customers are subsampled, article Ids are sampled down again to only reflect the articles purchased by the sampled customers. This will produce two lists to sample down with later:\n",
    "    - `customer_ids`\n",
    "    - `article_ids`"
   ],
   "metadata": {
    "collapsed": false
   }
  },
  {
   "cell_type": "code",
   "execution_count": 11,
   "outputs": [],
   "source": [
    "SAMPLE_NUM_CUSTOMERS = 200 #set to 0 or less for no sampling\n",
    "FILTER_ARTICLES = False #whether to filter out certain intimate products for demo purposes (real data problems)\n",
    "RANDOM_SEED = 7474"
   ],
   "metadata": {
    "collapsed": false
   }
  },
  {
   "cell_type": "markdown",
   "source": [
    "### Article Filtering"
   ],
   "metadata": {
    "collapsed": false
   }
  },
  {
   "cell_type": "code",
   "execution_count": 12,
   "outputs": [
    {
     "data": {
      "text/plain": "(105542, 25)"
     },
     "execution_count": 12,
     "metadata": {},
     "output_type": "execute_result"
    }
   ],
   "source": [
    "init_article_df = camel_case_rename_cols(pd.read_csv('data/articles.csv'))\n",
    "init_article_df.shape"
   ],
   "metadata": {
    "collapsed": false
   }
  },
  {
   "cell_type": "code",
   "execution_count": 13,
   "outputs": [],
   "source": [
    "# Filtering out some intimate products for demo purposes\n",
    "filtered_article_ids = init_article_df.articleId\n",
    "if FILTER_ARTICLES:\n",
    "    filtered_article_ids = init_article_df[init_article_df.garmentGroupName != 'Under-, Nightwear'].articleId"
   ],
   "metadata": {
    "collapsed": false
   }
  },
  {
   "cell_type": "code",
   "execution_count": 14,
   "outputs": [
    {
     "data": {
      "text/plain": "(31788324, 6)"
     },
     "execution_count": 14,
     "metadata": {},
     "output_type": "execute_result"
    }
   ],
   "source": [
    "init_transaction_df = camel_case_rename_cols(pd.read_csv('data/transactions_train.csv'))\n",
    "# generally a good idea to have an id for these (source data doesn't include ids)\n",
    "init_transaction_df['txId'] = range(init_transaction_df.shape[0])\n",
    "init_transaction_df.shape"
   ],
   "metadata": {
    "collapsed": false
   }
  },
  {
   "cell_type": "code",
   "execution_count": 15,
   "outputs": [
    {
     "data": {
      "text/plain": "0           000058a12d5b43e67d225668fa1f8d618c13dc232df0ca...\n2           00007d2de826758b65a93dd24ce629ed66842531df6699...\n7           00083cda041544b2fbb0e0d2905ad17da7cf1007526fb4...\n12          0008968c0d451dbc5a9968da03196fe20051965edde741...\n14          000aa7f0dc06cd7174389e76c9e132a67860c5f65f9706...\n                                  ...                        \n31788165    fe99a0069d6b3c64c2707d0ce53b9311540917471d82df...\n31788202    fecc5f77b5f7ee4570efde9ab05ec94d0de2bf80efb4f6...\n31788208    fece2f68864c311a0b5208e2eb735b3dcde7e41461d327...\n31788217    fee56cc5315dafb35a4490ccc6f711092cae913550c832...\n31788275    ff5b8a8b26bf93a66290e9bd1b73393ac6a58968a78519...\nName: customerId, Length: 1362281, dtype: object"
     },
     "execution_count": 15,
     "metadata": {},
     "output_type": "execute_result"
    }
   ],
   "source": [
    "filtered_customer_ids = init_transaction_df[init_transaction_df.articleId.isin(filtered_article_ids)].customerId.drop_duplicates()\n",
    "filtered_customer_ids"
   ],
   "metadata": {
    "collapsed": false
   }
  },
  {
   "cell_type": "markdown",
   "source": [
    "## Sample Customers"
   ],
   "metadata": {
    "collapsed": false
   }
  },
  {
   "cell_type": "code",
   "execution_count": 16,
   "outputs": [
    {
     "data": {
      "text/plain": "0      fdbe75e71e134938025dbbb9bc495bd302d578b449ac96...\n1      fb9310441b653525f1adad3fbe7ece522ba50e752cca62...\n2      f0a8599239eea199f1440af86ab9df78cb5d4e85f532fd...\n3      4dd8a1b3175c88f07b123b388a5c9b5dfe16b3ba6fdf62...\n4      696093ad8815f16ab92c07eb32d69c2d1e90daef479de7...\n                             ...                        \n195    dc33f78aea18f5a6048e83f5f3908c1dc0ee410f9ed321...\n196    95fc2a180dac51f99de9c85df4e649025ccec12b0fd195...\n197    1961b430b57868ceb5863e521192181a26e3a4e3e30f11...\n198    ca9aa63d9814d804b80fefdfdf20e733db6c60463c8564...\n199    2afaeb2ae4826bd7bfdcb29e748da2b55d53ba390d8040...\nName: customerId, Length: 200, dtype: object"
     },
     "execution_count": 16,
     "metadata": {},
     "output_type": "execute_result"
    }
   ],
   "source": [
    "customer_ids = filtered_customer_ids\n",
    "if SAMPLE_NUM_CUSTOMERS > 0:\n",
    "    customer_ids = filtered_customer_ids.sample(n=SAMPLE_NUM_CUSTOMERS, random_state=RANDOM_SEED).reset_index(drop=True)\n",
    "customer_ids"
   ],
   "metadata": {
    "collapsed": false
   }
  },
  {
   "cell_type": "code",
   "execution_count": 17,
   "outputs": [
    {
     "data": {
      "text/plain": "7734        615021023\n7735        697489002\n7736        661166005\n29406       612891003\n29407       504154015\n              ...    \n31779121    906639004\n31779122    684238003\n31779124    921266007\n31779125    812530004\n31779126    942187001\nName: articleId, Length: 3570, dtype: int64"
     },
     "execution_count": 17,
     "metadata": {},
     "output_type": "execute_result"
    }
   ],
   "source": [
    "article_ids = init_transaction_df[init_transaction_df.customerId.isin(customer_ids)].articleId.drop_duplicates()\n",
    "article_ids"
   ],
   "metadata": {
    "collapsed": false
   }
  },
  {
   "cell_type": "markdown",
   "source": [
    "## Sample Down Data\n",
    "Now that we have the list of customers and articles to include , `customer_ids`, and `article_ids` respectively, we can use them to filter the source data and stage for loading"
   ],
   "metadata": {
    "collapsed": false
   }
  },
  {
   "cell_type": "code",
   "execution_count": 18,
   "outputs": [
    {
     "data": {
      "text/plain": "                tDat                                         customerId  \\\n7734      2018-09-20  2a55ebfc7d91dafb5d75d32d4027ee99005d2c98b40711...   \n7735      2018-09-20  2a55ebfc7d91dafb5d75d32d4027ee99005d2c98b40711...   \n7736      2018-09-20  2a55ebfc7d91dafb5d75d32d4027ee99005d2c98b40711...   \n29406     2018-09-20  99e17922e68b9c627587e57e420c887243240cb9d61e2f...   \n29407     2018-09-20  99e17922e68b9c627587e57e420c887243240cb9d61e2f...   \n...              ...                                                ...   \n31779123  2020-09-22  b6be55f233772b5fc4a1ebedf36542fb3e1b6c15c23c7e...   \n31779124  2020-09-22  b6be55f233772b5fc4a1ebedf36542fb3e1b6c15c23c7e...   \n31779125  2020-09-22  b6be55f233772b5fc4a1ebedf36542fb3e1b6c15c23c7e...   \n31779126  2020-09-22  b6be55f233772b5fc4a1ebedf36542fb3e1b6c15c23c7e...   \n31779127  2020-09-22  b6be55f233772b5fc4a1ebedf36542fb3e1b6c15c23c7e...   \n\n          articleId     price  salesChannelId      txId  \n7734      615021023  0.016932               1      7734  \n7735      697489002  0.013542               1      7735  \n7736      661166005  0.050831               1      7736  \n29406     612891003  0.028797               2     29406  \n29407     504154015  0.015237               2     29407  \n...             ...       ...             ...       ...  \n31779123  800691008  0.011847               2  31779123  \n31779124  921266007  0.016932               2  31779124  \n31779125  812530004  0.010153               2  31779125  \n31779126  942187001  0.016932               2  31779126  \n31779127  866731001  0.025407               2  31779127  \n\n[4693 rows x 6 columns]",
      "text/html": "<div>\n<style scoped>\n    .dataframe tbody tr th:only-of-type {\n        vertical-align: middle;\n    }\n\n    .dataframe tbody tr th {\n        vertical-align: top;\n    }\n\n    .dataframe thead th {\n        text-align: right;\n    }\n</style>\n<table border=\"1\" class=\"dataframe\">\n  <thead>\n    <tr style=\"text-align: right;\">\n      <th></th>\n      <th>tDat</th>\n      <th>customerId</th>\n      <th>articleId</th>\n      <th>price</th>\n      <th>salesChannelId</th>\n      <th>txId</th>\n    </tr>\n  </thead>\n  <tbody>\n    <tr>\n      <th>7734</th>\n      <td>2018-09-20</td>\n      <td>2a55ebfc7d91dafb5d75d32d4027ee99005d2c98b40711...</td>\n      <td>615021023</td>\n      <td>0.016932</td>\n      <td>1</td>\n      <td>7734</td>\n    </tr>\n    <tr>\n      <th>7735</th>\n      <td>2018-09-20</td>\n      <td>2a55ebfc7d91dafb5d75d32d4027ee99005d2c98b40711...</td>\n      <td>697489002</td>\n      <td>0.013542</td>\n      <td>1</td>\n      <td>7735</td>\n    </tr>\n    <tr>\n      <th>7736</th>\n      <td>2018-09-20</td>\n      <td>2a55ebfc7d91dafb5d75d32d4027ee99005d2c98b40711...</td>\n      <td>661166005</td>\n      <td>0.050831</td>\n      <td>1</td>\n      <td>7736</td>\n    </tr>\n    <tr>\n      <th>29406</th>\n      <td>2018-09-20</td>\n      <td>99e17922e68b9c627587e57e420c887243240cb9d61e2f...</td>\n      <td>612891003</td>\n      <td>0.028797</td>\n      <td>2</td>\n      <td>29406</td>\n    </tr>\n    <tr>\n      <th>29407</th>\n      <td>2018-09-20</td>\n      <td>99e17922e68b9c627587e57e420c887243240cb9d61e2f...</td>\n      <td>504154015</td>\n      <td>0.015237</td>\n      <td>2</td>\n      <td>29407</td>\n    </tr>\n    <tr>\n      <th>...</th>\n      <td>...</td>\n      <td>...</td>\n      <td>...</td>\n      <td>...</td>\n      <td>...</td>\n      <td>...</td>\n    </tr>\n    <tr>\n      <th>31779123</th>\n      <td>2020-09-22</td>\n      <td>b6be55f233772b5fc4a1ebedf36542fb3e1b6c15c23c7e...</td>\n      <td>800691008</td>\n      <td>0.011847</td>\n      <td>2</td>\n      <td>31779123</td>\n    </tr>\n    <tr>\n      <th>31779124</th>\n      <td>2020-09-22</td>\n      <td>b6be55f233772b5fc4a1ebedf36542fb3e1b6c15c23c7e...</td>\n      <td>921266007</td>\n      <td>0.016932</td>\n      <td>2</td>\n      <td>31779124</td>\n    </tr>\n    <tr>\n      <th>31779125</th>\n      <td>2020-09-22</td>\n      <td>b6be55f233772b5fc4a1ebedf36542fb3e1b6c15c23c7e...</td>\n      <td>812530004</td>\n      <td>0.010153</td>\n      <td>2</td>\n      <td>31779125</td>\n    </tr>\n    <tr>\n      <th>31779126</th>\n      <td>2020-09-22</td>\n      <td>b6be55f233772b5fc4a1ebedf36542fb3e1b6c15c23c7e...</td>\n      <td>942187001</td>\n      <td>0.016932</td>\n      <td>2</td>\n      <td>31779126</td>\n    </tr>\n    <tr>\n      <th>31779127</th>\n      <td>2020-09-22</td>\n      <td>b6be55f233772b5fc4a1ebedf36542fb3e1b6c15c23c7e...</td>\n      <td>866731001</td>\n      <td>0.025407</td>\n      <td>2</td>\n      <td>31779127</td>\n    </tr>\n  </tbody>\n</table>\n<p>4693 rows × 6 columns</p>\n</div>"
     },
     "execution_count": 18,
     "metadata": {},
     "output_type": "execute_result"
    }
   ],
   "source": [
    "transaction_df = init_transaction_df[init_transaction_df.customerId.isin(customer_ids)]\n",
    "transaction_df"
   ],
   "metadata": {
    "collapsed": false
   }
  },
  {
   "cell_type": "code",
   "execution_count": 19,
   "outputs": [
    {
     "data": {
      "text/plain": "        articleId  productCode                   prodName  productTypeNo  \\\n0       108775015       108775                  Strap top            253   \n1       108775044       108775                  Strap top            253   \n6       111565001       111565        20 den 1p Stockings            304   \n8       111586001       111586  Shape Up 30 den 1p Tights            273   \n9       111593001       111593   Support 40 den 1p Tights            304   \n...           ...          ...                        ...            ...   \n105185  934054002       934054                Sicilly top            258   \n105221  934727002       934727                  Kiara top            254   \n105314  936862001       936862            EDC Marla dress            265   \n105319  936979001       936979     Class Filippa Necklace             77   \n105444  942187001       942187               ED Sasha tee            255   \n\n         productTypeName    productGroupName  graphicalAppearanceNo  \\\n0               Vest top  Garment Upper body                1010016   \n1               Vest top  Garment Upper body                1010016   \n6       Underwear Tights      Socks & Tights                1010016   \n8        Leggings/Tights  Garment Lower body                1010016   \n9       Underwear Tights      Socks & Tights                1010016   \n...                  ...                 ...                    ...   \n105185            Blouse  Garment Upper body                1010016   \n105221               Top  Garment Upper body                1010021   \n105314             Dress   Garment Full body                1010001   \n105319          Necklace         Accessories                1010016   \n105444           T-shirt  Garment Upper body                1010016   \n\n       graphicalAppearanceName  colourGroupCode colourGroupName  ...  \\\n0                        Solid                9           Black  ...   \n1                        Solid               10           White  ...   \n6                        Solid                9           Black  ...   \n8                        Solid                9           Black  ...   \n9                        Solid                9           Black  ...   \n...                        ...              ...             ...  ...   \n105185                   Solid                6      Light Grey  ...   \n105221                    Lace                9           Black  ...   \n105314        All over pattern               52            Pink  ...   \n105319                   Solid                5            Gold  ...   \n105444                   Solid                9           Black  ...   \n\n        departmentName indexCode           indexName indexGroupNo  \\\n0         Jersey Basic         A          Ladieswear            1   \n1         Jersey Basic         A          Ladieswear            1   \n6         Tights basic         B    Lingeries/Tights            1   \n8         Tights basic         B    Lingeries/Tights            1   \n9         Tights basic         B    Lingeries/Tights            1   \n...                ...       ...                 ...          ...   \n105185          Blouse         A          Ladieswear            1   \n105221    Jersey fancy         A          Ladieswear            1   \n105314       Campaigns         A          Ladieswear            1   \n105319       Jewellery         C  Ladies Accessories            1   \n105444          Jersey         A          Ladieswear            1   \n\n        indexGroupName sectionNo                     sectionName  \\\n0           Ladieswear        16          Womens Everyday Basics   \n1           Ladieswear        16          Womens Everyday Basics   \n6           Ladieswear        62  Womens Nightwear, Socks & Tigh   \n8           Ladieswear        62  Womens Nightwear, Socks & Tigh   \n9           Ladieswear        62  Womens Nightwear, Socks & Tigh   \n...                ...       ...                             ...   \n105185      Ladieswear        15      Womens Everyday Collection   \n105221      Ladieswear        15      Womens Everyday Collection   \n105314      Ladieswear        15      Womens Everyday Collection   \n105319      Ladieswear        66        Womens Small accessories   \n105444      Ladieswear         2                            H&M+   \n\n       garmentGroupNo  garmentGroupName  \\\n0                1002      Jersey Basic   \n1                1002      Jersey Basic   \n6                1021  Socks and Tights   \n8                1021  Socks and Tights   \n9                1021  Socks and Tights   \n...               ...               ...   \n105185           1010           Blouses   \n105221           1005      Jersey Fancy   \n105314           1023    Special Offers   \n105319           1019       Accessories   \n105444           1005      Jersey Fancy   \n\n                                               detailDesc  \n0                 Jersey top with narrow shoulder straps.  \n1                 Jersey top with narrow shoulder straps.  \n6       Semi shiny nylon stockings with a wide, reinfo...  \n8       Tights with built-in support to lift the botto...  \n9       Semi shiny tights that shape the tummy, thighs...  \n...                                                   ...  \n105185  V-neck blouse in woven fabric with a slight sh...  \n105221  Lace blouse with a stand-up collar and an open...  \n105314  Calf-length dress in a patterned Tencel™ lyoce...  \n105319  Metal chain necklace with a pendant. Adjustabl...  \n105444  Oversized, straight-cut T-shirt in a soft moda...  \n\n[3570 rows x 25 columns]",
      "text/html": "<div>\n<style scoped>\n    .dataframe tbody tr th:only-of-type {\n        vertical-align: middle;\n    }\n\n    .dataframe tbody tr th {\n        vertical-align: top;\n    }\n\n    .dataframe thead th {\n        text-align: right;\n    }\n</style>\n<table border=\"1\" class=\"dataframe\">\n  <thead>\n    <tr style=\"text-align: right;\">\n      <th></th>\n      <th>articleId</th>\n      <th>productCode</th>\n      <th>prodName</th>\n      <th>productTypeNo</th>\n      <th>productTypeName</th>\n      <th>productGroupName</th>\n      <th>graphicalAppearanceNo</th>\n      <th>graphicalAppearanceName</th>\n      <th>colourGroupCode</th>\n      <th>colourGroupName</th>\n      <th>...</th>\n      <th>departmentName</th>\n      <th>indexCode</th>\n      <th>indexName</th>\n      <th>indexGroupNo</th>\n      <th>indexGroupName</th>\n      <th>sectionNo</th>\n      <th>sectionName</th>\n      <th>garmentGroupNo</th>\n      <th>garmentGroupName</th>\n      <th>detailDesc</th>\n    </tr>\n  </thead>\n  <tbody>\n    <tr>\n      <th>0</th>\n      <td>108775015</td>\n      <td>108775</td>\n      <td>Strap top</td>\n      <td>253</td>\n      <td>Vest top</td>\n      <td>Garment Upper body</td>\n      <td>1010016</td>\n      <td>Solid</td>\n      <td>9</td>\n      <td>Black</td>\n      <td>...</td>\n      <td>Jersey Basic</td>\n      <td>A</td>\n      <td>Ladieswear</td>\n      <td>1</td>\n      <td>Ladieswear</td>\n      <td>16</td>\n      <td>Womens Everyday Basics</td>\n      <td>1002</td>\n      <td>Jersey Basic</td>\n      <td>Jersey top with narrow shoulder straps.</td>\n    </tr>\n    <tr>\n      <th>1</th>\n      <td>108775044</td>\n      <td>108775</td>\n      <td>Strap top</td>\n      <td>253</td>\n      <td>Vest top</td>\n      <td>Garment Upper body</td>\n      <td>1010016</td>\n      <td>Solid</td>\n      <td>10</td>\n      <td>White</td>\n      <td>...</td>\n      <td>Jersey Basic</td>\n      <td>A</td>\n      <td>Ladieswear</td>\n      <td>1</td>\n      <td>Ladieswear</td>\n      <td>16</td>\n      <td>Womens Everyday Basics</td>\n      <td>1002</td>\n      <td>Jersey Basic</td>\n      <td>Jersey top with narrow shoulder straps.</td>\n    </tr>\n    <tr>\n      <th>6</th>\n      <td>111565001</td>\n      <td>111565</td>\n      <td>20 den 1p Stockings</td>\n      <td>304</td>\n      <td>Underwear Tights</td>\n      <td>Socks &amp; Tights</td>\n      <td>1010016</td>\n      <td>Solid</td>\n      <td>9</td>\n      <td>Black</td>\n      <td>...</td>\n      <td>Tights basic</td>\n      <td>B</td>\n      <td>Lingeries/Tights</td>\n      <td>1</td>\n      <td>Ladieswear</td>\n      <td>62</td>\n      <td>Womens Nightwear, Socks &amp; Tigh</td>\n      <td>1021</td>\n      <td>Socks and Tights</td>\n      <td>Semi shiny nylon stockings with a wide, reinfo...</td>\n    </tr>\n    <tr>\n      <th>8</th>\n      <td>111586001</td>\n      <td>111586</td>\n      <td>Shape Up 30 den 1p Tights</td>\n      <td>273</td>\n      <td>Leggings/Tights</td>\n      <td>Garment Lower body</td>\n      <td>1010016</td>\n      <td>Solid</td>\n      <td>9</td>\n      <td>Black</td>\n      <td>...</td>\n      <td>Tights basic</td>\n      <td>B</td>\n      <td>Lingeries/Tights</td>\n      <td>1</td>\n      <td>Ladieswear</td>\n      <td>62</td>\n      <td>Womens Nightwear, Socks &amp; Tigh</td>\n      <td>1021</td>\n      <td>Socks and Tights</td>\n      <td>Tights with built-in support to lift the botto...</td>\n    </tr>\n    <tr>\n      <th>9</th>\n      <td>111593001</td>\n      <td>111593</td>\n      <td>Support 40 den 1p Tights</td>\n      <td>304</td>\n      <td>Underwear Tights</td>\n      <td>Socks &amp; Tights</td>\n      <td>1010016</td>\n      <td>Solid</td>\n      <td>9</td>\n      <td>Black</td>\n      <td>...</td>\n      <td>Tights basic</td>\n      <td>B</td>\n      <td>Lingeries/Tights</td>\n      <td>1</td>\n      <td>Ladieswear</td>\n      <td>62</td>\n      <td>Womens Nightwear, Socks &amp; Tigh</td>\n      <td>1021</td>\n      <td>Socks and Tights</td>\n      <td>Semi shiny tights that shape the tummy, thighs...</td>\n    </tr>\n    <tr>\n      <th>...</th>\n      <td>...</td>\n      <td>...</td>\n      <td>...</td>\n      <td>...</td>\n      <td>...</td>\n      <td>...</td>\n      <td>...</td>\n      <td>...</td>\n      <td>...</td>\n      <td>...</td>\n      <td>...</td>\n      <td>...</td>\n      <td>...</td>\n      <td>...</td>\n      <td>...</td>\n      <td>...</td>\n      <td>...</td>\n      <td>...</td>\n      <td>...</td>\n      <td>...</td>\n      <td>...</td>\n    </tr>\n    <tr>\n      <th>105185</th>\n      <td>934054002</td>\n      <td>934054</td>\n      <td>Sicilly top</td>\n      <td>258</td>\n      <td>Blouse</td>\n      <td>Garment Upper body</td>\n      <td>1010016</td>\n      <td>Solid</td>\n      <td>6</td>\n      <td>Light Grey</td>\n      <td>...</td>\n      <td>Blouse</td>\n      <td>A</td>\n      <td>Ladieswear</td>\n      <td>1</td>\n      <td>Ladieswear</td>\n      <td>15</td>\n      <td>Womens Everyday Collection</td>\n      <td>1010</td>\n      <td>Blouses</td>\n      <td>V-neck blouse in woven fabric with a slight sh...</td>\n    </tr>\n    <tr>\n      <th>105221</th>\n      <td>934727002</td>\n      <td>934727</td>\n      <td>Kiara top</td>\n      <td>254</td>\n      <td>Top</td>\n      <td>Garment Upper body</td>\n      <td>1010021</td>\n      <td>Lace</td>\n      <td>9</td>\n      <td>Black</td>\n      <td>...</td>\n      <td>Jersey fancy</td>\n      <td>A</td>\n      <td>Ladieswear</td>\n      <td>1</td>\n      <td>Ladieswear</td>\n      <td>15</td>\n      <td>Womens Everyday Collection</td>\n      <td>1005</td>\n      <td>Jersey Fancy</td>\n      <td>Lace blouse with a stand-up collar and an open...</td>\n    </tr>\n    <tr>\n      <th>105314</th>\n      <td>936862001</td>\n      <td>936862</td>\n      <td>EDC Marla dress</td>\n      <td>265</td>\n      <td>Dress</td>\n      <td>Garment Full body</td>\n      <td>1010001</td>\n      <td>All over pattern</td>\n      <td>52</td>\n      <td>Pink</td>\n      <td>...</td>\n      <td>Campaigns</td>\n      <td>A</td>\n      <td>Ladieswear</td>\n      <td>1</td>\n      <td>Ladieswear</td>\n      <td>15</td>\n      <td>Womens Everyday Collection</td>\n      <td>1023</td>\n      <td>Special Offers</td>\n      <td>Calf-length dress in a patterned Tencel™ lyoce...</td>\n    </tr>\n    <tr>\n      <th>105319</th>\n      <td>936979001</td>\n      <td>936979</td>\n      <td>Class Filippa Necklace</td>\n      <td>77</td>\n      <td>Necklace</td>\n      <td>Accessories</td>\n      <td>1010016</td>\n      <td>Solid</td>\n      <td>5</td>\n      <td>Gold</td>\n      <td>...</td>\n      <td>Jewellery</td>\n      <td>C</td>\n      <td>Ladies Accessories</td>\n      <td>1</td>\n      <td>Ladieswear</td>\n      <td>66</td>\n      <td>Womens Small accessories</td>\n      <td>1019</td>\n      <td>Accessories</td>\n      <td>Metal chain necklace with a pendant. Adjustabl...</td>\n    </tr>\n    <tr>\n      <th>105444</th>\n      <td>942187001</td>\n      <td>942187</td>\n      <td>ED Sasha tee</td>\n      <td>255</td>\n      <td>T-shirt</td>\n      <td>Garment Upper body</td>\n      <td>1010016</td>\n      <td>Solid</td>\n      <td>9</td>\n      <td>Black</td>\n      <td>...</td>\n      <td>Jersey</td>\n      <td>A</td>\n      <td>Ladieswear</td>\n      <td>1</td>\n      <td>Ladieswear</td>\n      <td>2</td>\n      <td>H&amp;M+</td>\n      <td>1005</td>\n      <td>Jersey Fancy</td>\n      <td>Oversized, straight-cut T-shirt in a soft moda...</td>\n    </tr>\n  </tbody>\n</table>\n<p>3570 rows × 25 columns</p>\n</div>"
     },
     "execution_count": 19,
     "metadata": {},
     "output_type": "execute_result"
    }
   ],
   "source": [
    "full_article_df = init_article_df[init_article_df.articleId.isin(article_ids)]\n",
    "full_article_df"
   ],
   "metadata": {
    "collapsed": false
   }
  },
  {
   "cell_type": "markdown",
   "source": [
    "### Creating Product, Department, and Article Dataframes"
   ],
   "metadata": {
    "collapsed": false
   }
  },
  {
   "cell_type": "code",
   "execution_count": 20,
   "outputs": [
    {
     "data": {
      "text/plain": "        productCode                   prodName  productTypeNo  \\\n0            108775                  Strap top            253   \n6            111565        20 den 1p Stockings            304   \n8            111586  Shape Up 30 den 1p Tights            273   \n9            111593   Support 40 den 1p Tights            304   \n17           118458       Jerry jogger bottoms            272   \n...             ...                        ...            ...   \n105185       934054                Sicilly top            258   \n105221       934727                  Kiara top            254   \n105314       936862            EDC Marla dress            265   \n105319       936979     Class Filippa Necklace             77   \n105444       942187               ED Sasha tee            255   \n\n         productTypeName    productGroupName  garmentGroupNo  \\\n0               Vest top  Garment Upper body            1002   \n6       Underwear Tights      Socks & Tights            1021   \n8        Leggings/Tights  Garment Lower body            1021   \n9       Underwear Tights      Socks & Tights            1021   \n17              Trousers  Garment Lower body            1002   \n...                  ...                 ...             ...   \n105185            Blouse  Garment Upper body            1010   \n105221               Top  Garment Upper body            1005   \n105314             Dress   Garment Full body            1023   \n105319          Necklace         Accessories            1019   \n105444           T-shirt  Garment Upper body            1005   \n\n        garmentGroupName                                         detailDesc  \n0           Jersey Basic            Jersey top with narrow shoulder straps.  \n6       Socks and Tights  Semi shiny nylon stockings with a wide, reinfo...  \n8       Socks and Tights  Tights with built-in support to lift the botto...  \n9       Socks and Tights  Semi shiny tights that shape the tummy, thighs...  \n17          Jersey Basic  Trousers in sweatshirt fabric with an elastica...  \n...                  ...                                                ...  \n105185           Blouses  V-neck blouse in woven fabric with a slight sh...  \n105221      Jersey Fancy  Lace blouse with a stand-up collar and an open...  \n105314    Special Offers  Calf-length dress in a patterned Tencel™ lyoce...  \n105319       Accessories  Metal chain necklace with a pendant. Adjustabl...  \n105444      Jersey Fancy  Oversized, straight-cut T-shirt in a soft moda...  \n\n[2583 rows x 8 columns]",
      "text/html": "<div>\n<style scoped>\n    .dataframe tbody tr th:only-of-type {\n        vertical-align: middle;\n    }\n\n    .dataframe tbody tr th {\n        vertical-align: top;\n    }\n\n    .dataframe thead th {\n        text-align: right;\n    }\n</style>\n<table border=\"1\" class=\"dataframe\">\n  <thead>\n    <tr style=\"text-align: right;\">\n      <th></th>\n      <th>productCode</th>\n      <th>prodName</th>\n      <th>productTypeNo</th>\n      <th>productTypeName</th>\n      <th>productGroupName</th>\n      <th>garmentGroupNo</th>\n      <th>garmentGroupName</th>\n      <th>detailDesc</th>\n    </tr>\n  </thead>\n  <tbody>\n    <tr>\n      <th>0</th>\n      <td>108775</td>\n      <td>Strap top</td>\n      <td>253</td>\n      <td>Vest top</td>\n      <td>Garment Upper body</td>\n      <td>1002</td>\n      <td>Jersey Basic</td>\n      <td>Jersey top with narrow shoulder straps.</td>\n    </tr>\n    <tr>\n      <th>6</th>\n      <td>111565</td>\n      <td>20 den 1p Stockings</td>\n      <td>304</td>\n      <td>Underwear Tights</td>\n      <td>Socks &amp; Tights</td>\n      <td>1021</td>\n      <td>Socks and Tights</td>\n      <td>Semi shiny nylon stockings with a wide, reinfo...</td>\n    </tr>\n    <tr>\n      <th>8</th>\n      <td>111586</td>\n      <td>Shape Up 30 den 1p Tights</td>\n      <td>273</td>\n      <td>Leggings/Tights</td>\n      <td>Garment Lower body</td>\n      <td>1021</td>\n      <td>Socks and Tights</td>\n      <td>Tights with built-in support to lift the botto...</td>\n    </tr>\n    <tr>\n      <th>9</th>\n      <td>111593</td>\n      <td>Support 40 den 1p Tights</td>\n      <td>304</td>\n      <td>Underwear Tights</td>\n      <td>Socks &amp; Tights</td>\n      <td>1021</td>\n      <td>Socks and Tights</td>\n      <td>Semi shiny tights that shape the tummy, thighs...</td>\n    </tr>\n    <tr>\n      <th>17</th>\n      <td>118458</td>\n      <td>Jerry jogger bottoms</td>\n      <td>272</td>\n      <td>Trousers</td>\n      <td>Garment Lower body</td>\n      <td>1002</td>\n      <td>Jersey Basic</td>\n      <td>Trousers in sweatshirt fabric with an elastica...</td>\n    </tr>\n    <tr>\n      <th>...</th>\n      <td>...</td>\n      <td>...</td>\n      <td>...</td>\n      <td>...</td>\n      <td>...</td>\n      <td>...</td>\n      <td>...</td>\n      <td>...</td>\n    </tr>\n    <tr>\n      <th>105185</th>\n      <td>934054</td>\n      <td>Sicilly top</td>\n      <td>258</td>\n      <td>Blouse</td>\n      <td>Garment Upper body</td>\n      <td>1010</td>\n      <td>Blouses</td>\n      <td>V-neck blouse in woven fabric with a slight sh...</td>\n    </tr>\n    <tr>\n      <th>105221</th>\n      <td>934727</td>\n      <td>Kiara top</td>\n      <td>254</td>\n      <td>Top</td>\n      <td>Garment Upper body</td>\n      <td>1005</td>\n      <td>Jersey Fancy</td>\n      <td>Lace blouse with a stand-up collar and an open...</td>\n    </tr>\n    <tr>\n      <th>105314</th>\n      <td>936862</td>\n      <td>EDC Marla dress</td>\n      <td>265</td>\n      <td>Dress</td>\n      <td>Garment Full body</td>\n      <td>1023</td>\n      <td>Special Offers</td>\n      <td>Calf-length dress in a patterned Tencel™ lyoce...</td>\n    </tr>\n    <tr>\n      <th>105319</th>\n      <td>936979</td>\n      <td>Class Filippa Necklace</td>\n      <td>77</td>\n      <td>Necklace</td>\n      <td>Accessories</td>\n      <td>1019</td>\n      <td>Accessories</td>\n      <td>Metal chain necklace with a pendant. Adjustabl...</td>\n    </tr>\n    <tr>\n      <th>105444</th>\n      <td>942187</td>\n      <td>ED Sasha tee</td>\n      <td>255</td>\n      <td>T-shirt</td>\n      <td>Garment Upper body</td>\n      <td>1005</td>\n      <td>Jersey Fancy</td>\n      <td>Oversized, straight-cut T-shirt in a soft moda...</td>\n    </tr>\n  </tbody>\n</table>\n<p>2583 rows × 8 columns</p>\n</div>"
     },
     "execution_count": 20,
     "metadata": {},
     "output_type": "execute_result"
    }
   ],
   "source": [
    "product_df = full_article_df[['productCode', 'prodName',\n",
    "                              'productTypeNo', 'productTypeName',\n",
    "                              'productGroupName', 'garmentGroupNo', 'garmentGroupName',\n",
    "                              'detailDesc']].drop_duplicates(subset='productCode')\n",
    "product_df"
   ],
   "metadata": {
    "collapsed": false
   }
  },
  {
   "cell_type": "code",
   "execution_count": 21,
   "outputs": [
    {
     "data": {
      "text/plain": "        departmentNo          departmentName  sectionNo  \\\n0               1676            Jersey Basic         16   \n6               3608            Tights basic         62   \n17              5883            Jersey Basic         26   \n23              2032                  Jersey          8   \n46              6515             Baby basics         44   \n...              ...                     ...        ...   \n80900           7848    Boys Local Relevance         48   \n84934           6525  Baby Girl Jersey Fancy         40   \n85783           7912         Asia Assortment         15   \n93600           5626    AK Dresses & Outdoor         70   \n103941          5888                  Blanks         26   \n\n                           sectionName  \n0               Womens Everyday Basics  \n6       Womens Nightwear, Socks & Tigh  \n17                       Men Underwear  \n23                                Mama  \n46       Baby Essentials & Complements  \n...                                ...  \n80900             Kids Local Relevance  \n84934                        Baby Girl  \n85783       Womens Everyday Collection  \n93600                Divided Asia keys  \n103941                   Men Underwear  \n\n[212 rows x 4 columns]",
      "text/html": "<div>\n<style scoped>\n    .dataframe tbody tr th:only-of-type {\n        vertical-align: middle;\n    }\n\n    .dataframe tbody tr th {\n        vertical-align: top;\n    }\n\n    .dataframe thead th {\n        text-align: right;\n    }\n</style>\n<table border=\"1\" class=\"dataframe\">\n  <thead>\n    <tr style=\"text-align: right;\">\n      <th></th>\n      <th>departmentNo</th>\n      <th>departmentName</th>\n      <th>sectionNo</th>\n      <th>sectionName</th>\n    </tr>\n  </thead>\n  <tbody>\n    <tr>\n      <th>0</th>\n      <td>1676</td>\n      <td>Jersey Basic</td>\n      <td>16</td>\n      <td>Womens Everyday Basics</td>\n    </tr>\n    <tr>\n      <th>6</th>\n      <td>3608</td>\n      <td>Tights basic</td>\n      <td>62</td>\n      <td>Womens Nightwear, Socks &amp; Tigh</td>\n    </tr>\n    <tr>\n      <th>17</th>\n      <td>5883</td>\n      <td>Jersey Basic</td>\n      <td>26</td>\n      <td>Men Underwear</td>\n    </tr>\n    <tr>\n      <th>23</th>\n      <td>2032</td>\n      <td>Jersey</td>\n      <td>8</td>\n      <td>Mama</td>\n    </tr>\n    <tr>\n      <th>46</th>\n      <td>6515</td>\n      <td>Baby basics</td>\n      <td>44</td>\n      <td>Baby Essentials &amp; Complements</td>\n    </tr>\n    <tr>\n      <th>...</th>\n      <td>...</td>\n      <td>...</td>\n      <td>...</td>\n      <td>...</td>\n    </tr>\n    <tr>\n      <th>80900</th>\n      <td>7848</td>\n      <td>Boys Local Relevance</td>\n      <td>48</td>\n      <td>Kids Local Relevance</td>\n    </tr>\n    <tr>\n      <th>84934</th>\n      <td>6525</td>\n      <td>Baby Girl Jersey Fancy</td>\n      <td>40</td>\n      <td>Baby Girl</td>\n    </tr>\n    <tr>\n      <th>85783</th>\n      <td>7912</td>\n      <td>Asia Assortment</td>\n      <td>15</td>\n      <td>Womens Everyday Collection</td>\n    </tr>\n    <tr>\n      <th>93600</th>\n      <td>5626</td>\n      <td>AK Dresses &amp; Outdoor</td>\n      <td>70</td>\n      <td>Divided Asia keys</td>\n    </tr>\n    <tr>\n      <th>103941</th>\n      <td>5888</td>\n      <td>Blanks</td>\n      <td>26</td>\n      <td>Men Underwear</td>\n    </tr>\n  </tbody>\n</table>\n<p>212 rows × 4 columns</p>\n</div>"
     },
     "execution_count": 21,
     "metadata": {},
     "output_type": "execute_result"
    }
   ],
   "source": [
    "department_df = full_article_df[['departmentNo', 'departmentName', 'sectionNo', 'sectionName']]\\\n",
    "    .drop_duplicates(subset='departmentNo')\n",
    "department_df"
   ],
   "metadata": {
    "collapsed": false
   }
  },
  {
   "cell_type": "code",
   "execution_count": 22,
   "outputs": [
    {
     "data": {
      "text/plain": "        articleId  productCode  departmentNo                   prodName  \\\n0       108775015       108775          1676                  Strap top   \n1       108775044       108775          1676                  Strap top   \n6       111565001       111565          3608        20 den 1p Stockings   \n8       111586001       111586          3608  Shape Up 30 den 1p Tights   \n9       111593001       111593          3608   Support 40 den 1p Tights   \n...           ...          ...           ...                        ...   \n105185  934054002       934054          1522                Sicilly top   \n105221  934727002       934727          1636                  Kiara top   \n105314  936862001       936862          3090            EDC Marla dress   \n105319  936979001       936979          4344     Class Filippa Necklace   \n105444  942187001       942187          1919               ED Sasha tee   \n\n         productTypeName  graphicalAppearanceNo graphicalAppearanceName  \\\n0               Vest top                1010016                   Solid   \n1               Vest top                1010016                   Solid   \n6       Underwear Tights                1010016                   Solid   \n8        Leggings/Tights                1010016                   Solid   \n9       Underwear Tights                1010016                   Solid   \n...                  ...                    ...                     ...   \n105185            Blouse                1010016                   Solid   \n105221               Top                1010021                    Lace   \n105314             Dress                1010001        All over pattern   \n105319          Necklace                1010016                   Solid   \n105444           T-shirt                1010016                   Solid   \n\n        colourGroupCode colourGroupName  \n0                     9           Black  \n1                    10           White  \n6                     9           Black  \n8                     9           Black  \n9                     9           Black  \n...                 ...             ...  \n105185                6      Light Grey  \n105221                9           Black  \n105314               52            Pink  \n105319                5            Gold  \n105444                9           Black  \n\n[3570 rows x 9 columns]",
      "text/html": "<div>\n<style scoped>\n    .dataframe tbody tr th:only-of-type {\n        vertical-align: middle;\n    }\n\n    .dataframe tbody tr th {\n        vertical-align: top;\n    }\n\n    .dataframe thead th {\n        text-align: right;\n    }\n</style>\n<table border=\"1\" class=\"dataframe\">\n  <thead>\n    <tr style=\"text-align: right;\">\n      <th></th>\n      <th>articleId</th>\n      <th>productCode</th>\n      <th>departmentNo</th>\n      <th>prodName</th>\n      <th>productTypeName</th>\n      <th>graphicalAppearanceNo</th>\n      <th>graphicalAppearanceName</th>\n      <th>colourGroupCode</th>\n      <th>colourGroupName</th>\n    </tr>\n  </thead>\n  <tbody>\n    <tr>\n      <th>0</th>\n      <td>108775015</td>\n      <td>108775</td>\n      <td>1676</td>\n      <td>Strap top</td>\n      <td>Vest top</td>\n      <td>1010016</td>\n      <td>Solid</td>\n      <td>9</td>\n      <td>Black</td>\n    </tr>\n    <tr>\n      <th>1</th>\n      <td>108775044</td>\n      <td>108775</td>\n      <td>1676</td>\n      <td>Strap top</td>\n      <td>Vest top</td>\n      <td>1010016</td>\n      <td>Solid</td>\n      <td>10</td>\n      <td>White</td>\n    </tr>\n    <tr>\n      <th>6</th>\n      <td>111565001</td>\n      <td>111565</td>\n      <td>3608</td>\n      <td>20 den 1p Stockings</td>\n      <td>Underwear Tights</td>\n      <td>1010016</td>\n      <td>Solid</td>\n      <td>9</td>\n      <td>Black</td>\n    </tr>\n    <tr>\n      <th>8</th>\n      <td>111586001</td>\n      <td>111586</td>\n      <td>3608</td>\n      <td>Shape Up 30 den 1p Tights</td>\n      <td>Leggings/Tights</td>\n      <td>1010016</td>\n      <td>Solid</td>\n      <td>9</td>\n      <td>Black</td>\n    </tr>\n    <tr>\n      <th>9</th>\n      <td>111593001</td>\n      <td>111593</td>\n      <td>3608</td>\n      <td>Support 40 den 1p Tights</td>\n      <td>Underwear Tights</td>\n      <td>1010016</td>\n      <td>Solid</td>\n      <td>9</td>\n      <td>Black</td>\n    </tr>\n    <tr>\n      <th>...</th>\n      <td>...</td>\n      <td>...</td>\n      <td>...</td>\n      <td>...</td>\n      <td>...</td>\n      <td>...</td>\n      <td>...</td>\n      <td>...</td>\n      <td>...</td>\n    </tr>\n    <tr>\n      <th>105185</th>\n      <td>934054002</td>\n      <td>934054</td>\n      <td>1522</td>\n      <td>Sicilly top</td>\n      <td>Blouse</td>\n      <td>1010016</td>\n      <td>Solid</td>\n      <td>6</td>\n      <td>Light Grey</td>\n    </tr>\n    <tr>\n      <th>105221</th>\n      <td>934727002</td>\n      <td>934727</td>\n      <td>1636</td>\n      <td>Kiara top</td>\n      <td>Top</td>\n      <td>1010021</td>\n      <td>Lace</td>\n      <td>9</td>\n      <td>Black</td>\n    </tr>\n    <tr>\n      <th>105314</th>\n      <td>936862001</td>\n      <td>936862</td>\n      <td>3090</td>\n      <td>EDC Marla dress</td>\n      <td>Dress</td>\n      <td>1010001</td>\n      <td>All over pattern</td>\n      <td>52</td>\n      <td>Pink</td>\n    </tr>\n    <tr>\n      <th>105319</th>\n      <td>936979001</td>\n      <td>936979</td>\n      <td>4344</td>\n      <td>Class Filippa Necklace</td>\n      <td>Necklace</td>\n      <td>1010016</td>\n      <td>Solid</td>\n      <td>5</td>\n      <td>Gold</td>\n    </tr>\n    <tr>\n      <th>105444</th>\n      <td>942187001</td>\n      <td>942187</td>\n      <td>1919</td>\n      <td>ED Sasha tee</td>\n      <td>T-shirt</td>\n      <td>1010016</td>\n      <td>Solid</td>\n      <td>9</td>\n      <td>Black</td>\n    </tr>\n  </tbody>\n</table>\n<p>3570 rows × 9 columns</p>\n</div>"
     },
     "execution_count": 22,
     "metadata": {},
     "output_type": "execute_result"
    }
   ],
   "source": [
    "article_df = full_article_df[['articleId', 'productCode', 'departmentNo', 'prodName', 'productTypeName',\n",
    "                              'graphicalAppearanceNo', 'graphicalAppearanceName', 'colourGroupCode', 'colourGroupName']]\n",
    "article_df"
   ],
   "metadata": {
    "collapsed": false
   }
  },
  {
   "cell_type": "markdown",
   "source": [
    "### Create Customer Dataframe"
   ],
   "metadata": {
    "collapsed": false
   }
  },
  {
   "cell_type": "code",
   "execution_count": 23,
   "outputs": [
    {
     "data": {
      "text/plain": "                                                customerId   fn  active  \\\n6432     0132cd2eb3c6b1f66784f65f94ddd8352add2653e0caf5...  NaN     NaN   \n7756     01713f103284ab2ba16f525802a6e33b69ffe216ad5b4d...  1.0     1.0   \n28090    0544e776969215ad79e12fa0407b0e6a4cb53182513744...  1.0     1.0   \n41270    07b80dee1cba3ff8ec0bc1ac13b1d37dd0d5cc0c3e934b...  NaN     NaN   \n42401    07f0a353d7ff555a1c0d94369dfa40e8f402cb1a32507a...  NaN     NaN   \n...                                                    ...  ...     ...   \n1359974  fdbe75e71e134938025dbbb9bc495bd302d578b449ac96...  1.0     1.0   \n1361059  fdf1294f414faac2b00a725f5d80c34f98a744d9b8b3ce...  NaN     NaN   \n1366543  fef793ec3a7d62d782824517355d74ded50964dce33009...  NaN     NaN   \n1370498  ffb925b11e1bb2e375d22a02d67907994eb8cb92ec2e7d...  NaN     NaN   \n1371509  ffe8f77be0ce1a5bde91c97cb76aa887fb200bba79fe5a...  1.0     1.0   \n\n        clubMemberStatus fashionNewsFrequency   age  \\\n6432              ACTIVE                 NONE  49.0   \n7756              ACTIVE            Regularly  33.0   \n28090             ACTIVE            Regularly  24.0   \n41270             ACTIVE                 NONE  28.0   \n42401             ACTIVE                 NONE  36.0   \n...                  ...                  ...   ...   \n1359974           ACTIVE            Regularly  22.0   \n1361059           ACTIVE                 NONE  32.0   \n1366543           ACTIVE                 NONE  46.0   \n1370498           ACTIVE                 NONE  34.0   \n1371509           ACTIVE            Regularly  26.0   \n\n                                                postalCode  \n6432     49f7ec29bcacbbf2120af5162f9f99c212e9dd26b48d79...  \n7756     fdedb8bcffaf04924840f6657e10fe7b451f52c6bf1824...  \n28090    d8ce1979cc44c786217c8130fe367e4b4d088c0bc88d65...  \n41270    7dcb5c70c6e2515284cbc66bf92f2009bba0197320a276...  \n42401    2de0cc9ede68389795f4dbe6949a1d23d2d17838e4eec6...  \n...                                                    ...  \n1359974  4d15039e3b9f409da4f8de9bdb10ea8991e534c91b0020...  \n1361059  0cd87888c3a13ebbb1e90cac6b9fbf34c51afa40865f55...  \n1366543  5799a39cffe701ebdb12181348bf10f9e23abcc3868c43...  \n1370498  ebdd8c5c893683c3cf52c011d4e35024e46d183c95f0fa...  \n1371509  bf90cabe02380b161574072e5ca4f77f62b313421e3f62...  \n\n[200 rows x 7 columns]",
      "text/html": "<div>\n<style scoped>\n    .dataframe tbody tr th:only-of-type {\n        vertical-align: middle;\n    }\n\n    .dataframe tbody tr th {\n        vertical-align: top;\n    }\n\n    .dataframe thead th {\n        text-align: right;\n    }\n</style>\n<table border=\"1\" class=\"dataframe\">\n  <thead>\n    <tr style=\"text-align: right;\">\n      <th></th>\n      <th>customerId</th>\n      <th>fn</th>\n      <th>active</th>\n      <th>clubMemberStatus</th>\n      <th>fashionNewsFrequency</th>\n      <th>age</th>\n      <th>postalCode</th>\n    </tr>\n  </thead>\n  <tbody>\n    <tr>\n      <th>6432</th>\n      <td>0132cd2eb3c6b1f66784f65f94ddd8352add2653e0caf5...</td>\n      <td>NaN</td>\n      <td>NaN</td>\n      <td>ACTIVE</td>\n      <td>NONE</td>\n      <td>49.0</td>\n      <td>49f7ec29bcacbbf2120af5162f9f99c212e9dd26b48d79...</td>\n    </tr>\n    <tr>\n      <th>7756</th>\n      <td>01713f103284ab2ba16f525802a6e33b69ffe216ad5b4d...</td>\n      <td>1.0</td>\n      <td>1.0</td>\n      <td>ACTIVE</td>\n      <td>Regularly</td>\n      <td>33.0</td>\n      <td>fdedb8bcffaf04924840f6657e10fe7b451f52c6bf1824...</td>\n    </tr>\n    <tr>\n      <th>28090</th>\n      <td>0544e776969215ad79e12fa0407b0e6a4cb53182513744...</td>\n      <td>1.0</td>\n      <td>1.0</td>\n      <td>ACTIVE</td>\n      <td>Regularly</td>\n      <td>24.0</td>\n      <td>d8ce1979cc44c786217c8130fe367e4b4d088c0bc88d65...</td>\n    </tr>\n    <tr>\n      <th>41270</th>\n      <td>07b80dee1cba3ff8ec0bc1ac13b1d37dd0d5cc0c3e934b...</td>\n      <td>NaN</td>\n      <td>NaN</td>\n      <td>ACTIVE</td>\n      <td>NONE</td>\n      <td>28.0</td>\n      <td>7dcb5c70c6e2515284cbc66bf92f2009bba0197320a276...</td>\n    </tr>\n    <tr>\n      <th>42401</th>\n      <td>07f0a353d7ff555a1c0d94369dfa40e8f402cb1a32507a...</td>\n      <td>NaN</td>\n      <td>NaN</td>\n      <td>ACTIVE</td>\n      <td>NONE</td>\n      <td>36.0</td>\n      <td>2de0cc9ede68389795f4dbe6949a1d23d2d17838e4eec6...</td>\n    </tr>\n    <tr>\n      <th>...</th>\n      <td>...</td>\n      <td>...</td>\n      <td>...</td>\n      <td>...</td>\n      <td>...</td>\n      <td>...</td>\n      <td>...</td>\n    </tr>\n    <tr>\n      <th>1359974</th>\n      <td>fdbe75e71e134938025dbbb9bc495bd302d578b449ac96...</td>\n      <td>1.0</td>\n      <td>1.0</td>\n      <td>ACTIVE</td>\n      <td>Regularly</td>\n      <td>22.0</td>\n      <td>4d15039e3b9f409da4f8de9bdb10ea8991e534c91b0020...</td>\n    </tr>\n    <tr>\n      <th>1361059</th>\n      <td>fdf1294f414faac2b00a725f5d80c34f98a744d9b8b3ce...</td>\n      <td>NaN</td>\n      <td>NaN</td>\n      <td>ACTIVE</td>\n      <td>NONE</td>\n      <td>32.0</td>\n      <td>0cd87888c3a13ebbb1e90cac6b9fbf34c51afa40865f55...</td>\n    </tr>\n    <tr>\n      <th>1366543</th>\n      <td>fef793ec3a7d62d782824517355d74ded50964dce33009...</td>\n      <td>NaN</td>\n      <td>NaN</td>\n      <td>ACTIVE</td>\n      <td>NONE</td>\n      <td>46.0</td>\n      <td>5799a39cffe701ebdb12181348bf10f9e23abcc3868c43...</td>\n    </tr>\n    <tr>\n      <th>1370498</th>\n      <td>ffb925b11e1bb2e375d22a02d67907994eb8cb92ec2e7d...</td>\n      <td>NaN</td>\n      <td>NaN</td>\n      <td>ACTIVE</td>\n      <td>NONE</td>\n      <td>34.0</td>\n      <td>ebdd8c5c893683c3cf52c011d4e35024e46d183c95f0fa...</td>\n    </tr>\n    <tr>\n      <th>1371509</th>\n      <td>ffe8f77be0ce1a5bde91c97cb76aa887fb200bba79fe5a...</td>\n      <td>1.0</td>\n      <td>1.0</td>\n      <td>ACTIVE</td>\n      <td>Regularly</td>\n      <td>26.0</td>\n      <td>bf90cabe02380b161574072e5ca4f77f62b313421e3f62...</td>\n    </tr>\n  </tbody>\n</table>\n<p>200 rows × 7 columns</p>\n</div>"
     },
     "execution_count": 23,
     "metadata": {},
     "output_type": "execute_result"
    }
   ],
   "source": [
    "customer_df = camel_case_rename_cols(pd.read_csv('data/customers.csv'))\n",
    "customer_df = customer_df[customer_df.customerId.isin(customer_ids)]\n",
    "customer_df"
   ],
   "metadata": {
    "collapsed": false
   }
  },
  {
   "cell_type": "markdown",
   "source": [
    "## Graph Loading"
   ],
   "metadata": {
    "collapsed": false
   }
  },
  {
   "cell_type": "code",
   "execution_count": 24,
   "outputs": [],
   "source": [
    "load_dotenv('.env', override=True)\n",
    "\n",
    "# Use Neo4j URI and credentials according to our setup\n",
    "gds = GraphDataScience(\n",
    "    os.getenv('NEO4J_URI'),\n",
    "    auth=(os.getenv('NEO4J_USERNAME'),\n",
    "          os.getenv('NEO4J_PASSWORD')),\n",
    "    aura_ds=eval(os.getenv('AURA_DS').title()))\n",
    "\n",
    "# Necessary if you enabled Arrow on the db - this is true for AuraDS\n",
    "gds.set_database(\"neo4j\")"
   ],
   "metadata": {
    "collapsed": false
   }
  },
  {
   "cell_type": "code",
   "execution_count": 25,
   "outputs": [
    {
     "data": {
      "text/plain": "'2.4.7+36'"
     },
     "execution_count": 25,
     "metadata": {},
     "output_type": "execute_result"
    }
   ],
   "source": [
    "gds.version()"
   ],
   "metadata": {
    "collapsed": false
   }
  },
  {
   "cell_type": "markdown",
   "source": [
    "### Create Indexes"
   ],
   "metadata": {
    "collapsed": false
   }
  },
  {
   "cell_type": "code",
   "execution_count": 26,
   "outputs": [
    {
     "data": {
      "text/plain": "Empty DataFrame\nColumns: []\nIndex: []",
      "text/html": "<div>\n<style scoped>\n    .dataframe tbody tr th:only-of-type {\n        vertical-align: middle;\n    }\n\n    .dataframe tbody tr th {\n        vertical-align: top;\n    }\n\n    .dataframe thead th {\n        text-align: right;\n    }\n</style>\n<table border=\"1\" class=\"dataframe\">\n  <thead>\n    <tr style=\"text-align: right;\">\n      <th></th>\n    </tr>\n  </thead>\n  <tbody>\n  </tbody>\n</table>\n</div>"
     },
     "execution_count": 26,
     "metadata": {},
     "output_type": "execute_result"
    }
   ],
   "source": [
    "# one uniqueness constraint for each node label\n",
    "gds.run_cypher('CREATE CONSTRAINT unique_department_no IF NOT EXISTS FOR (n:Department) REQUIRE n.departmentNo IS UNIQUE')\n",
    "gds.run_cypher('CREATE CONSTRAINT unique_product_code IF NOT EXISTS FOR (n:Product) REQUIRE n.productCode IS UNIQUE')\n",
    "gds.run_cypher('CREATE CONSTRAINT unique_article_id IF NOT EXISTS FOR (n:Article) REQUIRE n.articleId IS UNIQUE')\n",
    "gds.run_cypher('CREATE CONSTRAINT unique_customer_id IF NOT EXISTS FOR (n:Customer) REQUIRE n.customerId IS UNIQUE')"
   ],
   "metadata": {
    "collapsed": false
   }
  },
  {
   "cell_type": "code",
   "execution_count": 27,
   "outputs": [],
   "source": [
    "from typing import Tuple, Union\n",
    "from numpy.typing import ArrayLike\n",
    "\n",
    "def make_map(x):\n",
    "    if type(x) == str:\n",
    "        return x, x\n",
    "    elif type(x) == tuple:\n",
    "        return x\n",
    "    else:\n",
    "        raise Exception(\"Entry must of type string or tuple\")\n",
    "\n",
    "\n",
    "def make_set_clause(prop_names: ArrayLike, element_name='n', item_name='rec'):\n",
    "    clause_list = []\n",
    "    for prop_name in prop_names:\n",
    "        clause_list.append(f'{element_name}.{prop_name} = {item_name}.{prop_name}')\n",
    "    return 'SET ' + ', '.join(clause_list)\n",
    "\n",
    "\n",
    "def make_node_merge_query(node_key_name: str, node_label: str, cols: ArrayLike):\n",
    "    template = f'''UNWIND $recs AS rec\\nMERGE(n:{node_label} {{{node_key_name}: rec.{node_key_name}}})'''\n",
    "    prop_names = [x for x in cols if x != node_key_name]\n",
    "    if len(prop_names) > 0:\n",
    "        template = template + '\\n' + make_set_clause(prop_names)\n",
    "    return template + '\\nRETURN count(n) AS nodeLoadedCount'\n",
    "\n",
    "\n",
    "def make_rel_merge_query(source_target_labels: Union[Tuple[str, str], str],\n",
    "                         source_node_key: Union[Tuple[str, str], str],\n",
    "                         target_node_key: Union[Tuple[str, str], str],\n",
    "                         rel_type: str,\n",
    "                         cols: ArrayLike,\n",
    "                         rel_key: str = None):\n",
    "\n",
    "    source_target_label_map = make_map(source_target_labels)\n",
    "    source_node_key_map = make_map(source_node_key)\n",
    "    target_node_key_map = make_map(target_node_key)\n",
    "\n",
    "    merge_statement = f'MERGE(s)-[r:{rel_type}]->(t)'\n",
    "    if rel_key is not None:\n",
    "        merge_statement = f'MERGE(s)-[r:{rel_type} {{{rel_key}: rec.{rel_key}}}]->(t)'\n",
    "\n",
    "    template = f'''\\tUNWIND $recs AS rec\n",
    "    MATCH(s:{source_target_label_map[0]} {{{source_node_key_map[0]}: rec.{source_node_key_map[1]}}})\n",
    "    MATCH(t:{source_target_label_map[1]} {{{target_node_key_map[0]}: rec.{target_node_key_map[1]}}})\\n\\t''' + merge_statement\n",
    "    prop_names = [x for x in cols if x not in [rel_key, source_node_key_map[1], target_node_key_map[1]]]\n",
    "    if len(prop_names) > 0:\n",
    "        template = template + '\\n\\t' + make_set_clause(prop_names, 'r')\n",
    "    return template + '\\n\\tRETURN count(r) AS relLoadedCount'\n",
    "\n",
    "\n",
    "def chunks(xs, n=50_000):\n",
    "    n = max(1, n)\n",
    "    return [xs[i:i + n] for i in range(0, len(xs), n)]\n",
    "\n",
    "\n",
    "def load_nodes(gds: GraphDataScience, node_df: pd.DataFrame, node_key_col: str, node_label: str, chunk_size=50_000):\n",
    "    records = node_df.to_dict('records')\n",
    "    print(f'======  loading {node_label} nodes  ======')\n",
    "    total = len(records)\n",
    "    print(f'staging {total:,} records')\n",
    "    query = make_node_merge_query(node_key_col, node_label, node_df.columns.copy())\n",
    "    cumulative_count = 0\n",
    "    for recs in chunks(records, chunk_size):\n",
    "        res = gds.run_cypher(query, params={'recs': recs})\n",
    "        cumulative_count += res.iloc[0, 0]\n",
    "        print(f'Loaded {cumulative_count:,} of {total:,} nodes')\n",
    "\n",
    "\n",
    "def load_rels(gds: GraphDataScience,\n",
    "              rel_df: pd.DataFrame,\n",
    "              source_target_labels: Union[Tuple[str, str], str],\n",
    "              source_node_key: Union[Tuple[str, str], str],\n",
    "              target_node_key: Union[Tuple[str, str], str],\n",
    "              rel_type: str,\n",
    "              rel_key: str = None,\n",
    "              chunk_size=50_000):\n",
    "    records = rel_df.to_dict('records')\n",
    "    print(f'======  loading {rel_type} relationships  ======')\n",
    "    total = len(records)\n",
    "    print(f'staging {total:,} records')\n",
    "    query = make_rel_merge_query(source_target_labels, source_node_key,\n",
    "                                 target_node_key, rel_type, rel_df.columns.copy(), rel_key)\n",
    "    cumulative_count = 0\n",
    "    for recs in chunks(records, chunk_size):\n",
    "        res = gds.run_cypher(query, params={'recs': recs})\n",
    "        cumulative_count += res.iloc[0, 0]\n",
    "        print(f'Loaded {cumulative_count:,} of {total:,} relationships')"
   ],
   "metadata": {
    "collapsed": false
   }
  },
  {
   "cell_type": "markdown",
   "source": [
    "### Load Nodes"
   ],
   "metadata": {
    "collapsed": false
   }
  },
  {
   "cell_type": "code",
   "execution_count": 28,
   "outputs": [
    {
     "name": "stdout",
     "output_type": "stream",
     "text": [
      "======  loading Department nodes  ======\n",
      "staging 212 records\n",
      "Loaded 212 of 212 nodes\n",
      "CPU times: user 7.98 ms, sys: 2.57 ms, total: 10.5 ms\n",
      "Wall time: 324 ms\n"
     ]
    }
   ],
   "source": [
    "%%time\n",
    "load_nodes(gds, department_df, 'departmentNo', 'Department')"
   ],
   "metadata": {
    "collapsed": false
   }
  },
  {
   "cell_type": "code",
   "execution_count": 29,
   "outputs": [
    {
     "name": "stdout",
     "output_type": "stream",
     "text": [
      "======  loading Product nodes  ======\n",
      "staging 2,583 records\n",
      "Loaded 2,583 of 2,583 nodes\n",
      "CPU times: user 77 ms, sys: 5.3 ms, total: 82.3 ms\n",
      "Wall time: 830 ms\n"
     ]
    }
   ],
   "source": [
    "%%time\n",
    "load_nodes(gds, product_df, 'productCode', 'Product')"
   ],
   "metadata": {
    "collapsed": false
   }
  },
  {
   "cell_type": "code",
   "execution_count": 30,
   "outputs": [
    {
     "name": "stdout",
     "output_type": "stream",
     "text": [
      "======  loading Article nodes  ======\n",
      "staging 3,570 records\n",
      "Loaded 3,570 of 3,570 nodes\n",
      "CPU times: user 79.4 ms, sys: 4.05 ms, total: 83.4 ms\n",
      "Wall time: 456 ms\n"
     ]
    }
   ],
   "source": [
    "%%time\n",
    "load_nodes(gds, article_df.drop(columns=['productCode', 'departmentNo']), 'articleId', 'Article')"
   ],
   "metadata": {
    "collapsed": false
   }
  },
  {
   "cell_type": "code",
   "execution_count": 31,
   "outputs": [
    {
     "name": "stdout",
     "output_type": "stream",
     "text": [
      "======  loading Customer nodes  ======\n",
      "staging 200 records\n",
      "Loaded 200 of 200 nodes\n",
      "CPU times: user 10.1 ms, sys: 2.28 ms, total: 12.3 ms\n",
      "Wall time: 318 ms\n"
     ]
    }
   ],
   "source": [
    "%%time\n",
    "load_nodes(gds, customer_df, 'customerId', 'Customer')"
   ],
   "metadata": {
    "collapsed": false
   }
  },
  {
   "cell_type": "markdown",
   "source": [
    "### Load Relationship"
   ],
   "metadata": {
    "collapsed": false
   }
  },
  {
   "cell_type": "code",
   "execution_count": 32,
   "outputs": [
    {
     "name": "stdout",
     "output_type": "stream",
     "text": [
      "======  loading FROM_DEPARTMENT relationships  ======\n",
      "staging 3,570 records\n",
      "Loaded 3,570 of 3,570 relationships\n",
      "CPU times: user 68.9 ms, sys: 30.7 ms, total: 99.6 ms\n",
      "Wall time: 423 ms\n"
     ]
    }
   ],
   "source": [
    "%%time\n",
    "load_rels(gds, article_df[['articleId', 'departmentNo']], source_target_labels=('Article', 'Department'),\n",
    "          source_node_key='articleId', target_node_key='departmentNo',\n",
    "          rel_type='FROM_DEPARTMENT')"
   ],
   "metadata": {
    "collapsed": false
   }
  },
  {
   "cell_type": "code",
   "execution_count": 33,
   "outputs": [
    {
     "name": "stdout",
     "output_type": "stream",
     "text": [
      "======  loading VARIANT_OF relationships  ======\n",
      "staging 3,570 records\n",
      "Loaded 3,570 of 3,570 relationships\n",
      "CPU times: user 37 ms, sys: 2.72 ms, total: 39.8 ms\n",
      "Wall time: 289 ms\n"
     ]
    }
   ],
   "source": [
    "%%time\n",
    "load_rels(gds, article_df[['articleId', 'productCode']], source_target_labels=('Article', 'Product'),\n",
    "          source_node_key='articleId',target_node_key='productCode',\n",
    "          rel_type='VARIANT_OF')"
   ],
   "metadata": {
    "collapsed": false
   }
  },
  {
   "cell_type": "code",
   "execution_count": 34,
   "outputs": [
    {
     "name": "stdout",
     "output_type": "stream",
     "text": [
      "======  loading PURCHASED relationships  ======\n",
      "staging 4,693 records\n",
      "Loaded 4,693 of 4,693 relationships\n",
      "CPU times: user 79.8 ms, sys: 3.59 ms, total: 83.4 ms\n",
      "Wall time: 481 ms\n"
     ]
    }
   ],
   "source": [
    "%%time\n",
    "load_rels(gds, transaction_df, source_target_labels=('Customer', 'Article'),\n",
    "          source_node_key='customerId', target_node_key='articleId',\n",
    "          rel_type='PURCHASED')"
   ],
   "metadata": {
    "collapsed": false
   }
  },
  {
   "cell_type": "markdown",
   "source": [
    "## Text Embedding Loading\n",
    "For now we will embed a concatenation of product fields (name, type, group, and descrption)."
   ],
   "metadata": {
    "collapsed": false
   }
  },
  {
   "cell_type": "code",
   "execution_count": 35,
   "outputs": [],
   "source": [
    "from langchain.embeddings import OpenAIEmbeddings, BedrockEmbeddings, SentenceTransformerEmbeddings"
   ],
   "metadata": {
    "collapsed": false
   }
  },
  {
   "cell_type": "code",
   "execution_count": 36,
   "outputs": [],
   "source": [
    "def load_embedding_model(embedding_model_name: str):\n",
    "    if embedding_model_name == \"openai\":\n",
    "        embeddings = OpenAIEmbeddings()\n",
    "        dimension = 1536\n",
    "    elif embedding_model_name == \"aws\":\n",
    "        embeddings = BedrockEmbeddings()\n",
    "        dimension = 1536\n",
    "    else:\n",
    "        embeddings = SentenceTransformerEmbeddings(\n",
    "            model_name=\"all-MiniLM-L6-v2\", cache_folder=\"/embedding_model\"\n",
    "        )\n",
    "        dimension = 384\n",
    "    return embeddings, dimension"
   ],
   "metadata": {
    "collapsed": false
   }
  },
  {
   "cell_type": "code",
   "execution_count": 40,
   "outputs": [],
   "source": [
    "embedding_model, dimension = load_embedding_model(os.getenv('EMBEDDING_MODEL'))"
   ],
   "metadata": {
    "collapsed": false
   }
  },
  {
   "cell_type": "code",
   "execution_count": 108,
   "outputs": [],
   "source": [
    "product_emb_df = product_df[['productCode', 'prodName', 'productTypeName', 'garmentGroupName', 'detailDesc']]\n",
    "product_emb_df = product_emb_df[product_emb_df.detailDesc.notnull()]"
   ],
   "metadata": {
    "collapsed": false
   }
  },
  {
   "cell_type": "code",
   "execution_count": 109,
   "outputs": [
    {
     "data": {
      "text/plain": "        productCode                                                doc\n0            108775  \\nName: Strap top\\nType: Vest top\\nGroup: Jers...\n6            111565  \\nName: 20 den 1p Stockings\\nType: Underwear T...\n8            111586  \\nName: Shape Up 30 den 1p Tights\\nType: Leggi...\n9            111593  \\nName: Support 40 den 1p Tights\\nType: Underw...\n17           118458  \\nName: Jerry jogger bottoms\\nType: Trousers\\n...\n...             ...                                                ...\n105185       934054  \\nName: Sicilly top\\nType: Blouse\\nGroup: Blou...\n105221       934727  \\nName: Kiara top\\nType: Top\\nGroup: Jersey Fa...\n105314       936862  \\nName: EDC Marla dress\\nType: Dress\\nGroup: S...\n105319       936979  \\nName: Class Filippa Necklace\\nType: Necklace...\n105444       942187  \\nName: ED Sasha tee\\nType: T-shirt\\nGroup: Je...\n\n[2578 rows x 2 columns]",
      "text/html": "<div>\n<style scoped>\n    .dataframe tbody tr th:only-of-type {\n        vertical-align: middle;\n    }\n\n    .dataframe tbody tr th {\n        vertical-align: top;\n    }\n\n    .dataframe thead th {\n        text-align: right;\n    }\n</style>\n<table border=\"1\" class=\"dataframe\">\n  <thead>\n    <tr style=\"text-align: right;\">\n      <th></th>\n      <th>productCode</th>\n      <th>doc</th>\n    </tr>\n  </thead>\n  <tbody>\n    <tr>\n      <th>0</th>\n      <td>108775</td>\n      <td>\\nName: Strap top\\nType: Vest top\\nGroup: Jers...</td>\n    </tr>\n    <tr>\n      <th>6</th>\n      <td>111565</td>\n      <td>\\nName: 20 den 1p Stockings\\nType: Underwear T...</td>\n    </tr>\n    <tr>\n      <th>8</th>\n      <td>111586</td>\n      <td>\\nName: Shape Up 30 den 1p Tights\\nType: Leggi...</td>\n    </tr>\n    <tr>\n      <th>9</th>\n      <td>111593</td>\n      <td>\\nName: Support 40 den 1p Tights\\nType: Underw...</td>\n    </tr>\n    <tr>\n      <th>17</th>\n      <td>118458</td>\n      <td>\\nName: Jerry jogger bottoms\\nType: Trousers\\n...</td>\n    </tr>\n    <tr>\n      <th>...</th>\n      <td>...</td>\n      <td>...</td>\n    </tr>\n    <tr>\n      <th>105185</th>\n      <td>934054</td>\n      <td>\\nName: Sicilly top\\nType: Blouse\\nGroup: Blou...</td>\n    </tr>\n    <tr>\n      <th>105221</th>\n      <td>934727</td>\n      <td>\\nName: Kiara top\\nType: Top\\nGroup: Jersey Fa...</td>\n    </tr>\n    <tr>\n      <th>105314</th>\n      <td>936862</td>\n      <td>\\nName: EDC Marla dress\\nType: Dress\\nGroup: S...</td>\n    </tr>\n    <tr>\n      <th>105319</th>\n      <td>936979</td>\n      <td>\\nName: Class Filippa Necklace\\nType: Necklace...</td>\n    </tr>\n    <tr>\n      <th>105444</th>\n      <td>942187</td>\n      <td>\\nName: ED Sasha tee\\nType: T-shirt\\nGroup: Je...</td>\n    </tr>\n  </tbody>\n</table>\n<p>2578 rows × 2 columns</p>\n</div>"
     },
     "execution_count": 109,
     "metadata": {},
     "output_type": "execute_result"
    }
   ],
   "source": [
    "def create_doc(row):\n",
    "    return f'''\n",
    "Name: {row.prodName}\n",
    "Type: {row.productTypeName}\n",
    "Group: {row.garmentGroupName}\n",
    "Description: {row.detailDesc}\n",
    "'''\n",
    "\n",
    "product_emb_df['doc'] = product_emb_df.apply(create_doc, axis=1)\n",
    "product_emb_df = product_emb_df.drop(columns=['prodName', 'productTypeName', 'garmentGroupName', 'detailDesc'])\n",
    "product_emb_df"
   ],
   "metadata": {
    "collapsed": false
   }
  },
  {
   "cell_type": "code",
   "execution_count": 111,
   "outputs": [
    {
     "name": "stdout",
     "output_type": "stream",
     "text": [
      "Embedded 200 of 2578\n",
      "Embedded 400 of 2578\n",
      "Embedded 600 of 2578\n",
      "Embedded 800 of 2578\n",
      "Embedded 1000 of 2578\n",
      "Embedded 1200 of 2578\n",
      "Embedded 1400 of 2578\n",
      "Embedded 1600 of 2578\n",
      "Embedded 1800 of 2578\n",
      "Embedded 2000 of 2578\n",
      "Embedded 2200 of 2578\n",
      "Embedded 2400 of 2578\n",
      "CPU times: user 14.1 s, sys: 3.17 s, total: 17.3 s\n",
      "Wall time: 8min 3s\n"
     ]
    }
   ],
   "source": [
    "%%time\n",
    "\n",
    "#Yeah....we should do this in batching/chunks...I think there is a way with langchain\n",
    "count = 0\n",
    "embeddings = []\n",
    "for txt in product_emb_df.doc:\n",
    "    count += 1\n",
    "    if count%200 == 0:\n",
    "       print(f'Embedded {count} of {product_emb_df.shape[0]}')\n",
    "    embeddings.append(embedding_model.embed_query(txt))"
   ],
   "metadata": {
    "collapsed": false
   }
  },
  {
   "cell_type": "code",
   "execution_count": 112,
   "outputs": [],
   "source": [
    "product_emb_df['textEmbedding'] = embeddings"
   ],
   "metadata": {
    "collapsed": false
   }
  },
  {
   "cell_type": "code",
   "execution_count": 114,
   "outputs": [
    {
     "name": "stdout",
     "output_type": "stream",
     "text": [
      "======  loading Product nodes  ======\n",
      "staging 2,578 records\n",
      "Loaded 2,578 of 2,578 nodes\n",
      "CPU times: user 4.28 s, sys: 230 ms, total: 4.51 s\n",
      "Wall time: 8.94 s\n"
     ]
    }
   ],
   "source": [
    "%%time\n",
    "load_nodes(gds, product_emb_df[['productCode', 'textEmbedding']], 'productCode', 'Product')"
   ],
   "metadata": {
    "collapsed": false
   }
  },
  {
   "cell_type": "code",
   "execution_count": 63,
   "outputs": [
    {
     "data": {
      "text/plain": "Empty DataFrame\nColumns: []\nIndex: []",
      "text/html": "<div>\n<style scoped>\n    .dataframe tbody tr th:only-of-type {\n        vertical-align: middle;\n    }\n\n    .dataframe tbody tr th {\n        vertical-align: top;\n    }\n\n    .dataframe thead th {\n        text-align: right;\n    }\n</style>\n<table border=\"1\" class=\"dataframe\">\n  <thead>\n    <tr style=\"text-align: right;\">\n      <th></th>\n    </tr>\n  </thead>\n  <tbody>\n  </tbody>\n</table>\n</div>"
     },
     "execution_count": 63,
     "metadata": {},
     "output_type": "execute_result"
    }
   ],
   "source": [
    "gds.run_cypher(f'CALL db.index.vector.createNodeIndex(\"product-text-embeddings\", \"Product\", \"textEmbedding\", {dimension}, \"cosine\")')"
   ],
   "metadata": {
    "collapsed": false
   }
  }
 ],
 "metadata": {
  "kernelspec": {
   "display_name": "Python 3",
   "language": "python",
   "name": "python3"
  },
  "language_info": {
   "codemirror_mode": {
    "name": "ipython",
    "version": 2
   },
   "file_extension": ".py",
   "mimetype": "text/x-python",
   "name": "python",
   "nbconvert_exporter": "python",
   "pygments_lexer": "ipython2",
   "version": "2.7.6"
  }
 },
 "nbformat": 4,
 "nbformat_minor": 0
}
