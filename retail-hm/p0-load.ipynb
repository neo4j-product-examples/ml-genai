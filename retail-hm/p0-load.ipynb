{
 "cells": [
  {
   "cell_type": "markdown",
   "metadata": {},
   "source": [
    "# Graph DB Load"
   ]
  },
  {
   "cell_type": "markdown",
   "metadata": {},
   "source": [
    "## Setup"
   ]
  },
  {
   "cell_type": "code",
   "execution_count": 11,
   "metadata": {
    "collapsed": false,
    "jupyter": {
     "outputs_hidden": false
    }
   },
   "outputs": [],
   "source": [
    "%%capture\n",
    "%pip install kaggle sentence_transformers langchain openai tiktoken python-dotenv\n",
    "%pip install --upgrade graphdatascience"
   ]
  },
  {
   "cell_type": "code",
   "execution_count": 12,
   "metadata": {
    "collapsed": false,
    "jupyter": {
     "outputs_hidden": false
    }
   },
   "outputs": [
    {
     "data": {
      "text/plain": [
       "'1.8'"
      ]
     },
     "execution_count": 12,
     "metadata": {},
     "output_type": "execute_result"
    }
   ],
   "source": [
    "import graphdatascience\n",
    "graphdatascience.__version__"
   ]
  },
  {
   "cell_type": "code",
   "execution_count": 13,
   "metadata": {
    "collapsed": false,
    "jupyter": {
     "outputs_hidden": false
    }
   },
   "outputs": [],
   "source": [
    "from graphdatascience import GraphDataScience\n",
    "from dotenv import load_dotenv\n",
    "import os\n",
    "import pandas as pd\n",
    "import numpy as np"
   ]
  },
  {
   "cell_type": "code",
   "execution_count": 14,
   "metadata": {
    "collapsed": false,
    "jupyter": {
     "outputs_hidden": false
    }
   },
   "outputs": [
    {
     "name": "stdout",
     "output_type": "stream",
     "text": [
      "Warning: Your Kaggle API key is readable by other users on this system! To fix this, you can run 'chmod 600 /home/jupyter/.kaggle/kaggle.json'\n",
      "articles.csv.zip: Skipping, found more recently modified local copy (use --force to force download)\n",
      "Warning: Your Kaggle API key is readable by other users on this system! To fix this, you can run 'chmod 600 /home/jupyter/.kaggle/kaggle.json'\n",
      "customers.csv.zip: Skipping, found more recently modified local copy (use --force to force download)\n",
      "Warning: Your Kaggle API key is readable by other users on this system! To fix this, you can run 'chmod 600 /home/jupyter/.kaggle/kaggle.json'\n",
      "transactions_train.csv.zip: Skipping, found more recently modified local copy (use --force to force download)\n",
      "Archive:  transactions_train.csv.zip\n",
      "\n",
      "Archive:  customers.csv.zip\n",
      "\n",
      "Archive:  articles.csv.zip\n",
      "\n",
      "3 archives were successfully processed.\n"
     ]
    }
   ],
   "source": [
    "# configure authentication per instruction @ https://github.com/Kaggle/kaggle-api/README.md\n",
    "!kaggle competitions download -c h-and-m-personalized-fashion-recommendations -f articles.csv -p data\n",
    "!kaggle competitions download -c h-and-m-personalized-fashion-recommendations -f customers.csv -p data\n",
    "!kaggle competitions download -c h-and-m-personalized-fashion-recommendations -f transactions_train.csv -p data\n",
    "!cd data && unzip -n '*.zip'"
   ]
  },
  {
   "cell_type": "markdown",
   "metadata": {},
   "source": []
  },
  {
   "cell_type": "code",
   "execution_count": 15,
   "metadata": {
    "collapsed": false,
    "jupyter": {
     "outputs_hidden": false
    }
   },
   "outputs": [],
   "source": [
    "def camel_case(s):\n",
    "    ss = s.lower().split('_')\n",
    "    if len(ss) == 1:\n",
    "        return ss[0]\n",
    "    return ss[0] + ''.join(st.title() for st in ss[1:])\n",
    "\n",
    "def camel_case_dict(name_keys):\n",
    "    name_values = [camel_case(s) for s in name_keys]\n",
    "    return dict(zip(name_keys, name_values))\n",
    "\n",
    "def camel_case_rename_cols(df):\n",
    "    col_map = camel_case_dict(df.columns)\n",
    "    return df.rename(columns=col_map)"
   ]
  },
  {
   "cell_type": "markdown",
   "metadata": {},
   "source": [
    "## Filtering & Sampling\n",
    "There is two stage optional sampling to pair down on articles and customers respectively.  Below are the two stages (in the order they are applied)\n",
    "1. __Article Filtering__: Filter out transactions for intimate products along with customers that purchased those products. Since removing partial customer history could result in modeling difficulties due to unobserved/partial ground truth, customers who purchased these products are also completely removed from the dataset. __This will produce a list - `filtered_customer_ids`.\n",
    "2. __Customer Sampling__: Sample a subset of customers. The full dataset includes 1.3 Million customers and tens of millions of transactions as a result.  This could be unwieldy in a demo setting so we provide a way to sample a smaller number of customers here. Once customers are subsampled, article Ids are sampled down again to only reflect the articles purchased by the sampled customers. This will produce two lists to sample down with later:\n",
    "    - `customer_ids`\n",
    "    - `article_ids`"
   ]
  },
  {
   "cell_type": "code",
   "execution_count": 16,
   "metadata": {
    "collapsed": false,
    "jupyter": {
     "outputs_hidden": false
    }
   },
   "outputs": [],
   "source": [
    "SAMPLE_NUM_CUSTOMERS = 2000 #set to 0 or less for no sampling\n",
    "FILTER_ARTICLES = False #whether to filter out certain intimate products for demo purposes (real data problems)\n",
    "RANDOM_SEED = 7474"
   ]
  },
  {
   "cell_type": "markdown",
   "metadata": {},
   "source": [
    "### Article Filtering"
   ]
  },
  {
   "cell_type": "code",
   "execution_count": 17,
   "metadata": {
    "collapsed": false,
    "jupyter": {
     "outputs_hidden": false
    }
   },
   "outputs": [
    {
     "data": {
      "text/plain": [
       "(105542, 25)"
      ]
     },
     "execution_count": 17,
     "metadata": {},
     "output_type": "execute_result"
    }
   ],
   "source": [
    "init_article_df = camel_case_rename_cols(pd.read_csv('data/articles.csv'))\n",
    "init_article_df.shape"
   ]
  },
  {
   "cell_type": "code",
   "execution_count": 18,
   "metadata": {
    "collapsed": false,
    "jupyter": {
     "outputs_hidden": false
    }
   },
   "outputs": [],
   "source": [
    "# Filtering out some intimate products for demo purposes\n",
    "filtered_article_ids = init_article_df.articleId\n",
    "if FILTER_ARTICLES:\n",
    "    filtered_article_ids = init_article_df[init_article_df.garmentGroupName != 'Under-, Nightwear'].articleId"
   ]
  },
  {
   "cell_type": "code",
   "execution_count": 19,
   "metadata": {
    "collapsed": false,
    "jupyter": {
     "outputs_hidden": false
    }
   },
   "outputs": [
    {
     "data": {
      "text/plain": [
       "(31788324, 6)"
      ]
     },
     "execution_count": 19,
     "metadata": {},
     "output_type": "execute_result"
    }
   ],
   "source": [
    "init_transaction_df = camel_case_rename_cols(pd.read_csv('data/transactions_train.csv'))\n",
    "# generally a good idea to have an id for these (source data doesn't include ids)\n",
    "init_transaction_df['txId'] = range(init_transaction_df.shape[0])\n",
    "init_transaction_df.shape"
   ]
  },
  {
   "cell_type": "code",
   "execution_count": 20,
   "metadata": {
    "collapsed": false,
    "jupyter": {
     "outputs_hidden": false
    }
   },
   "outputs": [
    {
     "data": {
      "text/plain": [
       "0           000058a12d5b43e67d225668fa1f8d618c13dc232df0ca...\n",
       "2           00007d2de826758b65a93dd24ce629ed66842531df6699...\n",
       "7           00083cda041544b2fbb0e0d2905ad17da7cf1007526fb4...\n",
       "12          0008968c0d451dbc5a9968da03196fe20051965edde741...\n",
       "14          000aa7f0dc06cd7174389e76c9e132a67860c5f65f9706...\n",
       "                                  ...                        \n",
       "31788165    fe99a0069d6b3c64c2707d0ce53b9311540917471d82df...\n",
       "31788202    fecc5f77b5f7ee4570efde9ab05ec94d0de2bf80efb4f6...\n",
       "31788208    fece2f68864c311a0b5208e2eb735b3dcde7e41461d327...\n",
       "31788217    fee56cc5315dafb35a4490ccc6f711092cae913550c832...\n",
       "31788275    ff5b8a8b26bf93a66290e9bd1b73393ac6a58968a78519...\n",
       "Name: customerId, Length: 1362281, dtype: object"
      ]
     },
     "execution_count": 20,
     "metadata": {},
     "output_type": "execute_result"
    }
   ],
   "source": [
    "filtered_customer_ids = init_transaction_df[init_transaction_df.articleId.isin(filtered_article_ids)].customerId.drop_duplicates()\n",
    "filtered_customer_ids"
   ]
  },
  {
   "cell_type": "markdown",
   "metadata": {},
   "source": [
    "## Sample Customers"
   ]
  },
  {
   "cell_type": "code",
   "execution_count": 21,
   "metadata": {
    "collapsed": false,
    "jupyter": {
     "outputs_hidden": false
    }
   },
   "outputs": [
    {
     "data": {
      "text/plain": [
       "0       fdbe75e71e134938025dbbb9bc495bd302d578b449ac96...\n",
       "1       fb9310441b653525f1adad3fbe7ece522ba50e752cca62...\n",
       "2       f0a8599239eea199f1440af86ab9df78cb5d4e85f532fd...\n",
       "3       4dd8a1b3175c88f07b123b388a5c9b5dfe16b3ba6fdf62...\n",
       "4       696093ad8815f16ab92c07eb32d69c2d1e90daef479de7...\n",
       "                              ...                        \n",
       "1995    77f2b46bb15fb4c1251d82a37b2ed7d83f5a92bb5ff159...\n",
       "1996    074148aa72ce41f82ca909e1912a18e2c055cae5b71390...\n",
       "1997    b96b1cf69098b801738b20c4e922a46f5c713113442689...\n",
       "1998    dfba337fefbf14b24281a0f931bbaba6e388ef4d1bc0e4...\n",
       "1999    1abde4c8b89375315feca757811924a377dfe2ec8cc8a1...\n",
       "Name: customerId, Length: 2000, dtype: object"
      ]
     },
     "execution_count": 21,
     "metadata": {},
     "output_type": "execute_result"
    }
   ],
   "source": [
    "customer_ids = filtered_customer_ids\n",
    "if SAMPLE_NUM_CUSTOMERS > 0:\n",
    "    customer_ids = filtered_customer_ids.sample(n=SAMPLE_NUM_CUSTOMERS, random_state=RANDOM_SEED).reset_index(drop=True)\n",
    "customer_ids"
   ]
  },
  {
   "cell_type": "code",
   "execution_count": 22,
   "metadata": {
    "collapsed": false,
    "jupyter": {
     "outputs_hidden": false
    }
   },
   "outputs": [
    {
     "data": {
      "text/plain": [
       "1559        662888002\n",
       "1560        662888001\n",
       "1561        651244002\n",
       "1562        651244001\n",
       "1588        633152003\n",
       "              ...    \n",
       "31775199    706271031\n",
       "31779118    865926002\n",
       "31779121    906639004\n",
       "31779122    684238003\n",
       "31779125    812530004\n",
       "Name: articleId, Length: 21596, dtype: int64"
      ]
     },
     "execution_count": 22,
     "metadata": {},
     "output_type": "execute_result"
    }
   ],
   "source": [
    "article_ids = init_transaction_df[init_transaction_df.customerId.isin(customer_ids)].articleId.drop_duplicates()\n",
    "article_ids"
   ]
  },
  {
   "cell_type": "markdown",
   "metadata": {},
   "source": [
    "## Sample Down Data\n",
    "Now that we have the list of customers and articles to include , `customer_ids`, and `article_ids` respectively, we can use them to filter the source data and stage for loading"
   ]
  },
  {
   "cell_type": "code",
   "execution_count": 23,
   "metadata": {
    "collapsed": false,
    "jupyter": {
     "outputs_hidden": false
    }
   },
   "outputs": [
    {
     "data": {
      "text/html": [
       "<div>\n",
       "<style scoped>\n",
       "    .dataframe tbody tr th:only-of-type {\n",
       "        vertical-align: middle;\n",
       "    }\n",
       "\n",
       "    .dataframe tbody tr th {\n",
       "        vertical-align: top;\n",
       "    }\n",
       "\n",
       "    .dataframe thead th {\n",
       "        text-align: right;\n",
       "    }\n",
       "</style>\n",
       "<table border=\"1\" class=\"dataframe\">\n",
       "  <thead>\n",
       "    <tr style=\"text-align: right;\">\n",
       "      <th></th>\n",
       "      <th>tDat</th>\n",
       "      <th>customerId</th>\n",
       "      <th>articleId</th>\n",
       "      <th>price</th>\n",
       "      <th>salesChannelId</th>\n",
       "      <th>txId</th>\n",
       "    </tr>\n",
       "  </thead>\n",
       "  <tbody>\n",
       "    <tr>\n",
       "      <th>1559</th>\n",
       "      <td>2018-09-20</td>\n",
       "      <td>080756754aef493b2b36f592eae744f2b9787dc55b635b...</td>\n",
       "      <td>662888002</td>\n",
       "      <td>0.033881</td>\n",
       "      <td>2</td>\n",
       "      <td>1559</td>\n",
       "    </tr>\n",
       "    <tr>\n",
       "      <th>1560</th>\n",
       "      <td>2018-09-20</td>\n",
       "      <td>080756754aef493b2b36f592eae744f2b9787dc55b635b...</td>\n",
       "      <td>662888001</td>\n",
       "      <td>0.033881</td>\n",
       "      <td>2</td>\n",
       "      <td>1560</td>\n",
       "    </tr>\n",
       "    <tr>\n",
       "      <th>1561</th>\n",
       "      <td>2018-09-20</td>\n",
       "      <td>080756754aef493b2b36f592eae744f2b9787dc55b635b...</td>\n",
       "      <td>651244002</td>\n",
       "      <td>0.013542</td>\n",
       "      <td>2</td>\n",
       "      <td>1561</td>\n",
       "    </tr>\n",
       "    <tr>\n",
       "      <th>1562</th>\n",
       "      <td>2018-09-20</td>\n",
       "      <td>080756754aef493b2b36f592eae744f2b9787dc55b635b...</td>\n",
       "      <td>651244001</td>\n",
       "      <td>0.006763</td>\n",
       "      <td>2</td>\n",
       "      <td>1562</td>\n",
       "    </tr>\n",
       "    <tr>\n",
       "      <th>1588</th>\n",
       "      <td>2018-09-20</td>\n",
       "      <td>0843d9fb6e4f3befa53ff3a8447b902b9f75bfa955a0f9...</td>\n",
       "      <td>633152003</td>\n",
       "      <td>0.030492</td>\n",
       "      <td>1</td>\n",
       "      <td>1588</td>\n",
       "    </tr>\n",
       "    <tr>\n",
       "      <th>...</th>\n",
       "      <td>...</td>\n",
       "      <td>...</td>\n",
       "      <td>...</td>\n",
       "      <td>...</td>\n",
       "      <td>...</td>\n",
       "      <td>...</td>\n",
       "    </tr>\n",
       "    <tr>\n",
       "      <th>31779124</th>\n",
       "      <td>2020-09-22</td>\n",
       "      <td>b6be55f233772b5fc4a1ebedf36542fb3e1b6c15c23c7e...</td>\n",
       "      <td>921266007</td>\n",
       "      <td>0.016932</td>\n",
       "      <td>2</td>\n",
       "      <td>31779124</td>\n",
       "    </tr>\n",
       "    <tr>\n",
       "      <th>31779125</th>\n",
       "      <td>2020-09-22</td>\n",
       "      <td>b6be55f233772b5fc4a1ebedf36542fb3e1b6c15c23c7e...</td>\n",
       "      <td>812530004</td>\n",
       "      <td>0.010153</td>\n",
       "      <td>2</td>\n",
       "      <td>31779125</td>\n",
       "    </tr>\n",
       "    <tr>\n",
       "      <th>31779126</th>\n",
       "      <td>2020-09-22</td>\n",
       "      <td>b6be55f233772b5fc4a1ebedf36542fb3e1b6c15c23c7e...</td>\n",
       "      <td>942187001</td>\n",
       "      <td>0.016932</td>\n",
       "      <td>2</td>\n",
       "      <td>31779126</td>\n",
       "    </tr>\n",
       "    <tr>\n",
       "      <th>31779127</th>\n",
       "      <td>2020-09-22</td>\n",
       "      <td>b6be55f233772b5fc4a1ebedf36542fb3e1b6c15c23c7e...</td>\n",
       "      <td>866731001</td>\n",
       "      <td>0.025407</td>\n",
       "      <td>2</td>\n",
       "      <td>31779127</td>\n",
       "    </tr>\n",
       "    <tr>\n",
       "      <th>31779858</th>\n",
       "      <td>2020-09-22</td>\n",
       "      <td>bc5e2e45ecc9b00eb0b01a3373edbb654aad248d75f12b...</td>\n",
       "      <td>678942001</td>\n",
       "      <td>0.016932</td>\n",
       "      <td>2</td>\n",
       "      <td>31779858</td>\n",
       "    </tr>\n",
       "  </tbody>\n",
       "</table>\n",
       "<p>48064 rows × 6 columns</p>\n",
       "</div>"
      ],
      "text/plain": [
       "                tDat                                         customerId  \\\n",
       "1559      2018-09-20  080756754aef493b2b36f592eae744f2b9787dc55b635b...   \n",
       "1560      2018-09-20  080756754aef493b2b36f592eae744f2b9787dc55b635b...   \n",
       "1561      2018-09-20  080756754aef493b2b36f592eae744f2b9787dc55b635b...   \n",
       "1562      2018-09-20  080756754aef493b2b36f592eae744f2b9787dc55b635b...   \n",
       "1588      2018-09-20  0843d9fb6e4f3befa53ff3a8447b902b9f75bfa955a0f9...   \n",
       "...              ...                                                ...   \n",
       "31779124  2020-09-22  b6be55f233772b5fc4a1ebedf36542fb3e1b6c15c23c7e...   \n",
       "31779125  2020-09-22  b6be55f233772b5fc4a1ebedf36542fb3e1b6c15c23c7e...   \n",
       "31779126  2020-09-22  b6be55f233772b5fc4a1ebedf36542fb3e1b6c15c23c7e...   \n",
       "31779127  2020-09-22  b6be55f233772b5fc4a1ebedf36542fb3e1b6c15c23c7e...   \n",
       "31779858  2020-09-22  bc5e2e45ecc9b00eb0b01a3373edbb654aad248d75f12b...   \n",
       "\n",
       "          articleId     price  salesChannelId      txId  \n",
       "1559      662888002  0.033881               2      1559  \n",
       "1560      662888001  0.033881               2      1560  \n",
       "1561      651244002  0.013542               2      1561  \n",
       "1562      651244001  0.006763               2      1562  \n",
       "1588      633152003  0.030492               1      1588  \n",
       "...             ...       ...             ...       ...  \n",
       "31779124  921266007  0.016932               2  31779124  \n",
       "31779125  812530004  0.010153               2  31779125  \n",
       "31779126  942187001  0.016932               2  31779126  \n",
       "31779127  866731001  0.025407               2  31779127  \n",
       "31779858  678942001  0.016932               2  31779858  \n",
       "\n",
       "[48064 rows x 6 columns]"
      ]
     },
     "execution_count": 23,
     "metadata": {},
     "output_type": "execute_result"
    }
   ],
   "source": [
    "transaction_df = init_transaction_df[init_transaction_df.customerId.isin(customer_ids)]\n",
    "transaction_df"
   ]
  },
  {
   "cell_type": "code",
   "execution_count": 24,
   "metadata": {
    "collapsed": false,
    "jupyter": {
     "outputs_hidden": false
    }
   },
   "outputs": [
    {
     "data": {
      "text/html": [
       "<div>\n",
       "<style scoped>\n",
       "    .dataframe tbody tr th:only-of-type {\n",
       "        vertical-align: middle;\n",
       "    }\n",
       "\n",
       "    .dataframe tbody tr th {\n",
       "        vertical-align: top;\n",
       "    }\n",
       "\n",
       "    .dataframe thead th {\n",
       "        text-align: right;\n",
       "    }\n",
       "</style>\n",
       "<table border=\"1\" class=\"dataframe\">\n",
       "  <thead>\n",
       "    <tr style=\"text-align: right;\">\n",
       "      <th></th>\n",
       "      <th>articleId</th>\n",
       "      <th>productCode</th>\n",
       "      <th>prodName</th>\n",
       "      <th>productTypeNo</th>\n",
       "      <th>productTypeName</th>\n",
       "      <th>productGroupName</th>\n",
       "      <th>graphicalAppearanceNo</th>\n",
       "      <th>graphicalAppearanceName</th>\n",
       "      <th>colourGroupCode</th>\n",
       "      <th>colourGroupName</th>\n",
       "      <th>...</th>\n",
       "      <th>departmentName</th>\n",
       "      <th>indexCode</th>\n",
       "      <th>indexName</th>\n",
       "      <th>indexGroupNo</th>\n",
       "      <th>indexGroupName</th>\n",
       "      <th>sectionNo</th>\n",
       "      <th>sectionName</th>\n",
       "      <th>garmentGroupNo</th>\n",
       "      <th>garmentGroupName</th>\n",
       "      <th>detailDesc</th>\n",
       "    </tr>\n",
       "  </thead>\n",
       "  <tbody>\n",
       "    <tr>\n",
       "      <th>0</th>\n",
       "      <td>108775015</td>\n",
       "      <td>108775</td>\n",
       "      <td>Strap top</td>\n",
       "      <td>253</td>\n",
       "      <td>Vest top</td>\n",
       "      <td>Garment Upper body</td>\n",
       "      <td>1010016</td>\n",
       "      <td>Solid</td>\n",
       "      <td>9</td>\n",
       "      <td>Black</td>\n",
       "      <td>...</td>\n",
       "      <td>Jersey Basic</td>\n",
       "      <td>A</td>\n",
       "      <td>Ladieswear</td>\n",
       "      <td>1</td>\n",
       "      <td>Ladieswear</td>\n",
       "      <td>16</td>\n",
       "      <td>Womens Everyday Basics</td>\n",
       "      <td>1002</td>\n",
       "      <td>Jersey Basic</td>\n",
       "      <td>Jersey top with narrow shoulder straps.</td>\n",
       "    </tr>\n",
       "    <tr>\n",
       "      <th>1</th>\n",
       "      <td>108775044</td>\n",
       "      <td>108775</td>\n",
       "      <td>Strap top</td>\n",
       "      <td>253</td>\n",
       "      <td>Vest top</td>\n",
       "      <td>Garment Upper body</td>\n",
       "      <td>1010016</td>\n",
       "      <td>Solid</td>\n",
       "      <td>10</td>\n",
       "      <td>White</td>\n",
       "      <td>...</td>\n",
       "      <td>Jersey Basic</td>\n",
       "      <td>A</td>\n",
       "      <td>Ladieswear</td>\n",
       "      <td>1</td>\n",
       "      <td>Ladieswear</td>\n",
       "      <td>16</td>\n",
       "      <td>Womens Everyday Basics</td>\n",
       "      <td>1002</td>\n",
       "      <td>Jersey Basic</td>\n",
       "      <td>Jersey top with narrow shoulder straps.</td>\n",
       "    </tr>\n",
       "    <tr>\n",
       "      <th>3</th>\n",
       "      <td>110065001</td>\n",
       "      <td>110065</td>\n",
       "      <td>OP T-shirt (Idro)</td>\n",
       "      <td>306</td>\n",
       "      <td>Bra</td>\n",
       "      <td>Underwear</td>\n",
       "      <td>1010016</td>\n",
       "      <td>Solid</td>\n",
       "      <td>9</td>\n",
       "      <td>Black</td>\n",
       "      <td>...</td>\n",
       "      <td>Clean Lingerie</td>\n",
       "      <td>B</td>\n",
       "      <td>Lingeries/Tights</td>\n",
       "      <td>1</td>\n",
       "      <td>Ladieswear</td>\n",
       "      <td>61</td>\n",
       "      <td>Womens Lingerie</td>\n",
       "      <td>1017</td>\n",
       "      <td>Under-, Nightwear</td>\n",
       "      <td>Microfibre T-shirt bra with underwired, moulde...</td>\n",
       "    </tr>\n",
       "    <tr>\n",
       "      <th>4</th>\n",
       "      <td>110065002</td>\n",
       "      <td>110065</td>\n",
       "      <td>OP T-shirt (Idro)</td>\n",
       "      <td>306</td>\n",
       "      <td>Bra</td>\n",
       "      <td>Underwear</td>\n",
       "      <td>1010016</td>\n",
       "      <td>Solid</td>\n",
       "      <td>10</td>\n",
       "      <td>White</td>\n",
       "      <td>...</td>\n",
       "      <td>Clean Lingerie</td>\n",
       "      <td>B</td>\n",
       "      <td>Lingeries/Tights</td>\n",
       "      <td>1</td>\n",
       "      <td>Ladieswear</td>\n",
       "      <td>61</td>\n",
       "      <td>Womens Lingerie</td>\n",
       "      <td>1017</td>\n",
       "      <td>Under-, Nightwear</td>\n",
       "      <td>Microfibre T-shirt bra with underwired, moulde...</td>\n",
       "    </tr>\n",
       "    <tr>\n",
       "      <th>6</th>\n",
       "      <td>111565001</td>\n",
       "      <td>111565</td>\n",
       "      <td>20 den 1p Stockings</td>\n",
       "      <td>304</td>\n",
       "      <td>Underwear Tights</td>\n",
       "      <td>Socks &amp; Tights</td>\n",
       "      <td>1010016</td>\n",
       "      <td>Solid</td>\n",
       "      <td>9</td>\n",
       "      <td>Black</td>\n",
       "      <td>...</td>\n",
       "      <td>Tights basic</td>\n",
       "      <td>B</td>\n",
       "      <td>Lingeries/Tights</td>\n",
       "      <td>1</td>\n",
       "      <td>Ladieswear</td>\n",
       "      <td>62</td>\n",
       "      <td>Womens Nightwear, Socks &amp; Tigh</td>\n",
       "      <td>1021</td>\n",
       "      <td>Socks and Tights</td>\n",
       "      <td>Semi shiny nylon stockings with a wide, reinfo...</td>\n",
       "    </tr>\n",
       "    <tr>\n",
       "      <th>...</th>\n",
       "      <td>...</td>\n",
       "      <td>...</td>\n",
       "      <td>...</td>\n",
       "      <td>...</td>\n",
       "      <td>...</td>\n",
       "      <td>...</td>\n",
       "      <td>...</td>\n",
       "      <td>...</td>\n",
       "      <td>...</td>\n",
       "      <td>...</td>\n",
       "      <td>...</td>\n",
       "      <td>...</td>\n",
       "      <td>...</td>\n",
       "      <td>...</td>\n",
       "      <td>...</td>\n",
       "      <td>...</td>\n",
       "      <td>...</td>\n",
       "      <td>...</td>\n",
       "      <td>...</td>\n",
       "      <td>...</td>\n",
       "      <td>...</td>\n",
       "    </tr>\n",
       "    <tr>\n",
       "      <th>105395</th>\n",
       "      <td>939927001</td>\n",
       "      <td>939927</td>\n",
       "      <td>Dolphin</td>\n",
       "      <td>265</td>\n",
       "      <td>Dress</td>\n",
       "      <td>Garment Full body</td>\n",
       "      <td>1010013</td>\n",
       "      <td>Other pattern</td>\n",
       "      <td>9</td>\n",
       "      <td>Black</td>\n",
       "      <td>...</td>\n",
       "      <td>Dress</td>\n",
       "      <td>A</td>\n",
       "      <td>Ladieswear</td>\n",
       "      <td>1</td>\n",
       "      <td>Ladieswear</td>\n",
       "      <td>15</td>\n",
       "      <td>Womens Everyday Collection</td>\n",
       "      <td>1013</td>\n",
       "      <td>Dresses Ladies</td>\n",
       "      <td>Short dress in an airy weave with a small stan...</td>\n",
       "    </tr>\n",
       "    <tr>\n",
       "      <th>105444</th>\n",
       "      <td>942187001</td>\n",
       "      <td>942187</td>\n",
       "      <td>ED Sasha tee</td>\n",
       "      <td>255</td>\n",
       "      <td>T-shirt</td>\n",
       "      <td>Garment Upper body</td>\n",
       "      <td>1010016</td>\n",
       "      <td>Solid</td>\n",
       "      <td>9</td>\n",
       "      <td>Black</td>\n",
       "      <td>...</td>\n",
       "      <td>Jersey</td>\n",
       "      <td>A</td>\n",
       "      <td>Ladieswear</td>\n",
       "      <td>1</td>\n",
       "      <td>Ladieswear</td>\n",
       "      <td>2</td>\n",
       "      <td>H&amp;M+</td>\n",
       "      <td>1005</td>\n",
       "      <td>Jersey Fancy</td>\n",
       "      <td>Oversized, straight-cut T-shirt in a soft moda...</td>\n",
       "    </tr>\n",
       "    <tr>\n",
       "      <th>105493</th>\n",
       "      <td>946282001</td>\n",
       "      <td>946282</td>\n",
       "      <td>Linnea dress</td>\n",
       "      <td>265</td>\n",
       "      <td>Dress</td>\n",
       "      <td>Garment Full body</td>\n",
       "      <td>1010021</td>\n",
       "      <td>Lace</td>\n",
       "      <td>9</td>\n",
       "      <td>Black</td>\n",
       "      <td>...</td>\n",
       "      <td>Dress</td>\n",
       "      <td>A</td>\n",
       "      <td>Ladieswear</td>\n",
       "      <td>1</td>\n",
       "      <td>Ladieswear</td>\n",
       "      <td>15</td>\n",
       "      <td>Womens Everyday Collection</td>\n",
       "      <td>1013</td>\n",
       "      <td>Dresses Ladies</td>\n",
       "      <td>Short dress in lace with flounces down the fro...</td>\n",
       "    </tr>\n",
       "    <tr>\n",
       "      <th>105520</th>\n",
       "      <td>947599001</td>\n",
       "      <td>947599</td>\n",
       "      <td>ED Duno 2p.</td>\n",
       "      <td>254</td>\n",
       "      <td>Top</td>\n",
       "      <td>Garment Upper body</td>\n",
       "      <td>1010016</td>\n",
       "      <td>Solid</td>\n",
       "      <td>9</td>\n",
       "      <td>Black</td>\n",
       "      <td>...</td>\n",
       "      <td>Jersey</td>\n",
       "      <td>A</td>\n",
       "      <td>Ladieswear</td>\n",
       "      <td>1</td>\n",
       "      <td>Ladieswear</td>\n",
       "      <td>2</td>\n",
       "      <td>H&amp;M+</td>\n",
       "      <td>1005</td>\n",
       "      <td>Jersey Fancy</td>\n",
       "      <td>Long-sleeved tops in soft, organic cotton jers...</td>\n",
       "    </tr>\n",
       "    <tr>\n",
       "      <th>105536</th>\n",
       "      <td>952938001</td>\n",
       "      <td>952938</td>\n",
       "      <td>Elton top</td>\n",
       "      <td>254</td>\n",
       "      <td>Top</td>\n",
       "      <td>Garment Upper body</td>\n",
       "      <td>1010001</td>\n",
       "      <td>All over pattern</td>\n",
       "      <td>13</td>\n",
       "      <td>Beige</td>\n",
       "      <td>...</td>\n",
       "      <td>Jersey</td>\n",
       "      <td>A</td>\n",
       "      <td>Ladieswear</td>\n",
       "      <td>1</td>\n",
       "      <td>Ladieswear</td>\n",
       "      <td>18</td>\n",
       "      <td>Womens Trend</td>\n",
       "      <td>1005</td>\n",
       "      <td>Jersey Fancy</td>\n",
       "      <td>Fitted top in jersey with a round neckline and...</td>\n",
       "    </tr>\n",
       "  </tbody>\n",
       "</table>\n",
       "<p>21596 rows × 25 columns</p>\n",
       "</div>"
      ],
      "text/plain": [
       "        articleId  productCode             prodName  productTypeNo  \\\n",
       "0       108775015       108775            Strap top            253   \n",
       "1       108775044       108775            Strap top            253   \n",
       "3       110065001       110065    OP T-shirt (Idro)            306   \n",
       "4       110065002       110065    OP T-shirt (Idro)            306   \n",
       "6       111565001       111565  20 den 1p Stockings            304   \n",
       "...           ...          ...                  ...            ...   \n",
       "105395  939927001       939927              Dolphin            265   \n",
       "105444  942187001       942187         ED Sasha tee            255   \n",
       "105493  946282001       946282         Linnea dress            265   \n",
       "105520  947599001       947599          ED Duno 2p.            254   \n",
       "105536  952938001       952938            Elton top            254   \n",
       "\n",
       "         productTypeName    productGroupName  graphicalAppearanceNo  \\\n",
       "0               Vest top  Garment Upper body                1010016   \n",
       "1               Vest top  Garment Upper body                1010016   \n",
       "3                    Bra           Underwear                1010016   \n",
       "4                    Bra           Underwear                1010016   \n",
       "6       Underwear Tights      Socks & Tights                1010016   \n",
       "...                  ...                 ...                    ...   \n",
       "105395             Dress   Garment Full body                1010013   \n",
       "105444           T-shirt  Garment Upper body                1010016   \n",
       "105493             Dress   Garment Full body                1010021   \n",
       "105520               Top  Garment Upper body                1010016   \n",
       "105536               Top  Garment Upper body                1010001   \n",
       "\n",
       "       graphicalAppearanceName  colourGroupCode colourGroupName  ...  \\\n",
       "0                        Solid                9           Black  ...   \n",
       "1                        Solid               10           White  ...   \n",
       "3                        Solid                9           Black  ...   \n",
       "4                        Solid               10           White  ...   \n",
       "6                        Solid                9           Black  ...   \n",
       "...                        ...              ...             ...  ...   \n",
       "105395           Other pattern                9           Black  ...   \n",
       "105444                   Solid                9           Black  ...   \n",
       "105493                    Lace                9           Black  ...   \n",
       "105520                   Solid                9           Black  ...   \n",
       "105536        All over pattern               13           Beige  ...   \n",
       "\n",
       "        departmentName indexCode         indexName indexGroupNo  \\\n",
       "0         Jersey Basic         A        Ladieswear            1   \n",
       "1         Jersey Basic         A        Ladieswear            1   \n",
       "3       Clean Lingerie         B  Lingeries/Tights            1   \n",
       "4       Clean Lingerie         B  Lingeries/Tights            1   \n",
       "6         Tights basic         B  Lingeries/Tights            1   \n",
       "...                ...       ...               ...          ...   \n",
       "105395           Dress         A        Ladieswear            1   \n",
       "105444          Jersey         A        Ladieswear            1   \n",
       "105493           Dress         A        Ladieswear            1   \n",
       "105520          Jersey         A        Ladieswear            1   \n",
       "105536          Jersey         A        Ladieswear            1   \n",
       "\n",
       "        indexGroupName sectionNo                     sectionName  \\\n",
       "0           Ladieswear        16          Womens Everyday Basics   \n",
       "1           Ladieswear        16          Womens Everyday Basics   \n",
       "3           Ladieswear        61                 Womens Lingerie   \n",
       "4           Ladieswear        61                 Womens Lingerie   \n",
       "6           Ladieswear        62  Womens Nightwear, Socks & Tigh   \n",
       "...                ...       ...                             ...   \n",
       "105395      Ladieswear        15      Womens Everyday Collection   \n",
       "105444      Ladieswear         2                            H&M+   \n",
       "105493      Ladieswear        15      Womens Everyday Collection   \n",
       "105520      Ladieswear         2                            H&M+   \n",
       "105536      Ladieswear        18                    Womens Trend   \n",
       "\n",
       "       garmentGroupNo   garmentGroupName  \\\n",
       "0                1002       Jersey Basic   \n",
       "1                1002       Jersey Basic   \n",
       "3                1017  Under-, Nightwear   \n",
       "4                1017  Under-, Nightwear   \n",
       "6                1021   Socks and Tights   \n",
       "...               ...                ...   \n",
       "105395           1013     Dresses Ladies   \n",
       "105444           1005       Jersey Fancy   \n",
       "105493           1013     Dresses Ladies   \n",
       "105520           1005       Jersey Fancy   \n",
       "105536           1005       Jersey Fancy   \n",
       "\n",
       "                                               detailDesc  \n",
       "0                 Jersey top with narrow shoulder straps.  \n",
       "1                 Jersey top with narrow shoulder straps.  \n",
       "3       Microfibre T-shirt bra with underwired, moulde...  \n",
       "4       Microfibre T-shirt bra with underwired, moulde...  \n",
       "6       Semi shiny nylon stockings with a wide, reinfo...  \n",
       "...                                                   ...  \n",
       "105395  Short dress in an airy weave with a small stan...  \n",
       "105444  Oversized, straight-cut T-shirt in a soft moda...  \n",
       "105493  Short dress in lace with flounces down the fro...  \n",
       "105520  Long-sleeved tops in soft, organic cotton jers...  \n",
       "105536  Fitted top in jersey with a round neckline and...  \n",
       "\n",
       "[21596 rows x 25 columns]"
      ]
     },
     "execution_count": 24,
     "metadata": {},
     "output_type": "execute_result"
    }
   ],
   "source": [
    "full_article_df = init_article_df[init_article_df.articleId.isin(article_ids)]\n",
    "full_article_df"
   ]
  },
  {
   "cell_type": "markdown",
   "metadata": {},
   "source": [
    "### Creating Product, Department, and Article Dataframes"
   ]
  },
  {
   "cell_type": "code",
   "execution_count": 25,
   "metadata": {
    "collapsed": false,
    "jupyter": {
     "outputs_hidden": false
    }
   },
   "outputs": [
    {
     "data": {
      "text/html": [
       "<div>\n",
       "<style scoped>\n",
       "    .dataframe tbody tr th:only-of-type {\n",
       "        vertical-align: middle;\n",
       "    }\n",
       "\n",
       "    .dataframe tbody tr th {\n",
       "        vertical-align: top;\n",
       "    }\n",
       "\n",
       "    .dataframe thead th {\n",
       "        text-align: right;\n",
       "    }\n",
       "</style>\n",
       "<table border=\"1\" class=\"dataframe\">\n",
       "  <thead>\n",
       "    <tr style=\"text-align: right;\">\n",
       "      <th></th>\n",
       "      <th>productCode</th>\n",
       "      <th>prodName</th>\n",
       "      <th>productTypeNo</th>\n",
       "      <th>productTypeName</th>\n",
       "      <th>productGroupName</th>\n",
       "      <th>garmentGroupNo</th>\n",
       "      <th>garmentGroupName</th>\n",
       "      <th>detailDesc</th>\n",
       "    </tr>\n",
       "  </thead>\n",
       "  <tbody>\n",
       "    <tr>\n",
       "      <th>0</th>\n",
       "      <td>108775</td>\n",
       "      <td>Strap top</td>\n",
       "      <td>253</td>\n",
       "      <td>Vest top</td>\n",
       "      <td>Garment Upper body</td>\n",
       "      <td>1002</td>\n",
       "      <td>Jersey Basic</td>\n",
       "      <td>Jersey top with narrow shoulder straps.</td>\n",
       "    </tr>\n",
       "    <tr>\n",
       "      <th>3</th>\n",
       "      <td>110065</td>\n",
       "      <td>OP T-shirt (Idro)</td>\n",
       "      <td>306</td>\n",
       "      <td>Bra</td>\n",
       "      <td>Underwear</td>\n",
       "      <td>1017</td>\n",
       "      <td>Under-, Nightwear</td>\n",
       "      <td>Microfibre T-shirt bra with underwired, moulde...</td>\n",
       "    </tr>\n",
       "    <tr>\n",
       "      <th>6</th>\n",
       "      <td>111565</td>\n",
       "      <td>20 den 1p Stockings</td>\n",
       "      <td>304</td>\n",
       "      <td>Underwear Tights</td>\n",
       "      <td>Socks &amp; Tights</td>\n",
       "      <td>1021</td>\n",
       "      <td>Socks and Tights</td>\n",
       "      <td>Semi shiny nylon stockings with a wide, reinfo...</td>\n",
       "    </tr>\n",
       "    <tr>\n",
       "      <th>8</th>\n",
       "      <td>111586</td>\n",
       "      <td>Shape Up 30 den 1p Tights</td>\n",
       "      <td>273</td>\n",
       "      <td>Leggings/Tights</td>\n",
       "      <td>Garment Lower body</td>\n",
       "      <td>1021</td>\n",
       "      <td>Socks and Tights</td>\n",
       "      <td>Tights with built-in support to lift the botto...</td>\n",
       "    </tr>\n",
       "    <tr>\n",
       "      <th>9</th>\n",
       "      <td>111593</td>\n",
       "      <td>Support 40 den 1p Tights</td>\n",
       "      <td>304</td>\n",
       "      <td>Underwear Tights</td>\n",
       "      <td>Socks &amp; Tights</td>\n",
       "      <td>1021</td>\n",
       "      <td>Socks and Tights</td>\n",
       "      <td>Semi shiny tights that shape the tummy, thighs...</td>\n",
       "    </tr>\n",
       "    <tr>\n",
       "      <th>...</th>\n",
       "      <td>...</td>\n",
       "      <td>...</td>\n",
       "      <td>...</td>\n",
       "      <td>...</td>\n",
       "      <td>...</td>\n",
       "      <td>...</td>\n",
       "      <td>...</td>\n",
       "      <td>...</td>\n",
       "    </tr>\n",
       "    <tr>\n",
       "      <th>105395</th>\n",
       "      <td>939927</td>\n",
       "      <td>Dolphin</td>\n",
       "      <td>265</td>\n",
       "      <td>Dress</td>\n",
       "      <td>Garment Full body</td>\n",
       "      <td>1013</td>\n",
       "      <td>Dresses Ladies</td>\n",
       "      <td>Short dress in an airy weave with a small stan...</td>\n",
       "    </tr>\n",
       "    <tr>\n",
       "      <th>105444</th>\n",
       "      <td>942187</td>\n",
       "      <td>ED Sasha tee</td>\n",
       "      <td>255</td>\n",
       "      <td>T-shirt</td>\n",
       "      <td>Garment Upper body</td>\n",
       "      <td>1005</td>\n",
       "      <td>Jersey Fancy</td>\n",
       "      <td>Oversized, straight-cut T-shirt in a soft moda...</td>\n",
       "    </tr>\n",
       "    <tr>\n",
       "      <th>105493</th>\n",
       "      <td>946282</td>\n",
       "      <td>Linnea dress</td>\n",
       "      <td>265</td>\n",
       "      <td>Dress</td>\n",
       "      <td>Garment Full body</td>\n",
       "      <td>1013</td>\n",
       "      <td>Dresses Ladies</td>\n",
       "      <td>Short dress in lace with flounces down the fro...</td>\n",
       "    </tr>\n",
       "    <tr>\n",
       "      <th>105520</th>\n",
       "      <td>947599</td>\n",
       "      <td>ED Duno 2p.</td>\n",
       "      <td>254</td>\n",
       "      <td>Top</td>\n",
       "      <td>Garment Upper body</td>\n",
       "      <td>1005</td>\n",
       "      <td>Jersey Fancy</td>\n",
       "      <td>Long-sleeved tops in soft, organic cotton jers...</td>\n",
       "    </tr>\n",
       "    <tr>\n",
       "      <th>105536</th>\n",
       "      <td>952938</td>\n",
       "      <td>Elton top</td>\n",
       "      <td>254</td>\n",
       "      <td>Top</td>\n",
       "      <td>Garment Upper body</td>\n",
       "      <td>1005</td>\n",
       "      <td>Jersey Fancy</td>\n",
       "      <td>Fitted top in jersey with a round neckline and...</td>\n",
       "    </tr>\n",
       "  </tbody>\n",
       "</table>\n",
       "<p>12058 rows × 8 columns</p>\n",
       "</div>"
      ],
      "text/plain": [
       "        productCode                   prodName  productTypeNo  \\\n",
       "0            108775                  Strap top            253   \n",
       "3            110065          OP T-shirt (Idro)            306   \n",
       "6            111565        20 den 1p Stockings            304   \n",
       "8            111586  Shape Up 30 den 1p Tights            273   \n",
       "9            111593   Support 40 den 1p Tights            304   \n",
       "...             ...                        ...            ...   \n",
       "105395       939927                    Dolphin            265   \n",
       "105444       942187               ED Sasha tee            255   \n",
       "105493       946282               Linnea dress            265   \n",
       "105520       947599                ED Duno 2p.            254   \n",
       "105536       952938                  Elton top            254   \n",
       "\n",
       "         productTypeName    productGroupName  garmentGroupNo  \\\n",
       "0               Vest top  Garment Upper body            1002   \n",
       "3                    Bra           Underwear            1017   \n",
       "6       Underwear Tights      Socks & Tights            1021   \n",
       "8        Leggings/Tights  Garment Lower body            1021   \n",
       "9       Underwear Tights      Socks & Tights            1021   \n",
       "...                  ...                 ...             ...   \n",
       "105395             Dress   Garment Full body            1013   \n",
       "105444           T-shirt  Garment Upper body            1005   \n",
       "105493             Dress   Garment Full body            1013   \n",
       "105520               Top  Garment Upper body            1005   \n",
       "105536               Top  Garment Upper body            1005   \n",
       "\n",
       "         garmentGroupName                                         detailDesc  \n",
       "0            Jersey Basic            Jersey top with narrow shoulder straps.  \n",
       "3       Under-, Nightwear  Microfibre T-shirt bra with underwired, moulde...  \n",
       "6        Socks and Tights  Semi shiny nylon stockings with a wide, reinfo...  \n",
       "8        Socks and Tights  Tights with built-in support to lift the botto...  \n",
       "9        Socks and Tights  Semi shiny tights that shape the tummy, thighs...  \n",
       "...                   ...                                                ...  \n",
       "105395     Dresses Ladies  Short dress in an airy weave with a small stan...  \n",
       "105444       Jersey Fancy  Oversized, straight-cut T-shirt in a soft moda...  \n",
       "105493     Dresses Ladies  Short dress in lace with flounces down the fro...  \n",
       "105520       Jersey Fancy  Long-sleeved tops in soft, organic cotton jers...  \n",
       "105536       Jersey Fancy  Fitted top in jersey with a round neckline and...  \n",
       "\n",
       "[12058 rows x 8 columns]"
      ]
     },
     "execution_count": 25,
     "metadata": {},
     "output_type": "execute_result"
    }
   ],
   "source": [
    "product_df = full_article_df[['productCode', 'prodName',\n",
    "                              'productTypeNo', 'productTypeName',\n",
    "                              'productGroupName', 'garmentGroupNo', 'garmentGroupName',\n",
    "                              'detailDesc']].drop_duplicates(subset='productCode')\n",
    "product_df"
   ]
  },
  {
   "cell_type": "code",
   "execution_count": 26,
   "metadata": {
    "collapsed": false,
    "jupyter": {
     "outputs_hidden": false
    }
   },
   "outputs": [
    {
     "data": {
      "text/html": [
       "<div>\n",
       "<style scoped>\n",
       "    .dataframe tbody tr th:only-of-type {\n",
       "        vertical-align: middle;\n",
       "    }\n",
       "\n",
       "    .dataframe tbody tr th {\n",
       "        vertical-align: top;\n",
       "    }\n",
       "\n",
       "    .dataframe thead th {\n",
       "        text-align: right;\n",
       "    }\n",
       "</style>\n",
       "<table border=\"1\" class=\"dataframe\">\n",
       "  <thead>\n",
       "    <tr style=\"text-align: right;\">\n",
       "      <th></th>\n",
       "      <th>departmentNo</th>\n",
       "      <th>departmentName</th>\n",
       "      <th>sectionNo</th>\n",
       "      <th>sectionName</th>\n",
       "    </tr>\n",
       "  </thead>\n",
       "  <tbody>\n",
       "    <tr>\n",
       "      <th>0</th>\n",
       "      <td>1676</td>\n",
       "      <td>Jersey Basic</td>\n",
       "      <td>16</td>\n",
       "      <td>Womens Everyday Basics</td>\n",
       "    </tr>\n",
       "    <tr>\n",
       "      <th>3</th>\n",
       "      <td>1339</td>\n",
       "      <td>Clean Lingerie</td>\n",
       "      <td>61</td>\n",
       "      <td>Womens Lingerie</td>\n",
       "    </tr>\n",
       "    <tr>\n",
       "      <th>6</th>\n",
       "      <td>3608</td>\n",
       "      <td>Tights basic</td>\n",
       "      <td>62</td>\n",
       "      <td>Womens Nightwear, Socks &amp; Tigh</td>\n",
       "    </tr>\n",
       "    <tr>\n",
       "      <th>17</th>\n",
       "      <td>5883</td>\n",
       "      <td>Jersey Basic</td>\n",
       "      <td>26</td>\n",
       "      <td>Men Underwear</td>\n",
       "    </tr>\n",
       "    <tr>\n",
       "      <th>23</th>\n",
       "      <td>2032</td>\n",
       "      <td>Jersey</td>\n",
       "      <td>8</td>\n",
       "      <td>Mama</td>\n",
       "    </tr>\n",
       "    <tr>\n",
       "      <th>...</th>\n",
       "      <td>...</td>\n",
       "      <td>...</td>\n",
       "      <td>...</td>\n",
       "      <td>...</td>\n",
       "    </tr>\n",
       "    <tr>\n",
       "      <th>89929</th>\n",
       "      <td>7857</td>\n",
       "      <td>Kids Boy Exclusive</td>\n",
       "      <td>46</td>\n",
       "      <td>Kids Boy</td>\n",
       "    </tr>\n",
       "    <tr>\n",
       "      <th>92964</th>\n",
       "      <td>7510</td>\n",
       "      <td>Woven</td>\n",
       "      <td>28</td>\n",
       "      <td>Men Edition</td>\n",
       "    </tr>\n",
       "    <tr>\n",
       "      <th>97443</th>\n",
       "      <td>3420</td>\n",
       "      <td>Small Accessories Extended</td>\n",
       "      <td>66</td>\n",
       "      <td>Womens Small accessories</td>\n",
       "    </tr>\n",
       "    <tr>\n",
       "      <th>101971</th>\n",
       "      <td>8090</td>\n",
       "      <td>Promotion/Other/Offer</td>\n",
       "      <td>29</td>\n",
       "      <td>Men Other</td>\n",
       "    </tr>\n",
       "    <tr>\n",
       "      <th>103941</th>\n",
       "      <td>5888</td>\n",
       "      <td>Blanks</td>\n",
       "      <td>26</td>\n",
       "      <td>Men Underwear</td>\n",
       "    </tr>\n",
       "  </tbody>\n",
       "</table>\n",
       "<p>276 rows × 4 columns</p>\n",
       "</div>"
      ],
      "text/plain": [
       "        departmentNo              departmentName  sectionNo  \\\n",
       "0               1676                Jersey Basic         16   \n",
       "3               1339              Clean Lingerie         61   \n",
       "6               3608                Tights basic         62   \n",
       "17              5883                Jersey Basic         26   \n",
       "23              2032                      Jersey          8   \n",
       "...              ...                         ...        ...   \n",
       "89929           7857          Kids Boy Exclusive         46   \n",
       "92964           7510                       Woven         28   \n",
       "97443           3420  Small Accessories Extended         66   \n",
       "101971          8090       Promotion/Other/Offer         29   \n",
       "103941          5888                      Blanks         26   \n",
       "\n",
       "                           sectionName  \n",
       "0               Womens Everyday Basics  \n",
       "3                      Womens Lingerie  \n",
       "6       Womens Nightwear, Socks & Tigh  \n",
       "17                       Men Underwear  \n",
       "23                                Mama  \n",
       "...                                ...  \n",
       "89929                         Kids Boy  \n",
       "92964                      Men Edition  \n",
       "97443         Womens Small accessories  \n",
       "101971                       Men Other  \n",
       "103941                   Men Underwear  \n",
       "\n",
       "[276 rows x 4 columns]"
      ]
     },
     "execution_count": 26,
     "metadata": {},
     "output_type": "execute_result"
    }
   ],
   "source": [
    "department_df = full_article_df[['departmentNo', 'departmentName', 'sectionNo', 'sectionName']]\\\n",
    "    .drop_duplicates(subset='departmentNo')\n",
    "department_df"
   ]
  },
  {
   "cell_type": "code",
   "execution_count": 27,
   "metadata": {
    "collapsed": false,
    "jupyter": {
     "outputs_hidden": false
    }
   },
   "outputs": [
    {
     "data": {
      "text/html": [
       "<div>\n",
       "<style scoped>\n",
       "    .dataframe tbody tr th:only-of-type {\n",
       "        vertical-align: middle;\n",
       "    }\n",
       "\n",
       "    .dataframe tbody tr th {\n",
       "        vertical-align: top;\n",
       "    }\n",
       "\n",
       "    .dataframe thead th {\n",
       "        text-align: right;\n",
       "    }\n",
       "</style>\n",
       "<table border=\"1\" class=\"dataframe\">\n",
       "  <thead>\n",
       "    <tr style=\"text-align: right;\">\n",
       "      <th></th>\n",
       "      <th>articleId</th>\n",
       "      <th>productCode</th>\n",
       "      <th>departmentNo</th>\n",
       "      <th>prodName</th>\n",
       "      <th>productTypeName</th>\n",
       "      <th>graphicalAppearanceNo</th>\n",
       "      <th>graphicalAppearanceName</th>\n",
       "      <th>colourGroupCode</th>\n",
       "      <th>colourGroupName</th>\n",
       "    </tr>\n",
       "  </thead>\n",
       "  <tbody>\n",
       "    <tr>\n",
       "      <th>0</th>\n",
       "      <td>108775015</td>\n",
       "      <td>108775</td>\n",
       "      <td>1676</td>\n",
       "      <td>Strap top</td>\n",
       "      <td>Vest top</td>\n",
       "      <td>1010016</td>\n",
       "      <td>Solid</td>\n",
       "      <td>9</td>\n",
       "      <td>Black</td>\n",
       "    </tr>\n",
       "    <tr>\n",
       "      <th>1</th>\n",
       "      <td>108775044</td>\n",
       "      <td>108775</td>\n",
       "      <td>1676</td>\n",
       "      <td>Strap top</td>\n",
       "      <td>Vest top</td>\n",
       "      <td>1010016</td>\n",
       "      <td>Solid</td>\n",
       "      <td>10</td>\n",
       "      <td>White</td>\n",
       "    </tr>\n",
       "    <tr>\n",
       "      <th>3</th>\n",
       "      <td>110065001</td>\n",
       "      <td>110065</td>\n",
       "      <td>1339</td>\n",
       "      <td>OP T-shirt (Idro)</td>\n",
       "      <td>Bra</td>\n",
       "      <td>1010016</td>\n",
       "      <td>Solid</td>\n",
       "      <td>9</td>\n",
       "      <td>Black</td>\n",
       "    </tr>\n",
       "    <tr>\n",
       "      <th>4</th>\n",
       "      <td>110065002</td>\n",
       "      <td>110065</td>\n",
       "      <td>1339</td>\n",
       "      <td>OP T-shirt (Idro)</td>\n",
       "      <td>Bra</td>\n",
       "      <td>1010016</td>\n",
       "      <td>Solid</td>\n",
       "      <td>10</td>\n",
       "      <td>White</td>\n",
       "    </tr>\n",
       "    <tr>\n",
       "      <th>6</th>\n",
       "      <td>111565001</td>\n",
       "      <td>111565</td>\n",
       "      <td>3608</td>\n",
       "      <td>20 den 1p Stockings</td>\n",
       "      <td>Underwear Tights</td>\n",
       "      <td>1010016</td>\n",
       "      <td>Solid</td>\n",
       "      <td>9</td>\n",
       "      <td>Black</td>\n",
       "    </tr>\n",
       "    <tr>\n",
       "      <th>...</th>\n",
       "      <td>...</td>\n",
       "      <td>...</td>\n",
       "      <td>...</td>\n",
       "      <td>...</td>\n",
       "      <td>...</td>\n",
       "      <td>...</td>\n",
       "      <td>...</td>\n",
       "      <td>...</td>\n",
       "      <td>...</td>\n",
       "    </tr>\n",
       "    <tr>\n",
       "      <th>105395</th>\n",
       "      <td>939927001</td>\n",
       "      <td>939927</td>\n",
       "      <td>1322</td>\n",
       "      <td>Dolphin</td>\n",
       "      <td>Dress</td>\n",
       "      <td>1010013</td>\n",
       "      <td>Other pattern</td>\n",
       "      <td>9</td>\n",
       "      <td>Black</td>\n",
       "    </tr>\n",
       "    <tr>\n",
       "      <th>105444</th>\n",
       "      <td>942187001</td>\n",
       "      <td>942187</td>\n",
       "      <td>1919</td>\n",
       "      <td>ED Sasha tee</td>\n",
       "      <td>T-shirt</td>\n",
       "      <td>1010016</td>\n",
       "      <td>Solid</td>\n",
       "      <td>9</td>\n",
       "      <td>Black</td>\n",
       "    </tr>\n",
       "    <tr>\n",
       "      <th>105493</th>\n",
       "      <td>946282001</td>\n",
       "      <td>946282</td>\n",
       "      <td>1322</td>\n",
       "      <td>Linnea dress</td>\n",
       "      <td>Dress</td>\n",
       "      <td>1010021</td>\n",
       "      <td>Lace</td>\n",
       "      <td>9</td>\n",
       "      <td>Black</td>\n",
       "    </tr>\n",
       "    <tr>\n",
       "      <th>105520</th>\n",
       "      <td>947599001</td>\n",
       "      <td>947599</td>\n",
       "      <td>1919</td>\n",
       "      <td>ED Duno 2p.</td>\n",
       "      <td>Top</td>\n",
       "      <td>1010016</td>\n",
       "      <td>Solid</td>\n",
       "      <td>9</td>\n",
       "      <td>Black</td>\n",
       "    </tr>\n",
       "    <tr>\n",
       "      <th>105536</th>\n",
       "      <td>952938001</td>\n",
       "      <td>952938</td>\n",
       "      <td>1641</td>\n",
       "      <td>Elton top</td>\n",
       "      <td>Top</td>\n",
       "      <td>1010001</td>\n",
       "      <td>All over pattern</td>\n",
       "      <td>13</td>\n",
       "      <td>Beige</td>\n",
       "    </tr>\n",
       "  </tbody>\n",
       "</table>\n",
       "<p>21596 rows × 9 columns</p>\n",
       "</div>"
      ],
      "text/plain": [
       "        articleId  productCode  departmentNo             prodName  \\\n",
       "0       108775015       108775          1676            Strap top   \n",
       "1       108775044       108775          1676            Strap top   \n",
       "3       110065001       110065          1339    OP T-shirt (Idro)   \n",
       "4       110065002       110065          1339    OP T-shirt (Idro)   \n",
       "6       111565001       111565          3608  20 den 1p Stockings   \n",
       "...           ...          ...           ...                  ...   \n",
       "105395  939927001       939927          1322              Dolphin   \n",
       "105444  942187001       942187          1919         ED Sasha tee   \n",
       "105493  946282001       946282          1322         Linnea dress   \n",
       "105520  947599001       947599          1919          ED Duno 2p.   \n",
       "105536  952938001       952938          1641            Elton top   \n",
       "\n",
       "         productTypeName  graphicalAppearanceNo graphicalAppearanceName  \\\n",
       "0               Vest top                1010016                   Solid   \n",
       "1               Vest top                1010016                   Solid   \n",
       "3                    Bra                1010016                   Solid   \n",
       "4                    Bra                1010016                   Solid   \n",
       "6       Underwear Tights                1010016                   Solid   \n",
       "...                  ...                    ...                     ...   \n",
       "105395             Dress                1010013           Other pattern   \n",
       "105444           T-shirt                1010016                   Solid   \n",
       "105493             Dress                1010021                    Lace   \n",
       "105520               Top                1010016                   Solid   \n",
       "105536               Top                1010001        All over pattern   \n",
       "\n",
       "        colourGroupCode colourGroupName  \n",
       "0                     9           Black  \n",
       "1                    10           White  \n",
       "3                     9           Black  \n",
       "4                    10           White  \n",
       "6                     9           Black  \n",
       "...                 ...             ...  \n",
       "105395                9           Black  \n",
       "105444                9           Black  \n",
       "105493                9           Black  \n",
       "105520                9           Black  \n",
       "105536               13           Beige  \n",
       "\n",
       "[21596 rows x 9 columns]"
      ]
     },
     "execution_count": 27,
     "metadata": {},
     "output_type": "execute_result"
    }
   ],
   "source": [
    "article_df = full_article_df[['articleId', 'productCode', 'departmentNo', 'prodName', 'productTypeName',\n",
    "                              'graphicalAppearanceNo', 'graphicalAppearanceName', 'colourGroupCode', 'colourGroupName']]\n",
    "article_df"
   ]
  },
  {
   "cell_type": "markdown",
   "metadata": {},
   "source": [
    "### Create Customer Dataframe"
   ]
  },
  {
   "cell_type": "code",
   "execution_count": 28,
   "metadata": {
    "collapsed": false,
    "jupyter": {
     "outputs_hidden": false
    }
   },
   "outputs": [
    {
     "data": {
      "text/html": [
       "<div>\n",
       "<style scoped>\n",
       "    .dataframe tbody tr th:only-of-type {\n",
       "        vertical-align: middle;\n",
       "    }\n",
       "\n",
       "    .dataframe tbody tr th {\n",
       "        vertical-align: top;\n",
       "    }\n",
       "\n",
       "    .dataframe thead th {\n",
       "        text-align: right;\n",
       "    }\n",
       "</style>\n",
       "<table border=\"1\" class=\"dataframe\">\n",
       "  <thead>\n",
       "    <tr style=\"text-align: right;\">\n",
       "      <th></th>\n",
       "      <th>customerId</th>\n",
       "      <th>fn</th>\n",
       "      <th>active</th>\n",
       "      <th>clubMemberStatus</th>\n",
       "      <th>fashionNewsFrequency</th>\n",
       "      <th>age</th>\n",
       "      <th>postalCode</th>\n",
       "    </tr>\n",
       "  </thead>\n",
       "  <tbody>\n",
       "    <tr>\n",
       "      <th>86</th>\n",
       "      <td>0003e867a930d0d6842f923d6ba7c9b77aba33fe2a0fbf...</td>\n",
       "      <td>1.0</td>\n",
       "      <td>1.0</td>\n",
       "      <td>ACTIVE</td>\n",
       "      <td>Regularly</td>\n",
       "      <td>33.0</td>\n",
       "      <td>d647e4ede3d0eb4ce0750440a110350b5f4c758165d89d...</td>\n",
       "    </tr>\n",
       "    <tr>\n",
       "      <th>425</th>\n",
       "      <td>00140d87c629b961e410e1d143084146c6fe71df40fe3d...</td>\n",
       "      <td>NaN</td>\n",
       "      <td>NaN</td>\n",
       "      <td>ACTIVE</td>\n",
       "      <td>NONE</td>\n",
       "      <td>24.0</td>\n",
       "      <td>d686e242886674f5bed783e6ceb2c52fe89f2c39996bbf...</td>\n",
       "    </tr>\n",
       "    <tr>\n",
       "      <th>810</th>\n",
       "      <td>00264b7d4cd6498292e8a355b699c2d07725d123f04867...</td>\n",
       "      <td>1.0</td>\n",
       "      <td>1.0</td>\n",
       "      <td>ACTIVE</td>\n",
       "      <td>Regularly</td>\n",
       "      <td>53.0</td>\n",
       "      <td>2c29ae653a9282cce4151bd87643c907644e09541abc28...</td>\n",
       "    </tr>\n",
       "    <tr>\n",
       "      <th>1947</th>\n",
       "      <td>005c6d3bb66c86aab606814cd9995a12f99b3a44b58c72...</td>\n",
       "      <td>NaN</td>\n",
       "      <td>NaN</td>\n",
       "      <td>PRE-CREATE</td>\n",
       "      <td>NONE</td>\n",
       "      <td>NaN</td>\n",
       "      <td>177b4a2258a85a2247daaa7cdffba96a74c741ea8a6605...</td>\n",
       "    </tr>\n",
       "    <tr>\n",
       "      <th>2155</th>\n",
       "      <td>006684ff58368b611db31b1ca782a87cad496e69835e42...</td>\n",
       "      <td>NaN</td>\n",
       "      <td>NaN</td>\n",
       "      <td>ACTIVE</td>\n",
       "      <td>NONE</td>\n",
       "      <td>32.0</td>\n",
       "      <td>4296834187b1ffb908c0aa276b29a4b1af87cad557fb40...</td>\n",
       "    </tr>\n",
       "    <tr>\n",
       "      <th>...</th>\n",
       "      <td>...</td>\n",
       "      <td>...</td>\n",
       "      <td>...</td>\n",
       "      <td>...</td>\n",
       "      <td>...</td>\n",
       "      <td>...</td>\n",
       "      <td>...</td>\n",
       "    </tr>\n",
       "    <tr>\n",
       "      <th>1364911</th>\n",
       "      <td>feac9822f51efc778acc044776b4b34e8e0a86615bf983...</td>\n",
       "      <td>NaN</td>\n",
       "      <td>NaN</td>\n",
       "      <td>ACTIVE</td>\n",
       "      <td>NONE</td>\n",
       "      <td>48.0</td>\n",
       "      <td>8cecc780f67ff32def9c8e8dff5f454bce26a7cbd4c860...</td>\n",
       "    </tr>\n",
       "    <tr>\n",
       "      <th>1366543</th>\n",
       "      <td>fef793ec3a7d62d782824517355d74ded50964dce33009...</td>\n",
       "      <td>NaN</td>\n",
       "      <td>NaN</td>\n",
       "      <td>ACTIVE</td>\n",
       "      <td>NONE</td>\n",
       "      <td>46.0</td>\n",
       "      <td>5799a39cffe701ebdb12181348bf10f9e23abcc3868c43...</td>\n",
       "    </tr>\n",
       "    <tr>\n",
       "      <th>1367605</th>\n",
       "      <td>ff2b58ad3e83f2e3499b3eda6ea99993b3bca10d8ceee4...</td>\n",
       "      <td>NaN</td>\n",
       "      <td>NaN</td>\n",
       "      <td>ACTIVE</td>\n",
       "      <td>NONE</td>\n",
       "      <td>35.0</td>\n",
       "      <td>2c29ae653a9282cce4151bd87643c907644e09541abc28...</td>\n",
       "    </tr>\n",
       "    <tr>\n",
       "      <th>1370498</th>\n",
       "      <td>ffb925b11e1bb2e375d22a02d67907994eb8cb92ec2e7d...</td>\n",
       "      <td>NaN</td>\n",
       "      <td>NaN</td>\n",
       "      <td>ACTIVE</td>\n",
       "      <td>NONE</td>\n",
       "      <td>34.0</td>\n",
       "      <td>ebdd8c5c893683c3cf52c011d4e35024e46d183c95f0fa...</td>\n",
       "    </tr>\n",
       "    <tr>\n",
       "      <th>1371509</th>\n",
       "      <td>ffe8f77be0ce1a5bde91c97cb76aa887fb200bba79fe5a...</td>\n",
       "      <td>1.0</td>\n",
       "      <td>1.0</td>\n",
       "      <td>ACTIVE</td>\n",
       "      <td>Regularly</td>\n",
       "      <td>26.0</td>\n",
       "      <td>bf90cabe02380b161574072e5ca4f77f62b313421e3f62...</td>\n",
       "    </tr>\n",
       "  </tbody>\n",
       "</table>\n",
       "<p>2000 rows × 7 columns</p>\n",
       "</div>"
      ],
      "text/plain": [
       "                                                customerId   fn  active  \\\n",
       "86       0003e867a930d0d6842f923d6ba7c9b77aba33fe2a0fbf...  1.0     1.0   \n",
       "425      00140d87c629b961e410e1d143084146c6fe71df40fe3d...  NaN     NaN   \n",
       "810      00264b7d4cd6498292e8a355b699c2d07725d123f04867...  1.0     1.0   \n",
       "1947     005c6d3bb66c86aab606814cd9995a12f99b3a44b58c72...  NaN     NaN   \n",
       "2155     006684ff58368b611db31b1ca782a87cad496e69835e42...  NaN     NaN   \n",
       "...                                                    ...  ...     ...   \n",
       "1364911  feac9822f51efc778acc044776b4b34e8e0a86615bf983...  NaN     NaN   \n",
       "1366543  fef793ec3a7d62d782824517355d74ded50964dce33009...  NaN     NaN   \n",
       "1367605  ff2b58ad3e83f2e3499b3eda6ea99993b3bca10d8ceee4...  NaN     NaN   \n",
       "1370498  ffb925b11e1bb2e375d22a02d67907994eb8cb92ec2e7d...  NaN     NaN   \n",
       "1371509  ffe8f77be0ce1a5bde91c97cb76aa887fb200bba79fe5a...  1.0     1.0   \n",
       "\n",
       "        clubMemberStatus fashionNewsFrequency   age  \\\n",
       "86                ACTIVE            Regularly  33.0   \n",
       "425               ACTIVE                 NONE  24.0   \n",
       "810               ACTIVE            Regularly  53.0   \n",
       "1947          PRE-CREATE                 NONE   NaN   \n",
       "2155              ACTIVE                 NONE  32.0   \n",
       "...                  ...                  ...   ...   \n",
       "1364911           ACTIVE                 NONE  48.0   \n",
       "1366543           ACTIVE                 NONE  46.0   \n",
       "1367605           ACTIVE                 NONE  35.0   \n",
       "1370498           ACTIVE                 NONE  34.0   \n",
       "1371509           ACTIVE            Regularly  26.0   \n",
       "\n",
       "                                                postalCode  \n",
       "86       d647e4ede3d0eb4ce0750440a110350b5f4c758165d89d...  \n",
       "425      d686e242886674f5bed783e6ceb2c52fe89f2c39996bbf...  \n",
       "810      2c29ae653a9282cce4151bd87643c907644e09541abc28...  \n",
       "1947     177b4a2258a85a2247daaa7cdffba96a74c741ea8a6605...  \n",
       "2155     4296834187b1ffb908c0aa276b29a4b1af87cad557fb40...  \n",
       "...                                                    ...  \n",
       "1364911  8cecc780f67ff32def9c8e8dff5f454bce26a7cbd4c860...  \n",
       "1366543  5799a39cffe701ebdb12181348bf10f9e23abcc3868c43...  \n",
       "1367605  2c29ae653a9282cce4151bd87643c907644e09541abc28...  \n",
       "1370498  ebdd8c5c893683c3cf52c011d4e35024e46d183c95f0fa...  \n",
       "1371509  bf90cabe02380b161574072e5ca4f77f62b313421e3f62...  \n",
       "\n",
       "[2000 rows x 7 columns]"
      ]
     },
     "execution_count": 28,
     "metadata": {},
     "output_type": "execute_result"
    }
   ],
   "source": [
    "customer_df = camel_case_rename_cols(pd.read_csv('data/customers.csv'))\n",
    "customer_df = customer_df[customer_df.customerId.isin(customer_ids)]\n",
    "customer_df"
   ]
  },
  {
   "cell_type": "markdown",
   "metadata": {},
   "source": [
    "## Graph Loading"
   ]
  },
  {
   "cell_type": "code",
   "execution_count": 29,
   "metadata": {
    "collapsed": false,
    "jupyter": {
     "outputs_hidden": false
    }
   },
   "outputs": [],
   "source": [
    "load_dotenv('.env', override=True)\n",
    "\n",
    "# Use Neo4j URI and credentials according to our setup\n",
    "gds = GraphDataScience(\n",
    "    os.getenv('NEO4J_URI'),\n",
    "    auth=(os.getenv('NEO4J_USERNAME'),\n",
    "          os.getenv('NEO4J_PASSWORD')),\n",
    "    aura_ds=eval(os.getenv('AURA_DS').title()))\n",
    "\n",
    "# Necessary if you enabled Arrow on the db - this is true for AuraDS\n",
    "gds.set_database(\"neo4j\")"
   ]
  },
  {
   "cell_type": "code",
   "execution_count": 30,
   "metadata": {
    "collapsed": false,
    "jupyter": {
     "outputs_hidden": false
    }
   },
   "outputs": [
    {
     "data": {
      "text/plain": [
       "'2.5.1+39'"
      ]
     },
     "execution_count": 30,
     "metadata": {},
     "output_type": "execute_result"
    }
   ],
   "source": [
    "gds.version()"
   ]
  },
  {
   "cell_type": "markdown",
   "metadata": {},
   "source": [
    "### Create Indexes"
   ]
  },
  {
   "cell_type": "code",
   "execution_count": 31,
   "metadata": {
    "collapsed": false,
    "jupyter": {
     "outputs_hidden": false
    }
   },
   "outputs": [
    {
     "data": {
      "text/html": [
       "<div>\n",
       "<style scoped>\n",
       "    .dataframe tbody tr th:only-of-type {\n",
       "        vertical-align: middle;\n",
       "    }\n",
       "\n",
       "    .dataframe tbody tr th {\n",
       "        vertical-align: top;\n",
       "    }\n",
       "\n",
       "    .dataframe thead th {\n",
       "        text-align: right;\n",
       "    }\n",
       "</style>\n",
       "<table border=\"1\" class=\"dataframe\">\n",
       "  <thead>\n",
       "    <tr style=\"text-align: right;\">\n",
       "      <th></th>\n",
       "    </tr>\n",
       "  </thead>\n",
       "  <tbody>\n",
       "  </tbody>\n",
       "</table>\n",
       "</div>"
      ],
      "text/plain": [
       "Empty DataFrame\n",
       "Columns: []\n",
       "Index: []"
      ]
     },
     "execution_count": 31,
     "metadata": {},
     "output_type": "execute_result"
    }
   ],
   "source": [
    "# one uniqueness constraint for each node label\n",
    "gds.run_cypher('CREATE CONSTRAINT unique_department_no IF NOT EXISTS FOR (n:Department) REQUIRE n.departmentNo IS UNIQUE')\n",
    "gds.run_cypher('CREATE CONSTRAINT unique_product_code IF NOT EXISTS FOR (n:Product) REQUIRE n.productCode IS UNIQUE')\n",
    "gds.run_cypher('CREATE CONSTRAINT unique_article_id IF NOT EXISTS FOR (n:Article) REQUIRE n.articleId IS UNIQUE')\n",
    "gds.run_cypher('CREATE CONSTRAINT unique_customer_id IF NOT EXISTS FOR (n:Customer) REQUIRE n.customerId IS UNIQUE')"
   ]
  },
  {
   "cell_type": "code",
   "execution_count": 32,
   "metadata": {
    "collapsed": false,
    "jupyter": {
     "outputs_hidden": false
    }
   },
   "outputs": [],
   "source": [
    "from typing import Tuple, Union\n",
    "from numpy.typing import ArrayLike\n",
    "\n",
    "def make_map(x):\n",
    "    if type(x) == str:\n",
    "        return x, x\n",
    "    elif type(x) == tuple:\n",
    "        return x\n",
    "    else:\n",
    "        raise Exception(\"Entry must of type string or tuple\")\n",
    "\n",
    "\n",
    "def make_set_clause(prop_names: ArrayLike, element_name='n', item_name='rec'):\n",
    "    clause_list = []\n",
    "    for prop_name in prop_names:\n",
    "        clause_list.append(f'{element_name}.{prop_name} = {item_name}.{prop_name}')\n",
    "    return 'SET ' + ', '.join(clause_list)\n",
    "\n",
    "\n",
    "def make_node_merge_query(node_key_name: str, node_label: str, cols: ArrayLike):\n",
    "    template = f'''UNWIND $recs AS rec\\nMERGE(n:{node_label} {{{node_key_name}: rec.{node_key_name}}})'''\n",
    "    prop_names = [x for x in cols if x != node_key_name]\n",
    "    if len(prop_names) > 0:\n",
    "        template = template + '\\n' + make_set_clause(prop_names)\n",
    "    return template + '\\nRETURN count(n) AS nodeLoadedCount'\n",
    "\n",
    "\n",
    "def make_rel_merge_query(source_target_labels: Union[Tuple[str, str], str],\n",
    "                         source_node_key: Union[Tuple[str, str], str],\n",
    "                         target_node_key: Union[Tuple[str, str], str],\n",
    "                         rel_type: str,\n",
    "                         cols: ArrayLike,\n",
    "                         rel_key: str = None):\n",
    "\n",
    "    source_target_label_map = make_map(source_target_labels)\n",
    "    source_node_key_map = make_map(source_node_key)\n",
    "    target_node_key_map = make_map(target_node_key)\n",
    "\n",
    "    merge_statement = f'MERGE(s)-[r:{rel_type}]->(t)'\n",
    "    if rel_key is not None:\n",
    "        merge_statement = f'MERGE(s)-[r:{rel_type} {{{rel_key}: rec.{rel_key}}}]->(t)'\n",
    "\n",
    "    template = f'''\\tUNWIND $recs AS rec\n",
    "    MATCH(s:{source_target_label_map[0]} {{{source_node_key_map[0]}: rec.{source_node_key_map[1]}}})\n",
    "    MATCH(t:{source_target_label_map[1]} {{{target_node_key_map[0]}: rec.{target_node_key_map[1]}}})\\n\\t''' + merge_statement\n",
    "    prop_names = [x for x in cols if x not in [rel_key, source_node_key_map[1], target_node_key_map[1]]]\n",
    "    if len(prop_names) > 0:\n",
    "        template = template + '\\n\\t' + make_set_clause(prop_names, 'r')\n",
    "    return template + '\\n\\tRETURN count(r) AS relLoadedCount'\n",
    "\n",
    "\n",
    "def chunks(xs, n=50_000):\n",
    "    n = max(1, n)\n",
    "    return [xs[i:i + n] for i in range(0, len(xs), n)]\n",
    "\n",
    "\n",
    "def load_nodes(gds: GraphDataScience, node_df: pd.DataFrame, node_key_col: str, node_label: str, chunk_size=50_000):\n",
    "    records = node_df.to_dict('records')\n",
    "    print(f'======  loading {node_label} nodes  ======')\n",
    "    total = len(records)\n",
    "    print(f'staging {total:,} records')\n",
    "    query = make_node_merge_query(node_key_col, node_label, node_df.columns.copy())\n",
    "    cumulative_count = 0\n",
    "    for recs in chunks(records, chunk_size):\n",
    "        res = gds.run_cypher(query, params={'recs': recs})\n",
    "        cumulative_count += res.iloc[0, 0]\n",
    "        print(f'Loaded {cumulative_count:,} of {total:,} nodes')\n",
    "\n",
    "\n",
    "def load_rels(gds: GraphDataScience,\n",
    "              rel_df: pd.DataFrame,\n",
    "              source_target_labels: Union[Tuple[str, str], str],\n",
    "              source_node_key: Union[Tuple[str, str], str],\n",
    "              target_node_key: Union[Tuple[str, str], str],\n",
    "              rel_type: str,\n",
    "              rel_key: str = None,\n",
    "              chunk_size=50_000):\n",
    "    records = rel_df.to_dict('records')\n",
    "    print(f'======  loading {rel_type} relationships  ======')\n",
    "    total = len(records)\n",
    "    print(f'staging {total:,} records')\n",
    "    query = make_rel_merge_query(source_target_labels, source_node_key,\n",
    "                                 target_node_key, rel_type, rel_df.columns.copy(), rel_key)\n",
    "    cumulative_count = 0\n",
    "    for recs in chunks(records, chunk_size):\n",
    "        res = gds.run_cypher(query, params={'recs': recs})\n",
    "        cumulative_count += res.iloc[0, 0]\n",
    "        print(f'Loaded {cumulative_count:,} of {total:,} relationships')"
   ]
  },
  {
   "cell_type": "markdown",
   "metadata": {},
   "source": [
    "### Load Nodes"
   ]
  },
  {
   "cell_type": "code",
   "execution_count": 33,
   "metadata": {
    "collapsed": false,
    "jupyter": {
     "outputs_hidden": false
    }
   },
   "outputs": [
    {
     "name": "stdout",
     "output_type": "stream",
     "text": [
      "======  loading Department nodes  ======\n",
      "staging 276 records\n",
      "Loaded 276 of 276 nodes\n",
      "CPU times: user 10.6 ms, sys: 0 ns, total: 10.6 ms\n",
      "Wall time: 384 ms\n"
     ]
    }
   ],
   "source": [
    "%%time\n",
    "load_nodes(gds, department_df, 'departmentNo', 'Department')"
   ]
  },
  {
   "cell_type": "code",
   "execution_count": 34,
   "metadata": {
    "collapsed": false,
    "jupyter": {
     "outputs_hidden": false
    }
   },
   "outputs": [
    {
     "name": "stdout",
     "output_type": "stream",
     "text": [
      "======  loading Product nodes  ======\n",
      "staging 12,058 records\n",
      "Loaded 12,058 of 12,058 nodes\n",
      "CPU times: user 486 ms, sys: 4.01 ms, total: 490 ms\n",
      "Wall time: 1.75 s\n"
     ]
    }
   ],
   "source": [
    "%%time\n",
    "load_nodes(gds, product_df, 'productCode', 'Product')"
   ]
  },
  {
   "cell_type": "code",
   "execution_count": 35,
   "metadata": {
    "collapsed": false,
    "jupyter": {
     "outputs_hidden": false
    }
   },
   "outputs": [
    {
     "name": "stdout",
     "output_type": "stream",
     "text": [
      "======  loading Article nodes  ======\n",
      "staging 21,596 records\n",
      "Loaded 21,596 of 21,596 nodes\n",
      "CPU times: user 743 ms, sys: 60 µs, total: 743 ms\n",
      "Wall time: 1.69 s\n"
     ]
    }
   ],
   "source": [
    "%%time\n",
    "load_nodes(gds, article_df.drop(columns=['productCode', 'departmentNo']), 'articleId', 'Article')"
   ]
  },
  {
   "cell_type": "code",
   "execution_count": 36,
   "metadata": {
    "collapsed": false,
    "jupyter": {
     "outputs_hidden": false
    }
   },
   "outputs": [
    {
     "name": "stdout",
     "output_type": "stream",
     "text": [
      "======  loading Customer nodes  ======\n",
      "staging 2,000 records\n",
      "Loaded 2,000 of 2,000 nodes\n",
      "CPU times: user 79.8 ms, sys: 0 ns, total: 79.8 ms\n",
      "Wall time: 405 ms\n"
     ]
    }
   ],
   "source": [
    "%%time\n",
    "load_nodes(gds, customer_df, 'customerId', 'Customer')"
   ]
  },
  {
   "cell_type": "markdown",
   "metadata": {},
   "source": [
    "### Load Relationship"
   ]
  },
  {
   "cell_type": "code",
   "execution_count": 37,
   "metadata": {
    "collapsed": false,
    "jupyter": {
     "outputs_hidden": false
    }
   },
   "outputs": [
    {
     "name": "stdout",
     "output_type": "stream",
     "text": [
      "======  loading FROM_DEPARTMENT relationships  ======\n",
      "staging 21,596 records\n",
      "Loaded 21,596 of 21,596 relationships\n",
      "CPU times: user 256 ms, sys: 336 µs, total: 256 ms\n",
      "Wall time: 1.2 s\n"
     ]
    }
   ],
   "source": [
    "%%time\n",
    "load_rels(gds, article_df[['articleId', 'departmentNo']], source_target_labels=('Article', 'Department'),\n",
    "          source_node_key='articleId', target_node_key='departmentNo',\n",
    "          rel_type='FROM_DEPARTMENT')"
   ]
  },
  {
   "cell_type": "code",
   "execution_count": 38,
   "metadata": {
    "collapsed": false,
    "jupyter": {
     "outputs_hidden": false
    }
   },
   "outputs": [
    {
     "name": "stdout",
     "output_type": "stream",
     "text": [
      "======  loading VARIANT_OF relationships  ======\n",
      "staging 21,596 records\n",
      "Loaded 21,596 of 21,596 relationships\n",
      "CPU times: user 252 ms, sys: 530 µs, total: 253 ms\n",
      "Wall time: 1.14 s\n"
     ]
    }
   ],
   "source": [
    "%%time\n",
    "load_rels(gds, article_df[['articleId', 'productCode']], source_target_labels=('Article', 'Product'),\n",
    "          source_node_key='articleId',target_node_key='productCode',\n",
    "          rel_type='VARIANT_OF')"
   ]
  },
  {
   "cell_type": "code",
   "execution_count": 39,
   "metadata": {
    "collapsed": false,
    "jupyter": {
     "outputs_hidden": false
    }
   },
   "outputs": [
    {
     "name": "stdout",
     "output_type": "stream",
     "text": [
      "======  loading PURCHASED relationships  ======\n",
      "staging 48,064 records\n",
      "Loaded 48,064 of 48,064 relationships\n",
      "CPU times: user 1.43 s, sys: 0 ns, total: 1.43 s\n",
      "Wall time: 3.46 s\n"
     ]
    }
   ],
   "source": [
    "%%time\n",
    "load_rels(gds, transaction_df, source_target_labels=('Customer', 'Article'),\n",
    "          source_node_key='customerId', target_node_key='articleId',\n",
    "          rel_type='PURCHASED')"
   ]
  },
  {
   "cell_type": "markdown",
   "metadata": {},
   "source": [
    "## Text Embedding Loading\n",
    "For now we will embed a concatenation of product fields (name, type, group, and descrption)."
   ]
  },
  {
   "cell_type": "code",
   "execution_count": 40,
   "metadata": {
    "collapsed": false,
    "jupyter": {
     "outputs_hidden": false
    }
   },
   "outputs": [],
   "source": [
    "from langchain.embeddings import OpenAIEmbeddings, BedrockEmbeddings, SentenceTransformerEmbeddings"
   ]
  },
  {
   "cell_type": "code",
   "execution_count": 41,
   "metadata": {
    "collapsed": false,
    "jupyter": {
     "outputs_hidden": false
    }
   },
   "outputs": [],
   "source": [
    "def load_embedding_model(embedding_model_name: str):\n",
    "    if embedding_model_name == \"openai\":\n",
    "        embeddings = OpenAIEmbeddings()\n",
    "        dimension = 1536\n",
    "    elif embedding_model_name == \"aws\":\n",
    "        embeddings = BedrockEmbeddings()\n",
    "        dimension = 1536\n",
    "    else:\n",
    "        embeddings = SentenceTransformerEmbeddings(\n",
    "            model_name=\"all-MiniLM-L6-v2\", cache_folder=\"/embedding_model\"\n",
    "        )\n",
    "        dimension = 384\n",
    "    return embeddings, dimension"
   ]
  },
  {
   "cell_type": "code",
   "execution_count": 42,
   "metadata": {
    "collapsed": false,
    "jupyter": {
     "outputs_hidden": false
    }
   },
   "outputs": [],
   "source": [
    "embedding_model, dimension = load_embedding_model(os.getenv('EMBEDDING_MODEL'))"
   ]
  },
  {
   "cell_type": "code",
   "execution_count": 43,
   "metadata": {
    "collapsed": false,
    "jupyter": {
     "outputs_hidden": false
    }
   },
   "outputs": [],
   "source": [
    "product_emb_df = product_df[['productCode', 'prodName', 'productTypeName', 'garmentGroupName', 'detailDesc']]\n",
    "product_emb_df = product_emb_df[product_emb_df.detailDesc.notnull()]"
   ]
  },
  {
   "cell_type": "code",
   "execution_count": 44,
   "metadata": {
    "collapsed": false,
    "jupyter": {
     "outputs_hidden": false
    }
   },
   "outputs": [
    {
     "data": {
      "text/html": [
       "<div>\n",
       "<style scoped>\n",
       "    .dataframe tbody tr th:only-of-type {\n",
       "        vertical-align: middle;\n",
       "    }\n",
       "\n",
       "    .dataframe tbody tr th {\n",
       "        vertical-align: top;\n",
       "    }\n",
       "\n",
       "    .dataframe thead th {\n",
       "        text-align: right;\n",
       "    }\n",
       "</style>\n",
       "<table border=\"1\" class=\"dataframe\">\n",
       "  <thead>\n",
       "    <tr style=\"text-align: right;\">\n",
       "      <th></th>\n",
       "      <th>productCode</th>\n",
       "      <th>doc</th>\n",
       "    </tr>\n",
       "  </thead>\n",
       "  <tbody>\n",
       "    <tr>\n",
       "      <th>0</th>\n",
       "      <td>108775</td>\n",
       "      <td>\\nName: Strap top\\nType: Vest top\\nGroup: Jers...</td>\n",
       "    </tr>\n",
       "    <tr>\n",
       "      <th>3</th>\n",
       "      <td>110065</td>\n",
       "      <td>\\nName: OP T-shirt (Idro)\\nType: Bra\\nGroup: U...</td>\n",
       "    </tr>\n",
       "    <tr>\n",
       "      <th>6</th>\n",
       "      <td>111565</td>\n",
       "      <td>\\nName: 20 den 1p Stockings\\nType: Underwear T...</td>\n",
       "    </tr>\n",
       "    <tr>\n",
       "      <th>8</th>\n",
       "      <td>111586</td>\n",
       "      <td>\\nName: Shape Up 30 den 1p Tights\\nType: Leggi...</td>\n",
       "    </tr>\n",
       "    <tr>\n",
       "      <th>9</th>\n",
       "      <td>111593</td>\n",
       "      <td>\\nName: Support 40 den 1p Tights\\nType: Underw...</td>\n",
       "    </tr>\n",
       "    <tr>\n",
       "      <th>...</th>\n",
       "      <td>...</td>\n",
       "      <td>...</td>\n",
       "    </tr>\n",
       "    <tr>\n",
       "      <th>105395</th>\n",
       "      <td>939927</td>\n",
       "      <td>\\nName: Dolphin\\nType: Dress\\nGroup: Dresses L...</td>\n",
       "    </tr>\n",
       "    <tr>\n",
       "      <th>105444</th>\n",
       "      <td>942187</td>\n",
       "      <td>\\nName: ED Sasha tee\\nType: T-shirt\\nGroup: Je...</td>\n",
       "    </tr>\n",
       "    <tr>\n",
       "      <th>105493</th>\n",
       "      <td>946282</td>\n",
       "      <td>\\nName: Linnea dress\\nType: Dress\\nGroup: Dres...</td>\n",
       "    </tr>\n",
       "    <tr>\n",
       "      <th>105520</th>\n",
       "      <td>947599</td>\n",
       "      <td>\\nName: ED Duno 2p.\\nType: Top\\nGroup: Jersey ...</td>\n",
       "    </tr>\n",
       "    <tr>\n",
       "      <th>105536</th>\n",
       "      <td>952938</td>\n",
       "      <td>\\nName: Elton top\\nType: Top\\nGroup: Jersey Fa...</td>\n",
       "    </tr>\n",
       "  </tbody>\n",
       "</table>\n",
       "<p>12021 rows × 2 columns</p>\n",
       "</div>"
      ],
      "text/plain": [
       "        productCode                                                doc\n",
       "0            108775  \\nName: Strap top\\nType: Vest top\\nGroup: Jers...\n",
       "3            110065  \\nName: OP T-shirt (Idro)\\nType: Bra\\nGroup: U...\n",
       "6            111565  \\nName: 20 den 1p Stockings\\nType: Underwear T...\n",
       "8            111586  \\nName: Shape Up 30 den 1p Tights\\nType: Leggi...\n",
       "9            111593  \\nName: Support 40 den 1p Tights\\nType: Underw...\n",
       "...             ...                                                ...\n",
       "105395       939927  \\nName: Dolphin\\nType: Dress\\nGroup: Dresses L...\n",
       "105444       942187  \\nName: ED Sasha tee\\nType: T-shirt\\nGroup: Je...\n",
       "105493       946282  \\nName: Linnea dress\\nType: Dress\\nGroup: Dres...\n",
       "105520       947599  \\nName: ED Duno 2p.\\nType: Top\\nGroup: Jersey ...\n",
       "105536       952938  \\nName: Elton top\\nType: Top\\nGroup: Jersey Fa...\n",
       "\n",
       "[12021 rows x 2 columns]"
      ]
     },
     "execution_count": 44,
     "metadata": {},
     "output_type": "execute_result"
    }
   ],
   "source": [
    "def create_doc(row):\n",
    "    return f'''\n",
    "Name: {row.prodName}\n",
    "Type: {row.productTypeName}\n",
    "Group: {row.garmentGroupName}\n",
    "Description: {row.detailDesc}\n",
    "'''\n",
    "\n",
    "product_emb_df['doc'] = product_emb_df.apply(create_doc, axis=1)\n",
    "product_emb_df = product_emb_df.drop(columns=['prodName', 'productTypeName', 'garmentGroupName', 'detailDesc'])\n",
    "product_emb_df"
   ]
  },
  {
   "cell_type": "code",
   "execution_count": 45,
   "metadata": {
    "collapsed": false,
    "jupyter": {
     "outputs_hidden": false
    }
   },
   "outputs": [
    {
     "name": "stdout",
     "output_type": "stream",
     "text": [
      "Embedded 200 of 12021\n",
      "Embedded 400 of 12021\n",
      "Embedded 600 of 12021\n",
      "Embedded 800 of 12021\n",
      "Embedded 1000 of 12021\n",
      "Embedded 1200 of 12021\n",
      "Embedded 1400 of 12021\n",
      "Embedded 1600 of 12021\n",
      "Embedded 1800 of 12021\n",
      "Embedded 2000 of 12021\n",
      "Embedded 2200 of 12021\n",
      "Embedded 2400 of 12021\n",
      "Embedded 2600 of 12021\n",
      "Embedded 2800 of 12021\n",
      "Embedded 3000 of 12021\n",
      "Embedded 3200 of 12021\n",
      "Embedded 3400 of 12021\n",
      "Embedded 3600 of 12021\n",
      "Embedded 3800 of 12021\n",
      "Embedded 4000 of 12021\n",
      "Embedded 4200 of 12021\n",
      "Embedded 4400 of 12021\n",
      "Embedded 4600 of 12021\n",
      "Embedded 4800 of 12021\n",
      "Embedded 5000 of 12021\n",
      "Embedded 5200 of 12021\n",
      "Embedded 5400 of 12021\n",
      "Embedded 5600 of 12021\n",
      "Embedded 5800 of 12021\n",
      "Embedded 6000 of 12021\n",
      "Embedded 6200 of 12021\n",
      "Embedded 6400 of 12021\n",
      "Embedded 6600 of 12021\n",
      "Embedded 6800 of 12021\n",
      "Embedded 7000 of 12021\n",
      "Embedded 7200 of 12021\n",
      "Embedded 7400 of 12021\n",
      "Embedded 7600 of 12021\n"
     ]
    },
    {
     "name": "stderr",
     "output_type": "stream",
     "text": [
      "Retrying langchain.embeddings.openai.embed_with_retry.<locals>._embed_with_retry in 4.0 seconds as it raised APIError: The server had an error while processing your request. Sorry about that! You can retry your request, or contact us through our help center at help.openai.com if the error persists. (Please include the request ID 99d77f92b53f790c51dfd29ef0a1aa0a in your message.) {\n",
      "  \"error\": {\n",
      "    \"message\": \"The server had an error while processing your request. Sorry about that! You can retry your request, or contact us through our help center at help.openai.com if the error persists. (Please include the request ID 99d77f92b53f790c51dfd29ef0a1aa0a in your message.)\",\n",
      "    \"type\": \"server_error\",\n",
      "    \"param\": null,\n",
      "    \"code\": null\n",
      "  }\n",
      "}\n",
      " 500 {'error': {'message': 'The server had an error while processing your request. Sorry about that! You can retry your request, or contact us through our help center at help.openai.com if the error persists. (Please include the request ID 99d77f92b53f790c51dfd29ef0a1aa0a in your message.)', 'type': 'server_error', 'param': None, 'code': None}} {'Date': 'Thu, 26 Oct 2023 17:02:04 GMT', 'Content-Type': 'application/json', 'Content-Length': '366', 'Connection': 'keep-alive', 'access-control-allow-origin': '*', 'openai-organization': 'user-1fxcj0dlovi7mxap8j0vub2h', 'openai-processing-ms': '30007', 'openai-version': '2020-10-01', 'strict-transport-security': 'max-age=15724800; includeSubDomains', 'x-ratelimit-limit-requests': '3000', 'x-ratelimit-limit-tokens': '1000000', 'x-ratelimit-remaining-requests': '2999', 'x-ratelimit-remaining-tokens': '999950', 'x-ratelimit-reset-requests': '20ms', 'x-ratelimit-reset-tokens': '3ms', 'x-request-id': '99d77f92b53f790c51dfd29ef0a1aa0a', 'CF-Cache-Status': 'DYNAMIC', 'Server': 'cloudflare', 'CF-RAY': '81c44311cdc427b3-SEA', 'alt-svc': 'h3=\":443\"; ma=86400'}.\n"
     ]
    },
    {
     "name": "stdout",
     "output_type": "stream",
     "text": [
      "Embedded 7800 of 12021\n",
      "Embedded 8000 of 12021\n",
      "Embedded 8200 of 12021\n",
      "Embedded 8400 of 12021\n",
      "Embedded 8600 of 12021\n",
      "Embedded 8800 of 12021\n",
      "Embedded 9000 of 12021\n",
      "Embedded 9200 of 12021\n",
      "Embedded 9400 of 12021\n",
      "Embedded 9600 of 12021\n",
      "Embedded 9800 of 12021\n",
      "Embedded 10000 of 12021\n",
      "Embedded 10200 of 12021\n",
      "Embedded 10400 of 12021\n",
      "Embedded 10600 of 12021\n",
      "Embedded 10800 of 12021\n",
      "Embedded 11000 of 12021\n",
      "Embedded 11200 of 12021\n",
      "Embedded 11400 of 12021\n",
      "Embedded 11600 of 12021\n",
      "Embedded 11800 of 12021\n",
      "Embedded 12000 of 12021\n",
      "CPU times: user 19.1 s, sys: 1.3 s, total: 20.4 s\n",
      "Wall time: 50min 14s\n"
     ]
    }
   ],
   "source": [
    "%%time\n",
    "\n",
    "#Yeah....we should do this in batching/chunks...I think there is a way with langchain\n",
    "count = 0\n",
    "embeddings = []\n",
    "for txt in product_emb_df.doc:\n",
    "    count += 1\n",
    "    if count%200 == 0:\n",
    "       print(f'Embedded {count} of {product_emb_df.shape[0]}')\n",
    "    embeddings.append(embedding_model.embed_query(txt))"
   ]
  },
  {
   "cell_type": "code",
   "execution_count": 46,
   "metadata": {
    "collapsed": false,
    "jupyter": {
     "outputs_hidden": false
    }
   },
   "outputs": [],
   "source": [
    "product_emb_df['textEmbedding'] = embeddings"
   ]
  },
  {
   "cell_type": "code",
   "execution_count": 47,
   "metadata": {
    "collapsed": false,
    "jupyter": {
     "outputs_hidden": false
    }
   },
   "outputs": [
    {
     "name": "stdout",
     "output_type": "stream",
     "text": [
      "======  loading Product nodes  ======\n",
      "staging 12,021 records\n",
      "Loaded 12,021 of 12,021 nodes\n",
      "CPU times: user 36.6 s, sys: 451 ms, total: 37.1 s\n",
      "Wall time: 43.6 s\n"
     ]
    }
   ],
   "source": [
    "%%time\n",
    "load_nodes(gds, product_emb_df[['productCode', 'textEmbedding']], 'productCode', 'Product')"
   ]
  },
  {
   "cell_type": "code",
   "execution_count": 48,
   "metadata": {
    "collapsed": false,
    "jupyter": {
     "outputs_hidden": false
    }
   },
   "outputs": [
    {
     "data": {
      "text/html": [
       "<div>\n",
       "<style scoped>\n",
       "    .dataframe tbody tr th:only-of-type {\n",
       "        vertical-align: middle;\n",
       "    }\n",
       "\n",
       "    .dataframe tbody tr th {\n",
       "        vertical-align: top;\n",
       "    }\n",
       "\n",
       "    .dataframe thead th {\n",
       "        text-align: right;\n",
       "    }\n",
       "</style>\n",
       "<table border=\"1\" class=\"dataframe\">\n",
       "  <thead>\n",
       "    <tr style=\"text-align: right;\">\n",
       "      <th></th>\n",
       "    </tr>\n",
       "  </thead>\n",
       "  <tbody>\n",
       "  </tbody>\n",
       "</table>\n",
       "</div>"
      ],
      "text/plain": [
       "Empty DataFrame\n",
       "Columns: []\n",
       "Index: []"
      ]
     },
     "execution_count": 48,
     "metadata": {},
     "output_type": "execute_result"
    }
   ],
   "source": [
    "gds.run_cypher(f'CALL db.index.vector.createNodeIndex(\"product-text-embeddings\", \"Product\", \"textEmbedding\", {dimension}, \"cosine\")')"
   ]
  },
  {
   "cell_type": "code",
   "execution_count": 50,
   "metadata": {},
   "outputs": [],
   "source": [
    "# Save in case we want it again\n",
    "product_emb_df.to_csv('product_emb.csv', index=False)"
   ]
  },
  {
   "cell_type": "markdown",
   "metadata": {},
   "source": [
    "## Convert Transaction Dates\n",
    "We should have probably done this earlier...these need to be converted from string to date"
   ]
  },
  {
   "cell_type": "code",
   "execution_count": 51,
   "metadata": {},
   "outputs": [
    {
     "data": {
      "text/html": [
       "<div>\n",
       "<style scoped>\n",
       "    .dataframe tbody tr th:only-of-type {\n",
       "        vertical-align: middle;\n",
       "    }\n",
       "\n",
       "    .dataframe tbody tr th {\n",
       "        vertical-align: top;\n",
       "    }\n",
       "\n",
       "    .dataframe thead th {\n",
       "        text-align: right;\n",
       "    }\n",
       "</style>\n",
       "<table border=\"1\" class=\"dataframe\">\n",
       "  <thead>\n",
       "    <tr style=\"text-align: right;\">\n",
       "      <th></th>\n",
       "    </tr>\n",
       "  </thead>\n",
       "  <tbody>\n",
       "  </tbody>\n",
       "</table>\n",
       "</div>"
      ],
      "text/plain": [
       "Empty DataFrame\n",
       "Columns: []\n",
       "Index: []"
      ]
     },
     "execution_count": 51,
     "metadata": {},
     "output_type": "execute_result"
    }
   ],
   "source": [
    "gds.run_cypher('''\n",
    "MATCH (:Customer)-[r:PURCHASED]->()\n",
    "SET r.tDat = date(r.tDat)\n",
    "''')"
   ]
  },
  {
   "cell_type": "code",
   "execution_count": null,
   "metadata": {},
   "outputs": [],
   "source": []
  }
 ],
 "metadata": {
  "environment": {
   "kernel": "python3",
   "name": "pytorch-gpu.1-13.m108",
   "type": "gcloud",
   "uri": "gcr.io/deeplearning-platform-release/pytorch-gpu.1-13:m108"
  },
  "kernelspec": {
   "display_name": "Python 3",
   "language": "python",
   "name": "python3"
  },
  "language_info": {
   "codemirror_mode": {
    "name": "ipython",
    "version": 3
   },
   "file_extension": ".py",
   "mimetype": "text/x-python",
   "name": "python",
   "nbconvert_exporter": "python",
   "pygments_lexer": "ipython3",
   "version": "3.10.10"
  }
 },
 "nbformat": 4,
 "nbformat_minor": 4
}
