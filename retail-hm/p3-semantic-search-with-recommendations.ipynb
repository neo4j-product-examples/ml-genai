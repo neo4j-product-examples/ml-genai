{
 "cells": [
  {
   "cell_type": "markdown",
   "source": [
    "# Semantic Search with Recommendations\n"
   ],
   "metadata": {
    "collapsed": false
   }
  },
  {
   "cell_type": "markdown",
   "source": [
    "## Setup"
   ],
   "metadata": {
    "collapsed": false
   }
  },
  {
   "cell_type": "code",
   "execution_count": 2,
   "outputs": [
    {
     "data": {
      "text/plain": "'1.8'"
     },
     "execution_count": 2,
     "metadata": {},
     "output_type": "execute_result"
    }
   ],
   "source": [
    "import graphdatascience\n",
    "graphdatascience.__version__"
   ],
   "metadata": {
    "collapsed": false
   }
  },
  {
   "cell_type": "code",
   "execution_count": 3,
   "outputs": [],
   "source": [
    "from graphdatascience import GraphDataScience\n",
    "from dotenv import load_dotenv\n",
    "import os\n",
    "import pandas as pd\n",
    "from langchain.embeddings import OpenAIEmbeddings, BedrockEmbeddings, SentenceTransformerEmbeddings"
   ],
   "metadata": {
    "collapsed": false
   }
  },
  {
   "cell_type": "code",
   "execution_count": 4,
   "outputs": [
    {
     "data": {
      "text/plain": "True"
     },
     "execution_count": 4,
     "metadata": {},
     "output_type": "execute_result"
    }
   ],
   "source": [
    "load_dotenv('.env', override=True)"
   ],
   "metadata": {
    "collapsed": false
   }
  },
  {
   "cell_type": "code",
   "execution_count": 5,
   "outputs": [],
   "source": [
    "def load_embedding_model(embedding_model_name: str):\n",
    "    if embedding_model_name == \"openai\":\n",
    "        embeddings = OpenAIEmbeddings()\n",
    "        dimension = 1536\n",
    "    elif embedding_model_name == \"aws\":\n",
    "        embeddings = BedrockEmbeddings()\n",
    "        dimension = 1536\n",
    "    else:\n",
    "        embeddings = SentenceTransformerEmbeddings(\n",
    "            model_name=\"all-MiniLM-L6-v2\", cache_folder=\"/embedding_model\"\n",
    "        )\n",
    "        dimension = 384\n",
    "    return embeddings, dimension"
   ],
   "metadata": {
    "collapsed": false
   }
  },
  {
   "cell_type": "code",
   "execution_count": 6,
   "outputs": [],
   "source": [
    "embedding_model, dimension = load_embedding_model(os.getenv('EMBEDDING_MODEL'))"
   ],
   "metadata": {
    "collapsed": false
   }
  },
  {
   "cell_type": "code",
   "execution_count": 7,
   "outputs": [],
   "source": [
    "# Use Neo4j URI and credentials according to our setup\n",
    "gds = GraphDataScience(\n",
    "    os.getenv('NEO4J_URI'),\n",
    "    auth=(os.getenv('NEO4J_USERNAME'),\n",
    "          os.getenv('NEO4J_PASSWORD')),\n",
    "    aura_ds=eval(os.getenv('AURA_DS').title()))\n",
    "\n",
    "# Necessary if you enabled Arrow on the db - this is true for AuraDS\n",
    "gds.set_database(\"neo4j\")"
   ],
   "metadata": {
    "collapsed": false
   }
  },
  {
   "cell_type": "code",
   "execution_count": 8,
   "outputs": [
    {
     "data": {
      "text/plain": "'2.5.1+39'"
     },
     "execution_count": 8,
     "metadata": {},
     "output_type": "execute_result"
    }
   ],
   "source": [
    "gds.version()"
   ],
   "metadata": {
    "collapsed": false
   }
  },
  {
   "cell_type": "markdown",
   "source": [
    "## Simple Vector Search\n",
    "\n",
    "Basic product search using vector index"
   ],
   "metadata": {
    "collapsed": false
   }
  },
  {
   "cell_type": "code",
   "execution_count": 39,
   "outputs": [],
   "source": [
    "#search_prompt = 'denim jeans, loose fit, high-waist'\n",
    "search_prompt = 'winter sweater with zipper'"
   ],
   "metadata": {
    "collapsed": false
   }
  },
  {
   "cell_type": "code",
   "execution_count": 40,
   "outputs": [
    {
     "name": "stdout",
     "output_type": "stream",
     "text": [
      "query vector length: 1536\n",
      "query vector sample: [-0.015801964355454827, -0.016015505446318423, -0.0007494756150188125, -0.020686693525895174, -0.025878386617468073, 0.013920143271106442, -0.009462494419748136, -0.010056402551914138, 0.0030112485454235807, -0.01943214613632958]\n"
     ]
    }
   ],
   "source": [
    "query_vector = embedding_model.embed_query(search_prompt)\n",
    "print(f'query vector length: {len(query_vector)}')\n",
    "print(f'query vector sample: {query_vector[:10]}')"
   ],
   "metadata": {
    "collapsed": false
   }
  },
  {
   "cell_type": "code",
   "execution_count": 41,
   "outputs": [],
   "source": [
    "res_df = gds.run_cypher('''\n",
    "CALL db.index.vector.queryNodes(\"product-text-embeddings\", 10, $queryVector)\n",
    "YIELD node AS product, score\n",
    "RETURN product.prodName AS prodName,\n",
    "    product.productTypeName AS productTypeName,\n",
    "    product.garmentGroupName AS garmentGroupName,\n",
    "    product.detailDesc AS detailDesc,\n",
    "    score\n",
    "    ORDER BY score DESC\n",
    "''', params={'queryVector': query_vector})"
   ],
   "metadata": {
    "collapsed": false
   }
  },
  {
   "cell_type": "code",
   "execution_count": 42,
   "outputs": [
    {
     "name": "stdout",
     "output_type": "stream",
     "text": [
      "User Search Prompt: \"winter sweater with zipper\"\n",
      "\n",
      "\n",
      "Search Results:\n",
      "\n"
     ]
    },
    {
     "data": {
      "text/plain": "                  prodName productTypeName garmentGroupName  \\\n0              Catfish Zip         Sweater         Knitwear   \n1             Yolo Zip L/S         Sweater         Knitwear   \n2           Ben zip hoodie         Sweater         Knitwear   \n3  BANANA HALF ZIP SWEATER         Sweater         Knitwear   \n4   Raven Half Zip Sweater         Sweater     Jersey Fancy   \n5         Southern Sweater         Sweater         Knitwear   \n6   Zorro half-zip sweater         Sweater     Jersey Basic   \n7  BAY BLOCK STRIPE ZIP-UP         Sweater         Knitwear   \n8              Yolo Zip LS         Sweater         Knitwear   \n9      Håkan half zip knit         Sweater         Knitwear   \n\n                                          detailDesc     score  \n0  Soft, textured-knit jumper with a ribbed stand...  0.933456  \n1  Jumper in a soft, rib knit with a stand-up col...  0.931803  \n2  Fine-knit jacket in a soft viscose blend with ...  0.931028  \n3  Jumper in a soft rib knit with a high stand-up...  0.930956  \n4  Sports top in stretch, fast-drying functional ...  0.930461  \n5  Jumper in a soft rib knit with pointelle detai...  0.929188  \n6  Short top in sweatshirt fabric with a high, ri...  0.928707  \n7  Jumper in a soft, fine-knit modal and cotton b...  0.928681  \n8  Fitted jumper in a soft, rib knit with a turtl...  0.927683  \n9  Jumper in a soft cotton knit with a high, ribb...  0.927475  ",
      "text/html": "<div>\n<style scoped>\n    .dataframe tbody tr th:only-of-type {\n        vertical-align: middle;\n    }\n\n    .dataframe tbody tr th {\n        vertical-align: top;\n    }\n\n    .dataframe thead th {\n        text-align: right;\n    }\n</style>\n<table border=\"1\" class=\"dataframe\">\n  <thead>\n    <tr style=\"text-align: right;\">\n      <th></th>\n      <th>prodName</th>\n      <th>productTypeName</th>\n      <th>garmentGroupName</th>\n      <th>detailDesc</th>\n      <th>score</th>\n    </tr>\n  </thead>\n  <tbody>\n    <tr>\n      <th>0</th>\n      <td>Catfish Zip</td>\n      <td>Sweater</td>\n      <td>Knitwear</td>\n      <td>Soft, textured-knit jumper with a ribbed stand...</td>\n      <td>0.933456</td>\n    </tr>\n    <tr>\n      <th>1</th>\n      <td>Yolo Zip L/S</td>\n      <td>Sweater</td>\n      <td>Knitwear</td>\n      <td>Jumper in a soft, rib knit with a stand-up col...</td>\n      <td>0.931803</td>\n    </tr>\n    <tr>\n      <th>2</th>\n      <td>Ben zip hoodie</td>\n      <td>Sweater</td>\n      <td>Knitwear</td>\n      <td>Fine-knit jacket in a soft viscose blend with ...</td>\n      <td>0.931028</td>\n    </tr>\n    <tr>\n      <th>3</th>\n      <td>BANANA HALF ZIP SWEATER</td>\n      <td>Sweater</td>\n      <td>Knitwear</td>\n      <td>Jumper in a soft rib knit with a high stand-up...</td>\n      <td>0.930956</td>\n    </tr>\n    <tr>\n      <th>4</th>\n      <td>Raven Half Zip Sweater</td>\n      <td>Sweater</td>\n      <td>Jersey Fancy</td>\n      <td>Sports top in stretch, fast-drying functional ...</td>\n      <td>0.930461</td>\n    </tr>\n    <tr>\n      <th>5</th>\n      <td>Southern Sweater</td>\n      <td>Sweater</td>\n      <td>Knitwear</td>\n      <td>Jumper in a soft rib knit with pointelle detai...</td>\n      <td>0.929188</td>\n    </tr>\n    <tr>\n      <th>6</th>\n      <td>Zorro half-zip sweater</td>\n      <td>Sweater</td>\n      <td>Jersey Basic</td>\n      <td>Short top in sweatshirt fabric with a high, ri...</td>\n      <td>0.928707</td>\n    </tr>\n    <tr>\n      <th>7</th>\n      <td>BAY BLOCK STRIPE ZIP-UP</td>\n      <td>Sweater</td>\n      <td>Knitwear</td>\n      <td>Jumper in a soft, fine-knit modal and cotton b...</td>\n      <td>0.928681</td>\n    </tr>\n    <tr>\n      <th>8</th>\n      <td>Yolo Zip LS</td>\n      <td>Sweater</td>\n      <td>Knitwear</td>\n      <td>Fitted jumper in a soft, rib knit with a turtl...</td>\n      <td>0.927683</td>\n    </tr>\n    <tr>\n      <th>9</th>\n      <td>Håkan half zip knit</td>\n      <td>Sweater</td>\n      <td>Knitwear</td>\n      <td>Jumper in a soft cotton knit with a high, ribb...</td>\n      <td>0.927475</td>\n    </tr>\n  </tbody>\n</table>\n</div>"
     },
     "execution_count": 42,
     "metadata": {},
     "output_type": "execute_result"
    }
   ],
   "source": [
    "print(f'User Search Prompt: \"{search_prompt}\"\\n\\n')\n",
    "print('Search Results:\\n')\n",
    "res_df"
   ],
   "metadata": {
    "collapsed": false
   }
  },
  {
   "cell_type": "markdown",
   "source": [
    "## Recommendation Based on Search Prompt"
   ],
   "metadata": {
    "collapsed": false
   }
  },
  {
   "cell_type": "code",
   "execution_count": 43,
   "outputs": [],
   "source": [
    "search_res_df = gds.run_cypher('''\n",
    "CALL db.index.vector.queryNodes(\"product-text-embeddings\", 10, $queryVector)\n",
    "YIELD node AS product, score\n",
    "RETURN product.prodName AS prodName,\n",
    "    product.productTypeName AS productTypeName,\n",
    "    product.garmentGroupName AS garmentGroupName,\n",
    "    product.detailDesc AS detailDesc,\n",
    "    score\n",
    "    ORDER BY score DESC\n",
    "''', params={'queryVector': query_vector})"
   ],
   "metadata": {
    "collapsed": false
   }
  },
  {
   "cell_type": "code",
   "execution_count": 44,
   "outputs": [],
   "source": [
    "recommendation_res_df =gds.run_cypher('''\n",
    "CALL db.index.vector.queryNodes(\"product-text-embeddings\", 5, $queryVector)\n",
    "YIELD node AS search_res_product, score AS search_score\n",
    "MATCH(search_res_product)<-[:VARIANT_OF]-(a0)-[s:CUSTOMERS_ALSO_PURCHASED]->(a)-[:VARIANT_OF]-(p)\n",
    "WITH p.prodName AS prodName,\n",
    "    p.productTypeName AS productTypeName,\n",
    "    p.garmentGroupName AS garmentGroupName,\n",
    "    p.detailDesc AS detailDesc,\n",
    "    sum(s.score) AS aggScore,\n",
    "    sum(search_score) AS search_score\n",
    "RETURN prodName, productTypeName, garmentGroupName, search_score*aggScore AS score, detailDesc\n",
    "    ORDER BY aggScore DESC LIMIT 10\n",
    "''', params={'queryVector': query_vector})"
   ],
   "metadata": {
    "collapsed": false
   }
  },
  {
   "cell_type": "code",
   "execution_count": 45,
   "outputs": [
    {
     "name": "stdout",
     "output_type": "stream",
     "text": [
      "User Search Prompt: \"winter sweater with zipper\"\n",
      "\n",
      "\n",
      "Search Results:\n",
      "\n"
     ]
    },
    {
     "data": {
      "text/plain": "                  prodName productTypeName garmentGroupName  \\\n0              Catfish Zip         Sweater         Knitwear   \n1             Yolo Zip L/S         Sweater         Knitwear   \n2           Ben zip hoodie         Sweater         Knitwear   \n3  BANANA HALF ZIP SWEATER         Sweater         Knitwear   \n4   Raven Half Zip Sweater         Sweater     Jersey Fancy   \n5         Southern Sweater         Sweater         Knitwear   \n6   Zorro half-zip sweater         Sweater     Jersey Basic   \n7  BAY BLOCK STRIPE ZIP-UP         Sweater         Knitwear   \n8              Yolo Zip LS         Sweater         Knitwear   \n9      Håkan half zip knit         Sweater         Knitwear   \n\n                                          detailDesc     score  \n0  Soft, textured-knit jumper with a ribbed stand...  0.933456  \n1  Jumper in a soft, rib knit with a stand-up col...  0.931803  \n2  Fine-knit jacket in a soft viscose blend with ...  0.931028  \n3  Jumper in a soft rib knit with a high stand-up...  0.930956  \n4  Sports top in stretch, fast-drying functional ...  0.930461  \n5  Jumper in a soft rib knit with pointelle detai...  0.929188  \n6  Short top in sweatshirt fabric with a high, ri...  0.928707  \n7  Jumper in a soft, fine-knit modal and cotton b...  0.928681  \n8  Fitted jumper in a soft, rib knit with a turtl...  0.927683  \n9  Jumper in a soft cotton knit with a high, ribb...  0.927475  ",
      "text/html": "<div>\n<style scoped>\n    .dataframe tbody tr th:only-of-type {\n        vertical-align: middle;\n    }\n\n    .dataframe tbody tr th {\n        vertical-align: top;\n    }\n\n    .dataframe thead th {\n        text-align: right;\n    }\n</style>\n<table border=\"1\" class=\"dataframe\">\n  <thead>\n    <tr style=\"text-align: right;\">\n      <th></th>\n      <th>prodName</th>\n      <th>productTypeName</th>\n      <th>garmentGroupName</th>\n      <th>detailDesc</th>\n      <th>score</th>\n    </tr>\n  </thead>\n  <tbody>\n    <tr>\n      <th>0</th>\n      <td>Catfish Zip</td>\n      <td>Sweater</td>\n      <td>Knitwear</td>\n      <td>Soft, textured-knit jumper with a ribbed stand...</td>\n      <td>0.933456</td>\n    </tr>\n    <tr>\n      <th>1</th>\n      <td>Yolo Zip L/S</td>\n      <td>Sweater</td>\n      <td>Knitwear</td>\n      <td>Jumper in a soft, rib knit with a stand-up col...</td>\n      <td>0.931803</td>\n    </tr>\n    <tr>\n      <th>2</th>\n      <td>Ben zip hoodie</td>\n      <td>Sweater</td>\n      <td>Knitwear</td>\n      <td>Fine-knit jacket in a soft viscose blend with ...</td>\n      <td>0.931028</td>\n    </tr>\n    <tr>\n      <th>3</th>\n      <td>BANANA HALF ZIP SWEATER</td>\n      <td>Sweater</td>\n      <td>Knitwear</td>\n      <td>Jumper in a soft rib knit with a high stand-up...</td>\n      <td>0.930956</td>\n    </tr>\n    <tr>\n      <th>4</th>\n      <td>Raven Half Zip Sweater</td>\n      <td>Sweater</td>\n      <td>Jersey Fancy</td>\n      <td>Sports top in stretch, fast-drying functional ...</td>\n      <td>0.930461</td>\n    </tr>\n    <tr>\n      <th>5</th>\n      <td>Southern Sweater</td>\n      <td>Sweater</td>\n      <td>Knitwear</td>\n      <td>Jumper in a soft rib knit with pointelle detai...</td>\n      <td>0.929188</td>\n    </tr>\n    <tr>\n      <th>6</th>\n      <td>Zorro half-zip sweater</td>\n      <td>Sweater</td>\n      <td>Jersey Basic</td>\n      <td>Short top in sweatshirt fabric with a high, ri...</td>\n      <td>0.928707</td>\n    </tr>\n    <tr>\n      <th>7</th>\n      <td>BAY BLOCK STRIPE ZIP-UP</td>\n      <td>Sweater</td>\n      <td>Knitwear</td>\n      <td>Jumper in a soft, fine-knit modal and cotton b...</td>\n      <td>0.928681</td>\n    </tr>\n    <tr>\n      <th>8</th>\n      <td>Yolo Zip LS</td>\n      <td>Sweater</td>\n      <td>Knitwear</td>\n      <td>Fitted jumper in a soft, rib knit with a turtl...</td>\n      <td>0.927683</td>\n    </tr>\n    <tr>\n      <th>9</th>\n      <td>Håkan half zip knit</td>\n      <td>Sweater</td>\n      <td>Knitwear</td>\n      <td>Jumper in a soft cotton knit with a high, ribb...</td>\n      <td>0.927475</td>\n    </tr>\n  </tbody>\n</table>\n</div>"
     },
     "metadata": {},
     "output_type": "display_data"
    },
    {
     "name": "stdout",
     "output_type": "stream",
     "text": [
      "User May Also Be Interested In:\n",
      "\n"
     ]
    },
    {
     "data": {
      "text/plain": "                    prodName    productTypeName  \\\n0           Niffler Trousers           Trousers   \n1         SLIM PULL ON 5 PKT           Trousers   \n2        Devon basic sweater            Sweater   \n3  Sunspot Seamless Crop Top           Vest top   \n4    TVP Slim denim trousers           Trousers   \n5                    Brigita            Sweater   \n6                Don sweater            Sweater   \n7        Cool Kite anklet pk  Other accessories   \n8          Robbie Tee 9.99:-            T-shirt   \n9  LW (K) CATRIN consc cardi           Cardigan   \n\n                garmentGroupName      score  \\\n0  Woven/Jersey/Knitted mix Baby  12.908029   \n1                 Trousers Denim  12.571324   \n2                       Knitwear  12.563571   \n3                   Jersey Fancy  11.540532   \n4  Woven/Jersey/Knitted mix Baby   3.228393   \n5                       Knitwear   3.220222   \n6                       Knitwear   3.202113   \n7                    Accessories   3.189231   \n8                   Jersey Fancy   3.188948   \n9              Under-, Nightwear   3.185877   \n\n                                          detailDesc  \n0  Pull-on trousers in washed, stretch twill with...  \n1  Slim-fit, pull-on jeans in washed, superstretc...  \n2  Jumper in a soft knit with visible seams at th...  \n3  Short, fitted sports top with a racer back and...  \n4  Slim-fit jeans in washed, supersoft, stretch d...  \n5  Jumper in a soft, cable knit containing some w...  \n6  Jumper in a cable-knit cotton blend with long ...  \n7  Shiny metal chain anklets. Adjustable length 2...  \n8  T-shirt in soft cotton with contrasting colour...  \n9  Short cardigan in a soft knit containing some ...  ",
      "text/html": "<div>\n<style scoped>\n    .dataframe tbody tr th:only-of-type {\n        vertical-align: middle;\n    }\n\n    .dataframe tbody tr th {\n        vertical-align: top;\n    }\n\n    .dataframe thead th {\n        text-align: right;\n    }\n</style>\n<table border=\"1\" class=\"dataframe\">\n  <thead>\n    <tr style=\"text-align: right;\">\n      <th></th>\n      <th>prodName</th>\n      <th>productTypeName</th>\n      <th>garmentGroupName</th>\n      <th>score</th>\n      <th>detailDesc</th>\n    </tr>\n  </thead>\n  <tbody>\n    <tr>\n      <th>0</th>\n      <td>Niffler Trousers</td>\n      <td>Trousers</td>\n      <td>Woven/Jersey/Knitted mix Baby</td>\n      <td>12.908029</td>\n      <td>Pull-on trousers in washed, stretch twill with...</td>\n    </tr>\n    <tr>\n      <th>1</th>\n      <td>SLIM PULL ON 5 PKT</td>\n      <td>Trousers</td>\n      <td>Trousers Denim</td>\n      <td>12.571324</td>\n      <td>Slim-fit, pull-on jeans in washed, superstretc...</td>\n    </tr>\n    <tr>\n      <th>2</th>\n      <td>Devon basic sweater</td>\n      <td>Sweater</td>\n      <td>Knitwear</td>\n      <td>12.563571</td>\n      <td>Jumper in a soft knit with visible seams at th...</td>\n    </tr>\n    <tr>\n      <th>3</th>\n      <td>Sunspot Seamless Crop Top</td>\n      <td>Vest top</td>\n      <td>Jersey Fancy</td>\n      <td>11.540532</td>\n      <td>Short, fitted sports top with a racer back and...</td>\n    </tr>\n    <tr>\n      <th>4</th>\n      <td>TVP Slim denim trousers</td>\n      <td>Trousers</td>\n      <td>Woven/Jersey/Knitted mix Baby</td>\n      <td>3.228393</td>\n      <td>Slim-fit jeans in washed, supersoft, stretch d...</td>\n    </tr>\n    <tr>\n      <th>5</th>\n      <td>Brigita</td>\n      <td>Sweater</td>\n      <td>Knitwear</td>\n      <td>3.220222</td>\n      <td>Jumper in a soft, cable knit containing some w...</td>\n    </tr>\n    <tr>\n      <th>6</th>\n      <td>Don sweater</td>\n      <td>Sweater</td>\n      <td>Knitwear</td>\n      <td>3.202113</td>\n      <td>Jumper in a cable-knit cotton blend with long ...</td>\n    </tr>\n    <tr>\n      <th>7</th>\n      <td>Cool Kite anklet pk</td>\n      <td>Other accessories</td>\n      <td>Accessories</td>\n      <td>3.189231</td>\n      <td>Shiny metal chain anklets. Adjustable length 2...</td>\n    </tr>\n    <tr>\n      <th>8</th>\n      <td>Robbie Tee 9.99:-</td>\n      <td>T-shirt</td>\n      <td>Jersey Fancy</td>\n      <td>3.188948</td>\n      <td>T-shirt in soft cotton with contrasting colour...</td>\n    </tr>\n    <tr>\n      <th>9</th>\n      <td>LW (K) CATRIN consc cardi</td>\n      <td>Cardigan</td>\n      <td>Under-, Nightwear</td>\n      <td>3.185877</td>\n      <td>Short cardigan in a soft knit containing some ...</td>\n    </tr>\n  </tbody>\n</table>\n</div>"
     },
     "metadata": {},
     "output_type": "display_data"
    }
   ],
   "source": [
    "print(f'User Search Prompt: \"{search_prompt}\"\\n\\n')\n",
    "print('Search Results:\\n')\n",
    "display(search_res_df)\n",
    "print('User May Also Be Interested In:\\n')\n",
    "display(recommendation_res_df)"
   ],
   "metadata": {
    "collapsed": false
   }
  },
  {
   "cell_type": "code",
   "execution_count": null,
   "outputs": [],
   "source": [],
   "metadata": {
    "collapsed": false
   }
  }
 ],
 "metadata": {
  "kernelspec": {
   "display_name": "Python 3",
   "language": "python",
   "name": "python3"
  },
  "language_info": {
   "codemirror_mode": {
    "name": "ipython",
    "version": 2
   },
   "file_extension": ".py",
   "mimetype": "text/x-python",
   "name": "python",
   "nbconvert_exporter": "python",
   "pygments_lexer": "ipython2",
   "version": "2.7.6"
  }
 },
 "nbformat": 4,
 "nbformat_minor": 0
}
